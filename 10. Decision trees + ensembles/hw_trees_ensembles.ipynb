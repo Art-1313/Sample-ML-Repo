{
  "cells": [
    {
      "cell_type": "markdown",
      "metadata": {
        "id": "EADmNKm_ucFI"
      },
      "source": [
        "## Homework"
      ]
    },
    {
      "cell_type": "code",
      "execution_count": 509,
      "metadata": {
        "id": "wjurpt4KJmCh"
      },
      "outputs": [],
      "source": [
        "#!wget --no-check-certificate 'https://docs.google.com/uc?export=download&id=1OKFSv2GpuUFDphO0r8LdM7bl6MAWwBfX' -O data.csv"
      ]
    },
    {
      "cell_type": "markdown",
      "metadata": {
        "id": "UBAI5LS2xBSm"
      },
      "source": [
        "В этой домашней работе вы будете предсказывать стоимость домов по их характеристикам.\n",
        "\n",
        "Метрика качества: `RMSE`\n",
        "\n",
        "Оценивание:\n",
        "* Baseline - 2 балла\n",
        "* Feature Engineering - 2 балла\n",
        "* Model Selection - 3 балла\n",
        "* Ensemble v.1 - 3 балла\n",
        "* (*) Ensemble v.2 - дополнительно, 2 балла"
      ]
    },
    {
      "cell_type": "markdown",
      "metadata": {
        "id": "aBZhr_dw6HAn"
      },
      "source": [
        "### Описание датасета\n",
        "\n",
        "Короткое описание данных:\n",
        "```\n",
        "price: sale price (this is the target variable)\n",
        "id: transaction id\n",
        "timestamp: date of transaction\n",
        "full_sq: total area in square meters, including loggias, balconies and other non-residential areas\n",
        "life_sq: living area in square meters, excluding loggias, balconies and other non-residential areas\n",
        "floor: for apartments, floor of the building\n",
        "max_floor: number of floors in the building\n",
        "material: wall material\n",
        "build_year: year built\n",
        "num_room: number of living rooms\n",
        "kitch_sq: kitchen area\n",
        "state: apartment condition\n",
        "product_type: owner-occupier purchase or investment\n",
        "sub_area: name of the district\n",
        "\n",
        "The dataset also includes a collection of features about each property's surrounding neighbourhood, and some features that are constant across each sub area (known as a Raion). Most of the feature names are self explanatory, with the following notes. See below for a complete list.\n",
        "\n",
        "full_all: subarea population\n",
        "male_f, female_f: subarea population by gender\n",
        "young_*: population younger than working age\n",
        "work_*: working-age population\n",
        "ekder_*: retirement-age population\n",
        "n_m_{all|male|female}: population between n and m years old\n",
        "build_count_*: buildings in the subarea by construction type or year\n",
        "x_count_500: the number of x within 500m of the property\n",
        "x_part_500: the share of x within 500m of the property\n",
        "_sqm_: square meters\n",
        "cafe_count_d_price_p: number of cafes within d meters of the property that have an average bill under p RUB\n",
        "trc_: shopping malls\n",
        "prom_: industrial zones\n",
        "green_: green zones\n",
        "metro_: subway\n",
        "_avto_: distances by car\n",
        "mkad_: Moscow Circle Auto Road\n",
        "ttk_: Third Transport Ring\n",
        "sadovoe_: Garden Ring\n",
        "bulvar_ring_: Boulevard Ring\n",
        "kremlin_: City center\n",
        "zd_vokzaly_: Train station\n",
        "oil_chemistry_: Dirty industry\n",
        "ts_: Power plant\n",
        "```"
      ]
    },
    {
      "cell_type": "markdown",
      "metadata": {
        "id": "TOPtM_06uyqv"
      },
      "source": [
        "### Setup"
      ]
    },
    {
      "cell_type": "code",
      "execution_count": 510,
      "metadata": {
        "id": "9TpHMcn3u0MV"
      },
      "outputs": [],
      "source": [
        "import pandas as pd\n",
        "import numpy as np\n",
        "from sklearn.datasets import make_blobs, make_circles, make_classification, load_iris, load_digits\n",
        "from sklearn.tree import DecisionTreeRegressor\n",
        "from sklearn.ensemble import RandomForestRegressor\n",
        "from sklearn.model_selection import train_test_split, cross_val_score\n",
        "from sklearn import tree, metrics, model_selection\n",
        "import matplotlib.pyplot as plt\n",
        "from matplotlib.colors import ListedColormap\n",
        "from collections import Counter"
      ]
    },
    {
      "cell_type": "code",
      "execution_count": 511,
      "metadata": {
        "id": "-TLkVG3EwJzj"
      },
      "outputs": [],
      "source": [
        "df = pd.read_csv(\"data.csv\", parse_dates=[\"timestamp\"])"
      ]
    },
    {
      "cell_type": "markdown",
      "metadata": {
        "id": "znjwH9_mx3fZ"
      },
      "source": [
        "Разделите имеющиеся у вас данные на обучающую и тестовую выборки. В качестве обучающей выборки возьмите первые 80% данных, последние 20% - тестовая выборка."
      ]
    },
    {
      "cell_type": "code",
      "execution_count": 512,
      "metadata": {},
      "outputs": [],
      "source": [
        "df = df.dropna()"
      ]
    },
    {
      "cell_type": "code",
      "execution_count": 513,
      "metadata": {},
      "outputs": [],
      "source": [
        "X = df.drop('price', axis=1)\n",
        "y = df['price']"
      ]
    },
    {
      "cell_type": "code",
      "execution_count": 514,
      "metadata": {
        "id": "hwfNR565wMKN"
      },
      "outputs": [],
      "source": [
        "X_train, X_test, y_train, y_test = train_test_split(X, y, random_state=42)"
      ]
    },
    {
      "cell_type": "markdown",
      "metadata": {
        "id": "pL4dJJwZP86w"
      },
      "source": [
        "Возможно в ваших моделях вам придется указывать, какие колонки являются категориальными (например, в бустингах). Для упрощения предлагается разделить колонки по следующему принципу:\n",
        "```\n",
        "drop_columns = [\n",
        "    'id',           # May leak information\n",
        "    'timestamp',    # May leak information\n",
        "]\n",
        "cat_columns = [\n",
        "    'product_type',              #\n",
        "    'material',                  # Material of the wall\n",
        "    'state',                     # Satisfaction level\n",
        "    'sub_area',                  # District name\n",
        "    'culture_objects_top_25',    #\n",
        "    'thermal_power_plant_raion', #\n",
        "    'incineration_raion',        #\n",
        "    'oil_chemistry_raion',       #\n",
        "    'radiation_raion',           #\n",
        "    'railroad_terminal_raion',   #\n",
        "    'big_market_raion',          #\n",
        "    'nuclear_reactor_raion',     #\n",
        "    'detention_facility_raion',  #\n",
        "    'ID_metro',                  #\n",
        "    'ID_railroad_station_walk',  #\n",
        "    'ID_railroad_station_avto',  #\n",
        "    'water_1line',               #\n",
        "    'ID_big_road1',              #\n",
        "    'big_road1_1line',           #\n",
        "    'ID_big_road2',              #\n",
        "    'railroad_1line',            #\n",
        "    'ID_railroad_terminal',      #\n",
        "    'ID_bus_terminal',           #\n",
        "    'ecology',                   #\n",
        "]\n",
        "num_columns = list(set(df.columns).difference(set(cat_columns + drop_columns)))\n",
        "```"
      ]
    },
    {
      "cell_type": "code",
      "execution_count": 515,
      "metadata": {
        "id": "gJIDf3kn1Wfv"
      },
      "outputs": [],
      "source": [
        "drop_columns = [\n",
        "    'id',           # May leak information\n",
        "    'timestamp',    # May leak information\n",
        "]\n",
        "\n",
        "cat_columns = [\n",
        "    'product_type',              #\n",
        "    'material',                  # Material of the wall\n",
        "    'state',                     # Satisfaction level\n",
        "    'sub_area',                  # District name\n",
        "    'culture_objects_top_25',    #\n",
        "    'thermal_power_plant_raion', #\n",
        "    'incineration_raion',        #\n",
        "    'oil_chemistry_raion',       #\n",
        "    'radiation_raion',           #\n",
        "    'railroad_terminal_raion',   #\n",
        "    'big_market_raion',          #\n",
        "    'nuclear_reactor_raion',     #\n",
        "    'detention_facility_raion',  #\n",
        "    'ID_metro',                  #\n",
        "    'ID_railroad_station_walk',  #\n",
        "    'ID_railroad_station_avto',  #\n",
        "    'water_1line',               #\n",
        "    'ID_big_road1',              #\n",
        "    'big_road1_1line',           #\n",
        "    'ID_big_road2',              #\n",
        "    'railroad_1line',            #\n",
        "    'ID_railroad_terminal',      #\n",
        "    'ID_bus_terminal',           #\n",
        "    'ecology',                   #\n",
        "]\n",
        "\n",
        "target_column = ['price']\n",
        "\n",
        "num_columns = list(set(df.columns).difference(set(cat_columns + drop_columns + target_column)))"
      ]
    },
    {
      "cell_type": "markdown",
      "metadata": {
        "id": "oiOby6hNu92W"
      },
      "source": [
        "### Baseline (2 балла)\n",
        "\n",
        "В качестве Baseline обучите `DecisionTreeRegressor` из `sklearn`."
      ]
    },
    {
      "cell_type": "code",
      "execution_count": 516,
      "metadata": {},
      "outputs": [],
      "source": [
        "N = 50"
      ]
    },
    {
      "cell_type": "code",
      "execution_count": 517,
      "metadata": {},
      "outputs": [],
      "source": [
        "score0 = np.zeros(N)\n",
        "\n",
        "for n in range(N):\n",
        "    baseline_model = DecisionTreeRegressor().fit(X_train[num_columns], y_train)\n",
        "    score0[n] = metrics.mean_squared_error(y_test, baseline_model.predict(X_test[num_columns]))"
      ]
    },
    {
      "cell_type": "markdown",
      "metadata": {
        "id": "XUC7NFhw1X41"
      },
      "source": [
        "Проверьте качество на отложенной выборке."
      ]
    },
    {
      "cell_type": "code",
      "execution_count": 518,
      "metadata": {
        "id": "O_LCiQIN1bzD"
      },
      "outputs": [
        {
          "data": {
            "text/plain": [
              "24514184052482.855"
            ]
          },
          "execution_count": 518,
          "metadata": {},
          "output_type": "execute_result"
        }
      ],
      "source": [
        "score0.mean()"
      ]
    },
    {
      "cell_type": "markdown",
      "metadata": {
        "id": "3bezBBI7u_oF"
      },
      "source": [
        "### Feature Engineering (2 балла)\n",
        "\n",
        "Часто улучшить модель можно с помощью аккуратного Feature Engineering.\n",
        "\n",
        "Добавим в модель дополнительные признаки:\n",
        "* \"Как часто в этот год и этот месяц появлились объявления\"\n",
        "* \"Как часто в этот год и эту неделю появлялись объявления\""
      ]
    },
    {
      "cell_type": "code",
      "execution_count": 719,
      "metadata": {
        "id": "0f-vO3LcLhdf"
      },
      "outputs": [],
      "source": [
        "X = df.drop('price', axis=1)\n",
        "y = df['price']"
      ]
    },
    {
      "cell_type": "code",
      "execution_count": 720,
      "metadata": {
        "id": "_cJ6SBqUKC4C"
      },
      "outputs": [
        {
          "name": "stderr",
          "output_type": "stream",
          "text": [
            "/var/folders/9j/cllsf0815jl9bm0yjv_8cm400000gn/T/ipykernel_8573/3259660219.py:5: FutureWarning: Series.dt.weekofyear and Series.dt.week have been deprecated.  Please use Series.dt.isocalendar().week instead.\n",
            "  week_year = (df.timestamp.dt.weekofyear + df.timestamp.dt.year * 100)\n"
          ]
        }
      ],
      "source": [
        "month_year = (df.timestamp.dt.month + df.timestamp.dt.year * 100)\n",
        "month_year_cnt_map = month_year.value_counts().to_dict()\n",
        "X[\"month_year_cnt\"] = month_year.map(month_year_cnt_map)\n",
        "\n",
        "week_year = (df.timestamp.dt.weekofyear + df.timestamp.dt.year * 100)\n",
        "week_year_cnt_map = week_year.value_counts().to_dict()\n",
        "X[\"week_year_cnt\"] = week_year.map(week_year_cnt_map)"
      ]
    },
    {
      "cell_type": "markdown",
      "metadata": {
        "id": "pCajk45_KDSz"
      },
      "source": [
        "Добавьте следюущие дополнительные признаки:\n",
        "* Месяц (из колонки `timestamp`)\n",
        "* День недели (из колонки `timestamp`)\n",
        "* Отношение \"этаж / максимальный этаж в здании\" (колонки `floor` и `max_floor`)\n",
        "* Отношение \"площадь кухни / площадь квартиры\" (колонки `kitchen_sq` и `full_sq`)\n",
        "\n",
        "По желанию можно добавить и другие признаки."
      ]
    },
    {
      "cell_type": "code",
      "execution_count": 721,
      "metadata": {
        "id": "dXZkoUL8Kve6"
      },
      "outputs": [],
      "source": [
        "X['month'] = X.timestamp.dt.month\n",
        "X['week_day'] = X.timestamp.dt.weekday\n",
        "\n",
        "X['floor_max_floor'] = X['floor'] / X['max_floor']\n",
        "X.loc[X['floor_max_floor'] == np.inf, 'floor_max_floor'] = np.NaN\n",
        "X['floor_max_floor'] = X['floor_max_floor'].fillna(X['floor_max_floor'][X['floor_max_floor'].notna()].mean())\n",
        "\n",
        "X['kitch_full'] = X['kitch_sq'] / X['full_sq']\n",
        "X.loc[X['kitch_full'] == np.inf, 'kitch_full'] = np.NaN\n",
        "X['kitch_full'] = X['kitch_full'].fillna(X['kitch_full'][X['kitch_full'].notna()].mean())"
      ]
    },
    {
      "cell_type": "code",
      "execution_count": 722,
      "metadata": {},
      "outputs": [],
      "source": [
        "X['culture_objects_top_25_int'] = (X['culture_objects_top_25'] == 'yes')\n",
        "X['thermal_power_plant_int'] = (X['thermal_power_plant_raion'] == 'yes')\n",
        "X['incineration_raion_int'] = (X['incineration_raion'] == 'yes')\n",
        "X['oil_chemistry_raion_int'] = (X['oil_chemistry_raion'] == 'yes')\n",
        "X['radiation_raion_int'] = (X['radiation_raion'] == 'yes')\n",
        "X['railroad_terminal_raion_int'] = (X['railroad_terminal_raion'] == 'yes')\n",
        "X['big_market_raion_int'] = (X['big_market_raion'] == 'yes')\n",
        "X['nuclear_reactor_raion_int'] = (X['nuclear_reactor_raion'] == 'yes')\n",
        "X['detention_facility_raion_int'] = (X['detention_facility_raion'] == 'yes')\n",
        "X['product_type_int'] = (X['product_type'] == 'yes')"
      ]
    },
    {
      "cell_type": "code",
      "execution_count": 723,
      "metadata": {},
      "outputs": [],
      "source": [
        "try:\n",
        "    X = X.drop(['kitch_sq'], axis=1)\n",
        "except KeyError:\n",
        "    print('already deleted')"
      ]
    },
    {
      "cell_type": "markdown",
      "metadata": {
        "id": "_-jCowvWLiXZ"
      },
      "source": [
        "Разделите выборку на обучающую и тестовую еще раз (потому что дополнительные признаки созданы для исходной выборки)."
      ]
    },
    {
      "cell_type": "code",
      "execution_count": 724,
      "metadata": {},
      "outputs": [],
      "source": [
        "X_train, X_test, y_train, y_test = train_test_split(X, y, random_state=42)"
      ]
    },
    {
      "cell_type": "code",
      "execution_count": 725,
      "metadata": {},
      "outputs": [],
      "source": [
        "num_columns = list(set(X.columns).difference(set(cat_columns + drop_columns + target_column)))"
      ]
    },
    {
      "cell_type": "code",
      "execution_count": 711,
      "metadata": {},
      "outputs": [],
      "source": [
        "score1 = np.zeros(N)\n",
        "\n",
        "for n in range(N):\n",
        "    model1 = DecisionTreeRegressor().fit(X_train[num_columns], y_train)\n",
        "    score1[n] = metrics.mean_squared_error(y_test, model1.predict(X_test[num_columns]))"
      ]
    },
    {
      "cell_type": "code",
      "execution_count": 712,
      "metadata": {},
      "outputs": [
        {
          "name": "stdout",
          "output_type": "stream",
          "text": [
            "0.9671290813151279\n"
          ]
        }
      ],
      "source": [
        "print(score1.mean() / score0.mean())"
      ]
    },
    {
      "cell_type": "markdown",
      "metadata": {
        "id": "CPtzkpFEvBw9"
      },
      "source": [
        "### Model Selection (3 балла)\n",
        "\n",
        "Посмотрите, какого качества можно добиться если использовать разные модели:\n",
        "* `DecisionTreeRegressor` из `sklearn`\n",
        "* `RandomForestRegressor` из `sklearn`\n",
        "* `CatBoostRegressor`\n",
        "\n",
        "Также вы можете попробовать линейные модели, другие бустинги (`LigthGBM` и `XGBoost`).\n",
        "\n",
        "Почти все библиотеки поддерживают удобный способ подбора гиперпараметров: посмотрите как это делать в [sklearn](https://scikit-learn.org/stable/modules/generated/sklearn.model_selection.GridSearchCV.html) или в [catboost](https://catboost.ai/docs/concepts/python-reference_catboostregressor_grid_search.html).\n",
        "\n",
        "Проверяйте качество каждой модели на тестовой выборке и выберите наилучшую."
      ]
    },
    {
      "cell_type": "code",
      "execution_count": 730,
      "metadata": {
        "id": "PZstXx6uNRfE"
      },
      "outputs": [
        {
          "name": "stderr",
          "output_type": "stream",
          "text": [
            "/opt/homebrew/lib/python3.9/site-packages/sklearn/model_selection/_validation.py:770: UserWarning: Scoring failed. The score on this train-test partition for these parameters will be set to nan. Details: \n",
            "Traceback (most recent call last):\n",
            "  File \"/opt/homebrew/lib/python3.9/site-packages/sklearn/model_selection/_validation.py\", line 761, in _score\n",
            "    scores = scorer(estimator, X_test, y_test)\n",
            "TypeError: mean_squared_error() takes 2 positional arguments but 3 were given\n",
            "\n",
            "  warnings.warn(\n",
            "/opt/homebrew/lib/python3.9/site-packages/sklearn/model_selection/_validation.py:770: UserWarning: Scoring failed. The score on this train-test partition for these parameters will be set to nan. Details: \n",
            "Traceback (most recent call last):\n",
            "  File \"/opt/homebrew/lib/python3.9/site-packages/sklearn/model_selection/_validation.py\", line 761, in _score\n",
            "    scores = scorer(estimator, X_test, y_test)\n",
            "TypeError: mean_squared_error() takes 2 positional arguments but 3 were given\n",
            "\n",
            "  warnings.warn(\n",
            "/opt/homebrew/lib/python3.9/site-packages/sklearn/model_selection/_validation.py:770: UserWarning: Scoring failed. The score on this train-test partition for these parameters will be set to nan. Details: \n",
            "Traceback (most recent call last):\n",
            "  File \"/opt/homebrew/lib/python3.9/site-packages/sklearn/model_selection/_validation.py\", line 761, in _score\n",
            "    scores = scorer(estimator, X_test, y_test)\n",
            "TypeError: mean_squared_error() takes 2 positional arguments but 3 were given\n",
            "\n",
            "  warnings.warn(\n",
            "/opt/homebrew/lib/python3.9/site-packages/sklearn/model_selection/_validation.py:770: UserWarning: Scoring failed. The score on this train-test partition for these parameters will be set to nan. Details: \n",
            "Traceback (most recent call last):\n",
            "  File \"/opt/homebrew/lib/python3.9/site-packages/sklearn/model_selection/_validation.py\", line 761, in _score\n",
            "    scores = scorer(estimator, X_test, y_test)\n",
            "TypeError: mean_squared_error() takes 2 positional arguments but 3 were given\n",
            "\n",
            "  warnings.warn(\n",
            "/opt/homebrew/lib/python3.9/site-packages/sklearn/model_selection/_validation.py:770: UserWarning: Scoring failed. The score on this train-test partition for these parameters will be set to nan. Details: \n",
            "Traceback (most recent call last):\n",
            "  File \"/opt/homebrew/lib/python3.9/site-packages/sklearn/model_selection/_validation.py\", line 761, in _score\n",
            "    scores = scorer(estimator, X_test, y_test)\n",
            "TypeError: mean_squared_error() takes 2 positional arguments but 3 were given\n",
            "\n",
            "  warnings.warn(\n",
            "/opt/homebrew/lib/python3.9/site-packages/sklearn/model_selection/_validation.py:770: UserWarning: Scoring failed. The score on this train-test partition for these parameters will be set to nan. Details: \n",
            "Traceback (most recent call last):\n",
            "  File \"/opt/homebrew/lib/python3.9/site-packages/sklearn/model_selection/_validation.py\", line 761, in _score\n",
            "    scores = scorer(estimator, X_test, y_test)\n",
            "TypeError: mean_squared_error() takes 2 positional arguments but 3 were given\n",
            "\n",
            "  warnings.warn(\n",
            "/opt/homebrew/lib/python3.9/site-packages/sklearn/model_selection/_validation.py:770: UserWarning: Scoring failed. The score on this train-test partition for these parameters will be set to nan. Details: \n",
            "Traceback (most recent call last):\n",
            "  File \"/opt/homebrew/lib/python3.9/site-packages/sklearn/model_selection/_validation.py\", line 761, in _score\n",
            "    scores = scorer(estimator, X_test, y_test)\n",
            "TypeError: mean_squared_error() takes 2 positional arguments but 3 were given\n",
            "\n",
            "  warnings.warn(\n",
            "/opt/homebrew/lib/python3.9/site-packages/sklearn/model_selection/_validation.py:770: UserWarning: Scoring failed. The score on this train-test partition for these parameters will be set to nan. Details: \n",
            "Traceback (most recent call last):\n",
            "  File \"/opt/homebrew/lib/python3.9/site-packages/sklearn/model_selection/_validation.py\", line 761, in _score\n",
            "    scores = scorer(estimator, X_test, y_test)\n",
            "TypeError: mean_squared_error() takes 2 positional arguments but 3 were given\n",
            "\n",
            "  warnings.warn(\n",
            "/opt/homebrew/lib/python3.9/site-packages/sklearn/model_selection/_validation.py:770: UserWarning: Scoring failed. The score on this train-test partition for these parameters will be set to nan. Details: \n",
            "Traceback (most recent call last):\n",
            "  File \"/opt/homebrew/lib/python3.9/site-packages/sklearn/model_selection/_validation.py\", line 761, in _score\n",
            "    scores = scorer(estimator, X_test, y_test)\n",
            "TypeError: mean_squared_error() takes 2 positional arguments but 3 were given\n",
            "\n",
            "  warnings.warn(\n",
            "/opt/homebrew/lib/python3.9/site-packages/sklearn/model_selection/_validation.py:770: UserWarning: Scoring failed. The score on this train-test partition for these parameters will be set to nan. Details: \n",
            "Traceback (most recent call last):\n",
            "  File \"/opt/homebrew/lib/python3.9/site-packages/sklearn/model_selection/_validation.py\", line 761, in _score\n",
            "    scores = scorer(estimator, X_test, y_test)\n",
            "TypeError: mean_squared_error() takes 2 positional arguments but 3 were given\n",
            "\n",
            "  warnings.warn(\n",
            "/opt/homebrew/lib/python3.9/site-packages/sklearn/model_selection/_validation.py:770: UserWarning: Scoring failed. The score on this train-test partition for these parameters will be set to nan. Details: \n",
            "Traceback (most recent call last):\n",
            "  File \"/opt/homebrew/lib/python3.9/site-packages/sklearn/model_selection/_validation.py\", line 761, in _score\n",
            "    scores = scorer(estimator, X_test, y_test)\n",
            "TypeError: mean_squared_error() takes 2 positional arguments but 3 were given\n",
            "\n",
            "  warnings.warn(\n",
            "/opt/homebrew/lib/python3.9/site-packages/sklearn/model_selection/_validation.py:770: UserWarning: Scoring failed. The score on this train-test partition for these parameters will be set to nan. Details: \n",
            "Traceback (most recent call last):\n",
            "  File \"/opt/homebrew/lib/python3.9/site-packages/sklearn/model_selection/_validation.py\", line 761, in _score\n",
            "    scores = scorer(estimator, X_test, y_test)\n",
            "TypeError: mean_squared_error() takes 2 positional arguments but 3 were given\n",
            "\n",
            "  warnings.warn(\n",
            "/opt/homebrew/lib/python3.9/site-packages/sklearn/model_selection/_validation.py:770: UserWarning: Scoring failed. The score on this train-test partition for these parameters will be set to nan. Details: \n",
            "Traceback (most recent call last):\n",
            "  File \"/opt/homebrew/lib/python3.9/site-packages/sklearn/model_selection/_validation.py\", line 761, in _score\n",
            "    scores = scorer(estimator, X_test, y_test)\n",
            "TypeError: mean_squared_error() takes 2 positional arguments but 3 were given\n",
            "\n",
            "  warnings.warn(\n",
            "/opt/homebrew/lib/python3.9/site-packages/sklearn/model_selection/_validation.py:770: UserWarning: Scoring failed. The score on this train-test partition for these parameters will be set to nan. Details: \n",
            "Traceback (most recent call last):\n",
            "  File \"/opt/homebrew/lib/python3.9/site-packages/sklearn/model_selection/_validation.py\", line 761, in _score\n",
            "    scores = scorer(estimator, X_test, y_test)\n",
            "TypeError: mean_squared_error() takes 2 positional arguments but 3 were given\n",
            "\n",
            "  warnings.warn(\n",
            "/opt/homebrew/lib/python3.9/site-packages/sklearn/model_selection/_validation.py:770: UserWarning: Scoring failed. The score on this train-test partition for these parameters will be set to nan. Details: \n",
            "Traceback (most recent call last):\n",
            "  File \"/opt/homebrew/lib/python3.9/site-packages/sklearn/model_selection/_validation.py\", line 761, in _score\n",
            "    scores = scorer(estimator, X_test, y_test)\n",
            "TypeError: mean_squared_error() takes 2 positional arguments but 3 were given\n",
            "\n",
            "  warnings.warn(\n",
            "/opt/homebrew/lib/python3.9/site-packages/sklearn/model_selection/_validation.py:770: UserWarning: Scoring failed. The score on this train-test partition for these parameters will be set to nan. Details: \n",
            "Traceback (most recent call last):\n",
            "  File \"/opt/homebrew/lib/python3.9/site-packages/sklearn/model_selection/_validation.py\", line 761, in _score\n",
            "    scores = scorer(estimator, X_test, y_test)\n",
            "TypeError: mean_squared_error() takes 2 positional arguments but 3 were given\n",
            "\n",
            "  warnings.warn(\n",
            "/opt/homebrew/lib/python3.9/site-packages/sklearn/model_selection/_validation.py:770: UserWarning: Scoring failed. The score on this train-test partition for these parameters will be set to nan. Details: \n",
            "Traceback (most recent call last):\n",
            "  File \"/opt/homebrew/lib/python3.9/site-packages/sklearn/model_selection/_validation.py\", line 761, in _score\n",
            "    scores = scorer(estimator, X_test, y_test)\n",
            "TypeError: mean_squared_error() takes 2 positional arguments but 3 were given\n",
            "\n",
            "  warnings.warn(\n",
            "/opt/homebrew/lib/python3.9/site-packages/sklearn/model_selection/_validation.py:770: UserWarning: Scoring failed. The score on this train-test partition for these parameters will be set to nan. Details: \n",
            "Traceback (most recent call last):\n",
            "  File \"/opt/homebrew/lib/python3.9/site-packages/sklearn/model_selection/_validation.py\", line 761, in _score\n",
            "    scores = scorer(estimator, X_test, y_test)\n",
            "TypeError: mean_squared_error() takes 2 positional arguments but 3 were given\n",
            "\n",
            "  warnings.warn(\n",
            "/opt/homebrew/lib/python3.9/site-packages/sklearn/model_selection/_validation.py:770: UserWarning: Scoring failed. The score on this train-test partition for these parameters will be set to nan. Details: \n",
            "Traceback (most recent call last):\n",
            "  File \"/opt/homebrew/lib/python3.9/site-packages/sklearn/model_selection/_validation.py\", line 761, in _score\n",
            "    scores = scorer(estimator, X_test, y_test)\n",
            "TypeError: mean_squared_error() takes 2 positional arguments but 3 were given\n",
            "\n",
            "  warnings.warn(\n",
            "/opt/homebrew/lib/python3.9/site-packages/sklearn/model_selection/_validation.py:770: UserWarning: Scoring failed. The score on this train-test partition for these parameters will be set to nan. Details: \n",
            "Traceback (most recent call last):\n",
            "  File \"/opt/homebrew/lib/python3.9/site-packages/sklearn/model_selection/_validation.py\", line 761, in _score\n",
            "    scores = scorer(estimator, X_test, y_test)\n",
            "TypeError: mean_squared_error() takes 2 positional arguments but 3 were given\n",
            "\n",
            "  warnings.warn(\n",
            "/opt/homebrew/lib/python3.9/site-packages/sklearn/model_selection/_validation.py:770: UserWarning: Scoring failed. The score on this train-test partition for these parameters will be set to nan. Details: \n",
            "Traceback (most recent call last):\n",
            "  File \"/opt/homebrew/lib/python3.9/site-packages/sklearn/model_selection/_validation.py\", line 761, in _score\n",
            "    scores = scorer(estimator, X_test, y_test)\n",
            "TypeError: mean_squared_error() takes 2 positional arguments but 3 were given\n",
            "\n",
            "  warnings.warn(\n",
            "/opt/homebrew/lib/python3.9/site-packages/sklearn/model_selection/_validation.py:770: UserWarning: Scoring failed. The score on this train-test partition for these parameters will be set to nan. Details: \n",
            "Traceback (most recent call last):\n",
            "  File \"/opt/homebrew/lib/python3.9/site-packages/sklearn/model_selection/_validation.py\", line 761, in _score\n",
            "    scores = scorer(estimator, X_test, y_test)\n",
            "TypeError: mean_squared_error() takes 2 positional arguments but 3 were given\n",
            "\n",
            "  warnings.warn(\n",
            "/opt/homebrew/lib/python3.9/site-packages/sklearn/model_selection/_validation.py:770: UserWarning: Scoring failed. The score on this train-test partition for these parameters will be set to nan. Details: \n",
            "Traceback (most recent call last):\n",
            "  File \"/opt/homebrew/lib/python3.9/site-packages/sklearn/model_selection/_validation.py\", line 761, in _score\n",
            "    scores = scorer(estimator, X_test, y_test)\n",
            "TypeError: mean_squared_error() takes 2 positional arguments but 3 were given\n",
            "\n",
            "  warnings.warn(\n",
            "/opt/homebrew/lib/python3.9/site-packages/sklearn/model_selection/_validation.py:770: UserWarning: Scoring failed. The score on this train-test partition for these parameters will be set to nan. Details: \n",
            "Traceback (most recent call last):\n",
            "  File \"/opt/homebrew/lib/python3.9/site-packages/sklearn/model_selection/_validation.py\", line 761, in _score\n",
            "    scores = scorer(estimator, X_test, y_test)\n",
            "TypeError: mean_squared_error() takes 2 positional arguments but 3 were given\n",
            "\n",
            "  warnings.warn(\n",
            "/opt/homebrew/lib/python3.9/site-packages/sklearn/model_selection/_validation.py:770: UserWarning: Scoring failed. The score on this train-test partition for these parameters will be set to nan. Details: \n",
            "Traceback (most recent call last):\n",
            "  File \"/opt/homebrew/lib/python3.9/site-packages/sklearn/model_selection/_validation.py\", line 761, in _score\n",
            "    scores = scorer(estimator, X_test, y_test)\n",
            "TypeError: mean_squared_error() takes 2 positional arguments but 3 were given\n",
            "\n",
            "  warnings.warn(\n",
            "/opt/homebrew/lib/python3.9/site-packages/sklearn/model_selection/_validation.py:770: UserWarning: Scoring failed. The score on this train-test partition for these parameters will be set to nan. Details: \n",
            "Traceback (most recent call last):\n",
            "  File \"/opt/homebrew/lib/python3.9/site-packages/sklearn/model_selection/_validation.py\", line 761, in _score\n",
            "    scores = scorer(estimator, X_test, y_test)\n",
            "TypeError: mean_squared_error() takes 2 positional arguments but 3 were given\n",
            "\n",
            "  warnings.warn(\n",
            "/opt/homebrew/lib/python3.9/site-packages/sklearn/model_selection/_validation.py:770: UserWarning: Scoring failed. The score on this train-test partition for these parameters will be set to nan. Details: \n",
            "Traceback (most recent call last):\n",
            "  File \"/opt/homebrew/lib/python3.9/site-packages/sklearn/model_selection/_validation.py\", line 761, in _score\n",
            "    scores = scorer(estimator, X_test, y_test)\n",
            "TypeError: mean_squared_error() takes 2 positional arguments but 3 were given\n",
            "\n",
            "  warnings.warn(\n",
            "/opt/homebrew/lib/python3.9/site-packages/sklearn/model_selection/_validation.py:770: UserWarning: Scoring failed. The score on this train-test partition for these parameters will be set to nan. Details: \n",
            "Traceback (most recent call last):\n",
            "  File \"/opt/homebrew/lib/python3.9/site-packages/sklearn/model_selection/_validation.py\", line 761, in _score\n",
            "    scores = scorer(estimator, X_test, y_test)\n",
            "TypeError: mean_squared_error() takes 2 positional arguments but 3 were given\n",
            "\n",
            "  warnings.warn(\n",
            "/opt/homebrew/lib/python3.9/site-packages/sklearn/model_selection/_validation.py:770: UserWarning: Scoring failed. The score on this train-test partition for these parameters will be set to nan. Details: \n",
            "Traceback (most recent call last):\n",
            "  File \"/opt/homebrew/lib/python3.9/site-packages/sklearn/model_selection/_validation.py\", line 761, in _score\n",
            "    scores = scorer(estimator, X_test, y_test)\n",
            "TypeError: mean_squared_error() takes 2 positional arguments but 3 were given\n",
            "\n",
            "  warnings.warn(\n",
            "/opt/homebrew/lib/python3.9/site-packages/sklearn/model_selection/_validation.py:770: UserWarning: Scoring failed. The score on this train-test partition for these parameters will be set to nan. Details: \n",
            "Traceback (most recent call last):\n",
            "  File \"/opt/homebrew/lib/python3.9/site-packages/sklearn/model_selection/_validation.py\", line 761, in _score\n",
            "    scores = scorer(estimator, X_test, y_test)\n",
            "TypeError: mean_squared_error() takes 2 positional arguments but 3 were given\n",
            "\n",
            "  warnings.warn(\n",
            "/opt/homebrew/lib/python3.9/site-packages/sklearn/model_selection/_validation.py:770: UserWarning: Scoring failed. The score on this train-test partition for these parameters will be set to nan. Details: \n",
            "Traceback (most recent call last):\n",
            "  File \"/opt/homebrew/lib/python3.9/site-packages/sklearn/model_selection/_validation.py\", line 761, in _score\n",
            "    scores = scorer(estimator, X_test, y_test)\n",
            "TypeError: mean_squared_error() takes 2 positional arguments but 3 were given\n",
            "\n",
            "  warnings.warn(\n",
            "/opt/homebrew/lib/python3.9/site-packages/sklearn/model_selection/_validation.py:770: UserWarning: Scoring failed. The score on this train-test partition for these parameters will be set to nan. Details: \n",
            "Traceback (most recent call last):\n",
            "  File \"/opt/homebrew/lib/python3.9/site-packages/sklearn/model_selection/_validation.py\", line 761, in _score\n",
            "    scores = scorer(estimator, X_test, y_test)\n",
            "TypeError: mean_squared_error() takes 2 positional arguments but 3 were given\n",
            "\n",
            "  warnings.warn(\n",
            "/opt/homebrew/lib/python3.9/site-packages/sklearn/model_selection/_validation.py:770: UserWarning: Scoring failed. The score on this train-test partition for these parameters will be set to nan. Details: \n",
            "Traceback (most recent call last):\n",
            "  File \"/opt/homebrew/lib/python3.9/site-packages/sklearn/model_selection/_validation.py\", line 761, in _score\n",
            "    scores = scorer(estimator, X_test, y_test)\n",
            "TypeError: mean_squared_error() takes 2 positional arguments but 3 were given\n",
            "\n",
            "  warnings.warn(\n",
            "/opt/homebrew/lib/python3.9/site-packages/sklearn/model_selection/_validation.py:770: UserWarning: Scoring failed. The score on this train-test partition for these parameters will be set to nan. Details: \n",
            "Traceback (most recent call last):\n",
            "  File \"/opt/homebrew/lib/python3.9/site-packages/sklearn/model_selection/_validation.py\", line 761, in _score\n",
            "    scores = scorer(estimator, X_test, y_test)\n",
            "TypeError: mean_squared_error() takes 2 positional arguments but 3 were given\n",
            "\n",
            "  warnings.warn(\n",
            "/opt/homebrew/lib/python3.9/site-packages/sklearn/model_selection/_validation.py:770: UserWarning: Scoring failed. The score on this train-test partition for these parameters will be set to nan. Details: \n",
            "Traceback (most recent call last):\n",
            "  File \"/opt/homebrew/lib/python3.9/site-packages/sklearn/model_selection/_validation.py\", line 761, in _score\n",
            "    scores = scorer(estimator, X_test, y_test)\n",
            "TypeError: mean_squared_error() takes 2 positional arguments but 3 were given\n",
            "\n",
            "  warnings.warn(\n",
            "/opt/homebrew/lib/python3.9/site-packages/sklearn/model_selection/_validation.py:770: UserWarning: Scoring failed. The score on this train-test partition for these parameters will be set to nan. Details: \n",
            "Traceback (most recent call last):\n",
            "  File \"/opt/homebrew/lib/python3.9/site-packages/sklearn/model_selection/_validation.py\", line 761, in _score\n",
            "    scores = scorer(estimator, X_test, y_test)\n",
            "TypeError: mean_squared_error() takes 2 positional arguments but 3 were given\n",
            "\n",
            "  warnings.warn(\n",
            "/opt/homebrew/lib/python3.9/site-packages/sklearn/model_selection/_validation.py:770: UserWarning: Scoring failed. The score on this train-test partition for these parameters will be set to nan. Details: \n",
            "Traceback (most recent call last):\n",
            "  File \"/opt/homebrew/lib/python3.9/site-packages/sklearn/model_selection/_validation.py\", line 761, in _score\n",
            "    scores = scorer(estimator, X_test, y_test)\n",
            "TypeError: mean_squared_error() takes 2 positional arguments but 3 were given\n",
            "\n",
            "  warnings.warn(\n",
            "/opt/homebrew/lib/python3.9/site-packages/sklearn/model_selection/_validation.py:770: UserWarning: Scoring failed. The score on this train-test partition for these parameters will be set to nan. Details: \n",
            "Traceback (most recent call last):\n",
            "  File \"/opt/homebrew/lib/python3.9/site-packages/sklearn/model_selection/_validation.py\", line 761, in _score\n",
            "    scores = scorer(estimator, X_test, y_test)\n",
            "TypeError: mean_squared_error() takes 2 positional arguments but 3 were given\n",
            "\n",
            "  warnings.warn(\n",
            "/opt/homebrew/lib/python3.9/site-packages/sklearn/model_selection/_validation.py:770: UserWarning: Scoring failed. The score on this train-test partition for these parameters will be set to nan. Details: \n",
            "Traceback (most recent call last):\n",
            "  File \"/opt/homebrew/lib/python3.9/site-packages/sklearn/model_selection/_validation.py\", line 761, in _score\n",
            "    scores = scorer(estimator, X_test, y_test)\n",
            "TypeError: mean_squared_error() takes 2 positional arguments but 3 were given\n",
            "\n",
            "  warnings.warn(\n",
            "/opt/homebrew/lib/python3.9/site-packages/sklearn/model_selection/_validation.py:770: UserWarning: Scoring failed. The score on this train-test partition for these parameters will be set to nan. Details: \n",
            "Traceback (most recent call last):\n",
            "  File \"/opt/homebrew/lib/python3.9/site-packages/sklearn/model_selection/_validation.py\", line 761, in _score\n",
            "    scores = scorer(estimator, X_test, y_test)\n",
            "TypeError: mean_squared_error() takes 2 positional arguments but 3 were given\n",
            "\n",
            "  warnings.warn(\n",
            "/opt/homebrew/lib/python3.9/site-packages/sklearn/model_selection/_validation.py:372: FitFailedWarning: \n",
            "5 fits failed out of a total of 45.\n",
            "The score on these train-test partitions for these parameters will be set to nan.\n",
            "If these failures are not expected, you can try to debug them by setting error_score='raise'.\n",
            "\n",
            "Below are more details about the failures:\n",
            "--------------------------------------------------------------------------------\n",
            "5 fits failed with the following error:\n",
            "Traceback (most recent call last):\n",
            "  File \"/opt/homebrew/lib/python3.9/site-packages/sklearn/model_selection/_validation.py\", line 680, in _fit_and_score\n",
            "    estimator.fit(X_train, y_train, **fit_params)\n",
            "  File \"/opt/homebrew/lib/python3.9/site-packages/sklearn/tree/_classes.py\", line 1315, in fit\n",
            "    super().fit(\n",
            "  File \"/opt/homebrew/lib/python3.9/site-packages/sklearn/tree/_classes.py\", line 250, in fit\n",
            "    raise ValueError(\n",
            "ValueError: min_samples_split must be an integer greater than 1 or a float in (0.0, 1.0]; got the integer 1\n",
            "\n",
            "  warnings.warn(some_fits_failed_message, FitFailedWarning)\n",
            "/opt/homebrew/lib/python3.9/site-packages/sklearn/model_selection/_search.py:969: UserWarning: One or more of the test scores are non-finite: [nan nan nan nan nan nan nan nan nan]\n",
            "  warnings.warn(\n"
          ]
        },
        {
          "ename": "ValueError",
          "evalue": "min_samples_split must be an integer greater than 1 or a float in (0.0, 1.0]; got the integer 1",
          "output_type": "error",
          "traceback": [
            "\u001b[0;31m---------------------------------------------------------------------------\u001b[0m",
            "\u001b[0;31mValueError\u001b[0m                                Traceback (most recent call last)",
            "\u001b[0;32m/var/folders/9j/cllsf0815jl9bm0yjv_8cm400000gn/T/ipykernel_8573/1692176806.py\u001b[0m in \u001b[0;36m<module>\u001b[0;34m\u001b[0m\n\u001b[1;32m      3\u001b[0m \u001b[0msearch\u001b[0m \u001b[0;34m=\u001b[0m \u001b[0mGridSearchCV\u001b[0m\u001b[0;34m(\u001b[0m\u001b[0mestimator\u001b[0m\u001b[0;34m=\u001b[0m\u001b[0mDecisionTreeRegressor\u001b[0m\u001b[0;34m(\u001b[0m\u001b[0;34m)\u001b[0m\u001b[0;34m,\u001b[0m \u001b[0mparam_grid\u001b[0m\u001b[0;34m=\u001b[0m\u001b[0;34m{\u001b[0m\u001b[0;34m'min_samples_split'\u001b[0m\u001b[0;34m:\u001b[0m \u001b[0mrange\u001b[0m\u001b[0;34m(\u001b[0m\u001b[0;36m1\u001b[0m\u001b[0;34m,\u001b[0m \u001b[0;36m10\u001b[0m\u001b[0;34m)\u001b[0m\u001b[0;34m}\u001b[0m\u001b[0;34m,\u001b[0m \u001b[0mscoring\u001b[0m\u001b[0;34m=\u001b[0m\u001b[0mmetrics\u001b[0m\u001b[0;34m.\u001b[0m\u001b[0mmean_squared_error\u001b[0m\u001b[0;34m)\u001b[0m\u001b[0;34m\u001b[0m\u001b[0;34m\u001b[0m\u001b[0m\n\u001b[1;32m      4\u001b[0m \u001b[0;34m\u001b[0m\u001b[0m\n\u001b[0;32m----> 5\u001b[0;31m \u001b[0msearch\u001b[0m\u001b[0;34m.\u001b[0m\u001b[0mfit\u001b[0m\u001b[0;34m(\u001b[0m\u001b[0mX_train\u001b[0m\u001b[0;34m[\u001b[0m\u001b[0mnum_columns\u001b[0m\u001b[0;34m]\u001b[0m\u001b[0;34m,\u001b[0m \u001b[0my_train\u001b[0m\u001b[0;34m)\u001b[0m\u001b[0;34m\u001b[0m\u001b[0;34m\u001b[0m\u001b[0m\n\u001b[0m",
            "\u001b[0;32m/opt/homebrew/lib/python3.9/site-packages/sklearn/model_selection/_search.py\u001b[0m in \u001b[0;36mfit\u001b[0;34m(self, X, y, groups, **fit_params)\u001b[0m\n\u001b[1;32m    924\u001b[0m             \u001b[0mrefit_start_time\u001b[0m \u001b[0;34m=\u001b[0m \u001b[0mtime\u001b[0m\u001b[0;34m.\u001b[0m\u001b[0mtime\u001b[0m\u001b[0;34m(\u001b[0m\u001b[0;34m)\u001b[0m\u001b[0;34m\u001b[0m\u001b[0;34m\u001b[0m\u001b[0m\n\u001b[1;32m    925\u001b[0m             \u001b[0;32mif\u001b[0m \u001b[0my\u001b[0m \u001b[0;32mis\u001b[0m \u001b[0;32mnot\u001b[0m \u001b[0;32mNone\u001b[0m\u001b[0;34m:\u001b[0m\u001b[0;34m\u001b[0m\u001b[0;34m\u001b[0m\u001b[0m\n\u001b[0;32m--> 926\u001b[0;31m                 \u001b[0mself\u001b[0m\u001b[0;34m.\u001b[0m\u001b[0mbest_estimator_\u001b[0m\u001b[0;34m.\u001b[0m\u001b[0mfit\u001b[0m\u001b[0;34m(\u001b[0m\u001b[0mX\u001b[0m\u001b[0;34m,\u001b[0m \u001b[0my\u001b[0m\u001b[0;34m,\u001b[0m \u001b[0;34m**\u001b[0m\u001b[0mfit_params\u001b[0m\u001b[0;34m)\u001b[0m\u001b[0;34m\u001b[0m\u001b[0;34m\u001b[0m\u001b[0m\n\u001b[0m\u001b[1;32m    927\u001b[0m             \u001b[0;32melse\u001b[0m\u001b[0;34m:\u001b[0m\u001b[0;34m\u001b[0m\u001b[0;34m\u001b[0m\u001b[0m\n\u001b[1;32m    928\u001b[0m                 \u001b[0mself\u001b[0m\u001b[0;34m.\u001b[0m\u001b[0mbest_estimator_\u001b[0m\u001b[0;34m.\u001b[0m\u001b[0mfit\u001b[0m\u001b[0;34m(\u001b[0m\u001b[0mX\u001b[0m\u001b[0;34m,\u001b[0m \u001b[0;34m**\u001b[0m\u001b[0mfit_params\u001b[0m\u001b[0;34m)\u001b[0m\u001b[0;34m\u001b[0m\u001b[0;34m\u001b[0m\u001b[0m\n",
            "\u001b[0;32m/opt/homebrew/lib/python3.9/site-packages/sklearn/tree/_classes.py\u001b[0m in \u001b[0;36mfit\u001b[0;34m(self, X, y, sample_weight, check_input, X_idx_sorted)\u001b[0m\n\u001b[1;32m   1313\u001b[0m         \"\"\"\n\u001b[1;32m   1314\u001b[0m \u001b[0;34m\u001b[0m\u001b[0m\n\u001b[0;32m-> 1315\u001b[0;31m         super().fit(\n\u001b[0m\u001b[1;32m   1316\u001b[0m             \u001b[0mX\u001b[0m\u001b[0;34m,\u001b[0m\u001b[0;34m\u001b[0m\u001b[0;34m\u001b[0m\u001b[0m\n\u001b[1;32m   1317\u001b[0m             \u001b[0my\u001b[0m\u001b[0;34m,\u001b[0m\u001b[0;34m\u001b[0m\u001b[0;34m\u001b[0m\u001b[0m\n",
            "\u001b[0;32m/opt/homebrew/lib/python3.9/site-packages/sklearn/tree/_classes.py\u001b[0m in \u001b[0;36mfit\u001b[0;34m(self, X, y, sample_weight, check_input, X_idx_sorted)\u001b[0m\n\u001b[1;32m    248\u001b[0m         \u001b[0;32mif\u001b[0m \u001b[0misinstance\u001b[0m\u001b[0;34m(\u001b[0m\u001b[0mself\u001b[0m\u001b[0;34m.\u001b[0m\u001b[0mmin_samples_split\u001b[0m\u001b[0;34m,\u001b[0m \u001b[0mnumbers\u001b[0m\u001b[0;34m.\u001b[0m\u001b[0mIntegral\u001b[0m\u001b[0;34m)\u001b[0m\u001b[0;34m:\u001b[0m\u001b[0;34m\u001b[0m\u001b[0;34m\u001b[0m\u001b[0m\n\u001b[1;32m    249\u001b[0m             \u001b[0;32mif\u001b[0m \u001b[0;32mnot\u001b[0m \u001b[0;36m2\u001b[0m \u001b[0;34m<=\u001b[0m \u001b[0mself\u001b[0m\u001b[0;34m.\u001b[0m\u001b[0mmin_samples_split\u001b[0m\u001b[0;34m:\u001b[0m\u001b[0;34m\u001b[0m\u001b[0;34m\u001b[0m\u001b[0m\n\u001b[0;32m--> 250\u001b[0;31m                 raise ValueError(\n\u001b[0m\u001b[1;32m    251\u001b[0m                     \u001b[0;34m\"min_samples_split must be an integer \"\u001b[0m\u001b[0;34m\u001b[0m\u001b[0;34m\u001b[0m\u001b[0m\n\u001b[1;32m    252\u001b[0m                     \u001b[0;34m\"greater than 1 or a float in (0.0, 1.0]; \"\u001b[0m\u001b[0;34m\u001b[0m\u001b[0;34m\u001b[0m\u001b[0m\n",
            "\u001b[0;31mValueError\u001b[0m: min_samples_split must be an integer greater than 1 or a float in (0.0, 1.0]; got the integer 1"
          ]
        }
      ],
      "source": [
        "from sklearn.model_selection import GridSearchCV\n",
        "\n",
        "search = GridSearchCV(estimator=DecisionTreeRegressor(), param_grid={'min_samples_split': range(1, 10)}, scoring=metrics.mean_squared_error, sco)\n",
        "\n",
        "search.fit(X_train[num_columns], y_train, X)"
      ]
    },
    {
      "cell_type": "markdown",
      "metadata": {
        "id": "JxQnozbtvD6x"
      },
      "source": [
        "### Ensemble v.1 (3 балла)\n",
        "\n",
        "Ансамбли иногда оказываются лучше чем одна большая модель.\n",
        "\n",
        "В колонке `product_type` содержится информация о том, каким является объявление: `Investment` (продажа квартиры как инвестиции) или `OwnerOccupier` (продажа квартиры для жилья). Логично предположить, что если сделать по модели на каждый из этих типов, то качество будет выше.\n",
        "\n",
        "Обучите свои лучшие модели на отдельно на `Investment` и `OwnerOccupier` (т.е. у вас будет `model_invest`, обученная на `(invest_train_X, invest_train_Y)` и `model_owner`, обученная на `(owner_train_X, owner_train_Y)`) и проверьте качество на отложенной выборке (т.е. на исходном `test_split`)."
      ]
    },
    {
      "cell_type": "code",
      "execution_count": null,
      "metadata": {
        "id": "HeJOCYa-O_VE"
      },
      "outputs": [],
      "source": []
    },
    {
      "cell_type": "markdown",
      "metadata": {
        "id": "J8t-klaK2A6s"
      },
      "source": [
        "### (*) Ensemble v.2 (дополнительно, 2 балла)\n",
        "\n",
        "Попробуйте сделать для `Investment` более сложную модель: обучите `CatBoostRegressor` и `HuberRegressor` из `sklearn`, а затем сложите их предсказания с весами `w_1` и `w_2` (выберите веса сами; сумма весов равняется 1)."
      ]
    },
    {
      "cell_type": "code",
      "execution_count": null,
      "metadata": {
        "id": "JOKD-l8HuOgM"
      },
      "outputs": [],
      "source": []
    }
  ],
  "metadata": {
    "colab": {
      "collapsed_sections": [],
      "name": "Task.ipynb",
      "provenance": []
    },
    "interpreter": {
      "hash": "b0fa6594d8f4cbf19f97940f81e996739fb7646882a419484c72d19e05852a7e"
    },
    "kernelspec": {
      "display_name": "Python 3.9.12 64-bit",
      "language": "python",
      "name": "python3"
    },
    "language_info": {
      "codemirror_mode": {
        "name": "ipython",
        "version": 3
      },
      "file_extension": ".py",
      "mimetype": "text/x-python",
      "name": "python",
      "nbconvert_exporter": "python",
      "pygments_lexer": "ipython3",
      "version": "3.9.12"
    }
  },
  "nbformat": 4,
  "nbformat_minor": 0
}
