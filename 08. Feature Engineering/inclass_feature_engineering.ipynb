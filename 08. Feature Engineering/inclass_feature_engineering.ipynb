{
 "cells": [
  {
   "cell_type": "markdown",
   "metadata": {
    "button": false,
    "colab_type": "text",
    "id": "YUqVw8u7gi0Z",
    "new_sheet": false,
    "run_control": {
     "read_only": false
    }
   },
   "source": [
    "# Что мы узнаем сегодня?\n",
    "\n",
    "\n",
    "1. [Как работать с пропусками в данных](#Пропуски-в-данных)\n",
    "2. [Как работать с категориальными признаками](#Категориальные-признаки)\n",
    "3. [Полезные преобразования данных](#Полезные-преобразования-данных)\n",
    "4. [Инжинирим признаки](#Инжинирим-признаки)\n",
    "5. [Поговорим про отбор признаков](#Отбор-признаков)\n",
    "6. [KaggleInClass](#KaggleInClass)"
   ]
  },
  {
   "cell_type": "markdown",
   "metadata": {
    "button": false,
    "colab_type": "text",
    "id": "Cz8Q1iZPgi0a",
    "new_sheet": false,
    "run_control": {
     "read_only": false
    }
   },
   "source": [
    "# Пропуски в данных\n",
    "\n",
    "Рассмотрим датасет `communities and crime`. Этот датасет содержит различные признаки, которые характеризуют район. Задача предсказать уровень преступности на 100 тысяч человек. Это задача регрессии."
   ]
  },
  {
   "cell_type": "code",
   "execution_count": 2007,
   "metadata": {
    "button": false,
    "colab": {},
    "colab_type": "code",
    "id": "FexrNwsVgi0a",
    "new_sheet": false,
    "run_control": {
     "read_only": false
    }
   },
   "outputs": [],
   "source": [
    "import numpy as np\n",
    "import pandas as pd\n",
    "\n",
    "# Датасет взят отсюда: http://archive.ics.uci.edu/ml/datasets/communities+and+crime\n",
    "# Загружаем датасет\n",
    "\n",
    "x = pd.read_csv('communites.csv',delimiter=',')"
   ]
  },
  {
   "cell_type": "code",
   "execution_count": 2008,
   "metadata": {
    "button": false,
    "colab": {},
    "colab_type": "code",
    "id": "MMcMTmEhgi0d",
    "new_sheet": false,
    "outputId": "938d0762-fbff-4572-cd0b-8a1707863fce",
    "run_control": {
     "read_only": false
    }
   },
   "outputs": [
    {
     "name": "stdout",
     "output_type": "stream",
     "text": [
      "<class 'pandas.core.frame.DataFrame'>\n",
      "RangeIndex: 1993 entries, 0 to 1992\n",
      "Columns: 128 entries, 8 to 0.2.2\n",
      "dtypes: float64(100), int64(2), object(26)\n",
      "memory usage: 1.9+ MB\n"
     ]
    }
   ],
   "source": [
    "x.info()"
   ]
  },
  {
   "cell_type": "markdown",
   "metadata": {
    "button": false,
    "colab_type": "text",
    "id": "7iIFv4axgi0h",
    "new_sheet": false,
    "run_control": {
     "read_only": false
    }
   },
   "source": [
    "Итак, у нас 1994 района и 122 признака, `ViolentCrimesPerPop` наша таргетная переменная.\n",
    "\n",
    "Давайте взглянем на данные:"
   ]
  },
  {
   "cell_type": "code",
   "execution_count": 2009,
   "metadata": {
    "button": false,
    "colab": {
     "base_uri": "https://localhost:8080/",
     "height": 158
    },
    "colab_type": "code",
    "executionInfo": {
     "elapsed": 827,
     "status": "error",
     "timestamp": 1566984991602,
     "user": {
      "displayName": "Татьяна Колинкова",
      "photoUrl": "https://lh3.googleusercontent.com/a-/AAuE7mCfmXmG_a7aTl3yOf3BIP0Ku33817aGXBx91T8fpw=s64",
      "userId": "04352531878150482118"
     },
     "user_tz": -180
    },
    "id": "U6O95oiJgi0i",
    "new_sheet": false,
    "outputId": "c162bbd4-08d7-4f9e-b24c-53b168a377d0",
    "run_control": {
     "read_only": false
    }
   },
   "outputs": [
    {
     "data": {
      "text/html": [
       "<div>\n",
       "<style scoped>\n",
       "    .dataframe tbody tr th:only-of-type {\n",
       "        vertical-align: middle;\n",
       "    }\n",
       "\n",
       "    .dataframe tbody tr th {\n",
       "        vertical-align: top;\n",
       "    }\n",
       "\n",
       "    .dataframe thead th {\n",
       "        text-align: right;\n",
       "    }\n",
       "</style>\n",
       "<table border=\"1\" class=\"dataframe\">\n",
       "  <thead>\n",
       "    <tr style=\"text-align: right;\">\n",
       "      <th></th>\n",
       "      <th>8</th>\n",
       "      <th>?</th>\n",
       "      <th>?.1</th>\n",
       "      <th>Lakewoodcity</th>\n",
       "      <th>1</th>\n",
       "      <th>0.19</th>\n",
       "      <th>0.33</th>\n",
       "      <th>0.02</th>\n",
       "      <th>0.9</th>\n",
       "      <th>0.12</th>\n",
       "      <th>...</th>\n",
       "      <th>0.12.2</th>\n",
       "      <th>0.26.1</th>\n",
       "      <th>0.2.1</th>\n",
       "      <th>0.06.3</th>\n",
       "      <th>0.04.2</th>\n",
       "      <th>0.9.1</th>\n",
       "      <th>0.5.2</th>\n",
       "      <th>0.32.2</th>\n",
       "      <th>0.14.3</th>\n",
       "      <th>0.2.2</th>\n",
       "    </tr>\n",
       "  </thead>\n",
       "  <tbody>\n",
       "    <tr>\n",
       "      <th>0</th>\n",
       "      <td>53</td>\n",
       "      <td>?</td>\n",
       "      <td>?</td>\n",
       "      <td>Tukwilacity</td>\n",
       "      <td>1</td>\n",
       "      <td>0.00</td>\n",
       "      <td>0.16</td>\n",
       "      <td>0.12</td>\n",
       "      <td>0.74</td>\n",
       "      <td>0.45</td>\n",
       "      <td>...</td>\n",
       "      <td>0.02</td>\n",
       "      <td>0.12</td>\n",
       "      <td>0.45</td>\n",
       "      <td>?</td>\n",
       "      <td>?</td>\n",
       "      <td>?</td>\n",
       "      <td>?</td>\n",
       "      <td>0.0</td>\n",
       "      <td>?</td>\n",
       "      <td>0.67</td>\n",
       "    </tr>\n",
       "    <tr>\n",
       "      <th>1</th>\n",
       "      <td>24</td>\n",
       "      <td>?</td>\n",
       "      <td>?</td>\n",
       "      <td>Aberdeentown</td>\n",
       "      <td>1</td>\n",
       "      <td>0.00</td>\n",
       "      <td>0.42</td>\n",
       "      <td>0.49</td>\n",
       "      <td>0.56</td>\n",
       "      <td>0.17</td>\n",
       "      <td>...</td>\n",
       "      <td>0.01</td>\n",
       "      <td>0.21</td>\n",
       "      <td>0.02</td>\n",
       "      <td>?</td>\n",
       "      <td>?</td>\n",
       "      <td>?</td>\n",
       "      <td>?</td>\n",
       "      <td>0.0</td>\n",
       "      <td>?</td>\n",
       "      <td>0.43</td>\n",
       "    </tr>\n",
       "    <tr>\n",
       "      <th>2</th>\n",
       "      <td>34</td>\n",
       "      <td>5</td>\n",
       "      <td>81440</td>\n",
       "      <td>Willingborotownship</td>\n",
       "      <td>1</td>\n",
       "      <td>0.04</td>\n",
       "      <td>0.77</td>\n",
       "      <td>1.00</td>\n",
       "      <td>0.08</td>\n",
       "      <td>0.12</td>\n",
       "      <td>...</td>\n",
       "      <td>0.02</td>\n",
       "      <td>0.39</td>\n",
       "      <td>0.28</td>\n",
       "      <td>?</td>\n",
       "      <td>?</td>\n",
       "      <td>?</td>\n",
       "      <td>?</td>\n",
       "      <td>0.0</td>\n",
       "      <td>?</td>\n",
       "      <td>0.12</td>\n",
       "    </tr>\n",
       "    <tr>\n",
       "      <th>3</th>\n",
       "      <td>42</td>\n",
       "      <td>95</td>\n",
       "      <td>6096</td>\n",
       "      <td>Bethlehemtownship</td>\n",
       "      <td>1</td>\n",
       "      <td>0.01</td>\n",
       "      <td>0.55</td>\n",
       "      <td>0.02</td>\n",
       "      <td>0.95</td>\n",
       "      <td>0.09</td>\n",
       "      <td>...</td>\n",
       "      <td>0.04</td>\n",
       "      <td>0.09</td>\n",
       "      <td>0.02</td>\n",
       "      <td>?</td>\n",
       "      <td>?</td>\n",
       "      <td>?</td>\n",
       "      <td>?</td>\n",
       "      <td>0.0</td>\n",
       "      <td>?</td>\n",
       "      <td>0.03</td>\n",
       "    </tr>\n",
       "    <tr>\n",
       "      <th>4</th>\n",
       "      <td>6</td>\n",
       "      <td>?</td>\n",
       "      <td>?</td>\n",
       "      <td>SouthPasadenacity</td>\n",
       "      <td>1</td>\n",
       "      <td>0.02</td>\n",
       "      <td>0.28</td>\n",
       "      <td>0.06</td>\n",
       "      <td>0.54</td>\n",
       "      <td>1.00</td>\n",
       "      <td>...</td>\n",
       "      <td>0.01</td>\n",
       "      <td>0.58</td>\n",
       "      <td>0.10</td>\n",
       "      <td>?</td>\n",
       "      <td>?</td>\n",
       "      <td>?</td>\n",
       "      <td>?</td>\n",
       "      <td>0.0</td>\n",
       "      <td>?</td>\n",
       "      <td>0.14</td>\n",
       "    </tr>\n",
       "  </tbody>\n",
       "</table>\n",
       "<p>5 rows × 128 columns</p>\n",
       "</div>"
      ],
      "text/plain": [
       "    8   ?    ?.1         Lakewoodcity  1  0.19  0.33  0.02   0.9  0.12  ...  \\\n",
       "0  53   ?      ?          Tukwilacity  1  0.00  0.16  0.12  0.74  0.45  ...   \n",
       "1  24   ?      ?         Aberdeentown  1  0.00  0.42  0.49  0.56  0.17  ...   \n",
       "2  34   5  81440  Willingborotownship  1  0.04  0.77  1.00  0.08  0.12  ...   \n",
       "3  42  95   6096    Bethlehemtownship  1  0.01  0.55  0.02  0.95  0.09  ...   \n",
       "4   6   ?      ?    SouthPasadenacity  1  0.02  0.28  0.06  0.54  1.00  ...   \n",
       "\n",
       "   0.12.2  0.26.1  0.2.1  0.06.3  0.04.2  0.9.1  0.5.2  0.32.2  0.14.3  0.2.2  \n",
       "0    0.02    0.12   0.45       ?       ?      ?      ?     0.0       ?   0.67  \n",
       "1    0.01    0.21   0.02       ?       ?      ?      ?     0.0       ?   0.43  \n",
       "2    0.02    0.39   0.28       ?       ?      ?      ?     0.0       ?   0.12  \n",
       "3    0.04    0.09   0.02       ?       ?      ?      ?     0.0       ?   0.03  \n",
       "4    0.01    0.58   0.10       ?       ?      ?      ?     0.0       ?   0.14  \n",
       "\n",
       "[5 rows x 128 columns]"
      ]
     },
     "execution_count": 2009,
     "metadata": {},
     "output_type": "execute_result"
    }
   ],
   "source": [
    "# Посмотрим на данные:\n",
    "x.head()"
   ]
  },
  {
   "cell_type": "markdown",
   "metadata": {
    "button": false,
    "colab_type": "text",
    "id": "FsZpeJoFgi0l",
    "new_sheet": false,
    "run_control": {
     "read_only": false
    }
   },
   "source": [
    "Видим глазами много пропусков. А как узнать сколько значений не известно?"
   ]
  },
  {
   "cell_type": "code",
   "execution_count": 2010,
   "metadata": {
    "button": false,
    "colab": {},
    "colab_type": "code",
    "id": "epZszetXgi0m",
    "new_sheet": false,
    "outputId": "5f5e7263-8d05-41f2-d0e5-e360d48c9f0d",
    "run_control": {
     "read_only": false
    }
   },
   "outputs": [
    {
     "data": {
      "text/plain": [
       "0"
      ]
     },
     "execution_count": 2010,
     "metadata": {},
     "output_type": "execute_result"
    }
   ],
   "source": [
    "x.isna().any().sum() # сколько признаков содержат неизвестные значения"
   ]
  },
  {
   "cell_type": "code",
   "execution_count": 2011,
   "metadata": {
    "button": false,
    "colab": {},
    "colab_type": "code",
    "id": "mq9eMIJtgi0o",
    "new_sheet": false,
    "outputId": "c0a6f085-4433-4e2b-c6a9-cae62c064e36",
    "run_control": {
     "read_only": false
    }
   },
   "outputs": [
    {
     "data": {
      "text/plain": [
       "0.12.2    0\n",
       "0.26.1    0\n",
       "0.2.1     0\n",
       "0.06.3    0\n",
       "0.04.2    0\n",
       "0.9.1     0\n",
       "0.5.2     0\n",
       "0.32.2    0\n",
       "0.14.3    0\n",
       "0.2.2     0\n",
       "dtype: int64"
      ]
     },
     "execution_count": 2011,
     "metadata": {},
     "output_type": "execute_result"
    }
   ],
   "source": [
    "x.isna().sum()[-10:] # cколько неизвестных значений содержит каждый признак"
   ]
  },
  {
   "cell_type": "code",
   "execution_count": 2012,
   "metadata": {
    "button": false,
    "colab": {},
    "colab_type": "code",
    "id": "crjS9fSWgi0q",
    "new_sheet": false,
    "run_control": {
     "read_only": false
    }
   },
   "outputs": [
    {
     "data": {
      "text/plain": [
       "0"
      ]
     },
     "execution_count": 2012,
     "metadata": {},
     "output_type": "execute_result"
    }
   ],
   "source": [
    "# Выведите одно число -- количество пропущенных значений\n",
    "\n",
    "x.isna().values.sum()"
   ]
  },
  {
   "cell_type": "markdown",
   "metadata": {
    "button": false,
    "colab_type": "text",
    "id": "sYGznBCRgi0s",
    "new_sheet": false,
    "run_control": {
     "read_only": false
    }
   },
   "source": [
    "**Как быть?**\n"
   ]
  },
  {
   "cell_type": "markdown",
   "metadata": {
    "button": false,
    "colab_type": "text",
    "id": "GiNTVLT-gi0t",
    "new_sheet": false,
    "run_control": {
     "read_only": false
    }
   },
   "source": [
    "**Удалить лишнее**\n",
    "* Выкинуть данные с неизвестным признаком\n",
    "* Выкинуть признак, если он имеет слишком мало известных значений\n",
    "\n",
    "**Восстановить значения**\n",
    "\n",
    "*В англоязычной терминологии это называется `imputation`.*\n",
    "    \n",
    "   * Для **вещественных** признаков\n",
    "    * Заполнить все пропуски средним (модой, медианой) значениями признака\n",
    "    * Предсказывать значение пропущенного признака с помощью линейной регрессии\n",
    "   * Для **категориальных**\n",
    "    * Отдельное значением типа \"n/a\"\n",
    "    * Использовать самое частое значение признака\n",
    "\n",
    "\n",
    "Хорошая идея также добавить отдельный признак `A_missing` и присваивать ему значение `1` всякий раз, когда значение признака `A` пропущено.\n",
    "\n",
    "Более подробно можно почитать [здесь](https://towardsdatascience.com/how-to-handle-missing-data-8646b18db0d4)."
   ]
  },
  {
   "cell_type": "code",
   "execution_count": 2013,
   "metadata": {
    "button": false,
    "colab": {},
    "colab_type": "code",
    "id": "O-wuBcBSgi0t",
    "new_sheet": false,
    "outputId": "c1d21f58-8d70-44a9-91c0-4357255d0136",
    "run_control": {
     "read_only": false
    }
   },
   "outputs": [],
   "source": [
    "# Заполняем все пропуски в данных средними значениями для каждого признака\n",
    "from sklearn import impute\n",
    "\n",
    "mis_replacer = impute.SimpleImputer(missing_values='?', strategy='most_frequent')\n",
    "x = pd.DataFrame(data=mis_replacer.fit_transform(x), columns=x.columns)"
   ]
  },
  {
   "cell_type": "code",
   "execution_count": 2014,
   "metadata": {
    "button": false,
    "colab": {},
    "colab_type": "code",
    "id": "cnNnV83hgi0w",
    "new_sheet": false,
    "run_control": {
     "read_only": false
    }
   },
   "outputs": [],
   "source": [
    "# Aльтернатива через pandas\n",
    "# Подробнее в описании функции\n",
    "\n",
    "x.fillna(value=0, inplace=True)"
   ]
  },
  {
   "cell_type": "code",
   "execution_count": 2015,
   "metadata": {
    "button": false,
    "colab": {},
    "colab_type": "code",
    "id": "QQ-m1eN5gi0y",
    "new_sheet": false,
    "run_control": {
     "read_only": false
    }
   },
   "outputs": [
    {
     "data": {
      "text/plain": [
       "0"
      ]
     },
     "execution_count": 2015,
     "metadata": {},
     "output_type": "execute_result"
    }
   ],
   "source": [
    "# Теперь можно проверить снова сколько у нас пропущенных данных\n",
    "# Выведите одно число -- количество пропущенных значений\n",
    "\n",
    "x.isna().values.sum()"
   ]
  },
  {
   "cell_type": "markdown",
   "metadata": {
    "button": false,
    "colab_type": "text",
    "id": "xb6EDnHDgi00",
    "new_sheet": false,
    "run_control": {
     "read_only": false
    }
   },
   "source": [
    "---\n",
    "\n",
    "# Категориальные признаки\n",
    "\n",
    "Для примера создадим небольшую табличку"
   ]
  },
  {
   "cell_type": "code",
   "execution_count": 2016,
   "metadata": {
    "button": false,
    "colab": {},
    "colab_type": "code",
    "id": "PONrGAW4gi01",
    "new_sheet": false,
    "outputId": "ce0811e2-ab92-45a8-a148-515e38f5a8d3",
    "run_control": {
     "read_only": false
    }
   },
   "outputs": [
    {
     "data": {
      "text/html": [
       "<div>\n",
       "<style scoped>\n",
       "    .dataframe tbody tr th:only-of-type {\n",
       "        vertical-align: middle;\n",
       "    }\n",
       "\n",
       "    .dataframe tbody tr th {\n",
       "        vertical-align: top;\n",
       "    }\n",
       "\n",
       "    .dataframe thead th {\n",
       "        text-align: right;\n",
       "    }\n",
       "</style>\n",
       "<table border=\"1\" class=\"dataframe\">\n",
       "  <thead>\n",
       "    <tr style=\"text-align: right;\">\n",
       "      <th></th>\n",
       "      <th>city</th>\n",
       "      <th>degree</th>\n",
       "      <th>class</th>\n",
       "      <th>income</th>\n",
       "    </tr>\n",
       "  </thead>\n",
       "  <tbody>\n",
       "    <tr>\n",
       "      <th>0</th>\n",
       "      <td>Moscow</td>\n",
       "      <td>1</td>\n",
       "      <td>A</td>\n",
       "      <td>10.2</td>\n",
       "    </tr>\n",
       "    <tr>\n",
       "      <th>1</th>\n",
       "      <td>London</td>\n",
       "      <td>1</td>\n",
       "      <td>B</td>\n",
       "      <td>11.6</td>\n",
       "    </tr>\n",
       "    <tr>\n",
       "      <th>2</th>\n",
       "      <td>London</td>\n",
       "      <td>2</td>\n",
       "      <td>A</td>\n",
       "      <td>8.8</td>\n",
       "    </tr>\n",
       "    <tr>\n",
       "      <th>3</th>\n",
       "      <td>Kiev</td>\n",
       "      <td>2</td>\n",
       "      <td>A</td>\n",
       "      <td>9.0</td>\n",
       "    </tr>\n",
       "    <tr>\n",
       "      <th>4</th>\n",
       "      <td>Moscow</td>\n",
       "      <td>3</td>\n",
       "      <td>B</td>\n",
       "      <td>6.6</td>\n",
       "    </tr>\n",
       "    <tr>\n",
       "      <th>5</th>\n",
       "      <td>Moscow</td>\n",
       "      <td>3</td>\n",
       "      <td>B</td>\n",
       "      <td>10.0</td>\n",
       "    </tr>\n",
       "    <tr>\n",
       "      <th>6</th>\n",
       "      <td>Kiev</td>\n",
       "      <td>1</td>\n",
       "      <td>A</td>\n",
       "      <td>9.0</td>\n",
       "    </tr>\n",
       "    <tr>\n",
       "      <th>7</th>\n",
       "      <td>Moscow</td>\n",
       "      <td>1</td>\n",
       "      <td>A</td>\n",
       "      <td>7.2</td>\n",
       "    </tr>\n",
       "  </tbody>\n",
       "</table>\n",
       "</div>"
      ],
      "text/plain": [
       "     city  degree class  income\n",
       "0  Moscow       1     A    10.2\n",
       "1  London       1     B    11.6\n",
       "2  London       2     A     8.8\n",
       "3    Kiev       2     A     9.0\n",
       "4  Moscow       3     B     6.6\n",
       "5  Moscow       3     B    10.0\n",
       "6    Kiev       1     A     9.0\n",
       "7  Moscow       1     A     7.2"
      ]
     },
     "execution_count": 2016,
     "metadata": {},
     "output_type": "execute_result"
    }
   ],
   "source": [
    "import pandas as pd\n",
    "\n",
    "# просто табличка для примера\n",
    "def create_data():\n",
    "    return (pd.DataFrame({'city': ['Moscow', 'London', 'London', 'Kiev',\n",
    "                                   'Moscow', 'Moscow', 'Kiev','Moscow'],\n",
    "                          'degree': [1, 1, 2, 2, 3, 3, 1, 1],\n",
    "                          'class':['A','B','A','A','B','B','A','A'],\n",
    "                          'income':[10.2, 11.6, 8.8, 9.0, 6.6, 10.0, 9.0, 7.2]}))\n",
    "\n",
    "data = create_data()\n",
    "data"
   ]
  },
  {
   "cell_type": "markdown",
   "metadata": {
    "button": false,
    "colab_type": "text",
    "id": "9CYhFdwkgi03",
    "new_sheet": false,
    "run_control": {
     "read_only": false
    }
   },
   "source": [
    "###  Как понять, что признак категориальный?\n",
    "\n",
    "Идея - категориальные признаки те, в которых значения - строки или число уникальных значений достаточно мало."
   ]
  },
  {
   "cell_type": "code",
   "execution_count": 2017,
   "metadata": {
    "button": false,
    "colab": {},
    "colab_type": "code",
    "id": "w64ne9TDgi04",
    "new_sheet": false,
    "outputId": "9644b6ce-59cd-493b-cb32-3369acc5ee74",
    "run_control": {
     "read_only": false
    }
   },
   "outputs": [
    {
     "name": "stdout",
     "output_type": "stream",
     "text": [
      "city строка, мало уникальных\n",
      "degree мало уникальных\n",
      "class строка, мало уникальных\n"
     ]
    }
   ],
   "source": [
    "# найти все признаки, в которых первое значение - строка \n",
    "def find_cat(data, num_uniq=4):\n",
    "    for name in data.columns:\n",
    "        s = ''\n",
    "        s += name\n",
    "        if (type(data[name][0]) == str):\n",
    "            s += ' строка,'\n",
    "        if (data[name].nunique()<=num_uniq):\n",
    "            s += ' мало уникальных'\n",
    "        if (s!=name):\n",
    "            print (s)\n",
    "            \n",
    "find_cat(data)"
   ]
  },
  {
   "cell_type": "markdown",
   "metadata": {
    "button": false,
    "colab_type": "text",
    "id": "pu-bBrHcgi07",
    "new_sheet": false,
    "run_control": {
     "read_only": false
    }
   },
   "source": [
    "### Как подавать категориальные признаки алгоритму?\n",
    "\n",
    "Алгоритмы хотят, чтобы им на вход подавали числа, а не строки. Кроме того, большая часть алгоритмов машинного обучения тем или иным образом использует понятие расстояния между точками. Поэтому приходится подумать как же так представить категориальный признак, чтобы все заработало.\n",
    "\n",
    "Существует как минимум *2 популярных подхода*:\n",
    "\n",
    "1) Самый простой подход **one-hot кодирование**.\n",
    "Выглядит это так\n"
   ]
  },
  {
   "cell_type": "markdown",
   "metadata": {
    "button": false,
    "colab_type": "text",
    "id": "DTeSXzz7gi07",
    "new_sheet": false,
    "run_control": {
     "read_only": false
    }
   },
   "source": [
    "Этот способ наиболее универсален и применяется по умолчанию. Универсальность здесь означает -- возможность использования такого представления в любом алгоритме машинного обучения.\n",
    "\n",
    "Теперь посмотрите на картинку. Если еще не стало понятно, то вот пояснение.\n",
    "\n",
    "Суть в том, что каждое значение категориального признака порождает свой собственный признак. Далее, кодируем нулями и единицами отсутствие или наличие соответствующего признака.\n"
   ]
  },
  {
   "cell_type": "code",
   "execution_count": 2018,
   "metadata": {
    "button": false,
    "colab": {},
    "colab_type": "code",
    "id": "1Pylqnqfgi08",
    "new_sheet": false,
    "outputId": "ad45b530-552f-4777-fd88-9ec9ba73e775",
    "run_control": {
     "read_only": false
    }
   },
   "outputs": [
    {
     "data": {
      "text/html": [
       "<div>\n",
       "<style scoped>\n",
       "    .dataframe tbody tr th:only-of-type {\n",
       "        vertical-align: middle;\n",
       "    }\n",
       "\n",
       "    .dataframe tbody tr th {\n",
       "        vertical-align: top;\n",
       "    }\n",
       "\n",
       "    .dataframe thead th {\n",
       "        text-align: right;\n",
       "    }\n",
       "</style>\n",
       "<table border=\"1\" class=\"dataframe\">\n",
       "  <thead>\n",
       "    <tr style=\"text-align: right;\">\n",
       "      <th></th>\n",
       "      <th>degree</th>\n",
       "      <th>income</th>\n",
       "      <th>city_Kiev</th>\n",
       "      <th>city_London</th>\n",
       "      <th>city_Moscow</th>\n",
       "      <th>class_A</th>\n",
       "      <th>class_B</th>\n",
       "    </tr>\n",
       "  </thead>\n",
       "  <tbody>\n",
       "    <tr>\n",
       "      <th>0</th>\n",
       "      <td>1</td>\n",
       "      <td>10.2</td>\n",
       "      <td>0</td>\n",
       "      <td>0</td>\n",
       "      <td>1</td>\n",
       "      <td>1</td>\n",
       "      <td>0</td>\n",
       "    </tr>\n",
       "    <tr>\n",
       "      <th>1</th>\n",
       "      <td>1</td>\n",
       "      <td>11.6</td>\n",
       "      <td>0</td>\n",
       "      <td>1</td>\n",
       "      <td>0</td>\n",
       "      <td>0</td>\n",
       "      <td>1</td>\n",
       "    </tr>\n",
       "    <tr>\n",
       "      <th>2</th>\n",
       "      <td>2</td>\n",
       "      <td>8.8</td>\n",
       "      <td>0</td>\n",
       "      <td>1</td>\n",
       "      <td>0</td>\n",
       "      <td>1</td>\n",
       "      <td>0</td>\n",
       "    </tr>\n",
       "    <tr>\n",
       "      <th>3</th>\n",
       "      <td>2</td>\n",
       "      <td>9.0</td>\n",
       "      <td>1</td>\n",
       "      <td>0</td>\n",
       "      <td>0</td>\n",
       "      <td>1</td>\n",
       "      <td>0</td>\n",
       "    </tr>\n",
       "    <tr>\n",
       "      <th>4</th>\n",
       "      <td>3</td>\n",
       "      <td>6.6</td>\n",
       "      <td>0</td>\n",
       "      <td>0</td>\n",
       "      <td>1</td>\n",
       "      <td>0</td>\n",
       "      <td>1</td>\n",
       "    </tr>\n",
       "    <tr>\n",
       "      <th>5</th>\n",
       "      <td>3</td>\n",
       "      <td>10.0</td>\n",
       "      <td>0</td>\n",
       "      <td>0</td>\n",
       "      <td>1</td>\n",
       "      <td>0</td>\n",
       "      <td>1</td>\n",
       "    </tr>\n",
       "    <tr>\n",
       "      <th>6</th>\n",
       "      <td>1</td>\n",
       "      <td>9.0</td>\n",
       "      <td>1</td>\n",
       "      <td>0</td>\n",
       "      <td>0</td>\n",
       "      <td>1</td>\n",
       "      <td>0</td>\n",
       "    </tr>\n",
       "    <tr>\n",
       "      <th>7</th>\n",
       "      <td>1</td>\n",
       "      <td>7.2</td>\n",
       "      <td>0</td>\n",
       "      <td>0</td>\n",
       "      <td>1</td>\n",
       "      <td>1</td>\n",
       "      <td>0</td>\n",
       "    </tr>\n",
       "  </tbody>\n",
       "</table>\n",
       "</div>"
      ],
      "text/plain": [
       "   degree  income  city_Kiev  city_London  city_Moscow  class_A  class_B\n",
       "0       1    10.2          0            0            1        1        0\n",
       "1       1    11.6          0            1            0        0        1\n",
       "2       2     8.8          0            1            0        1        0\n",
       "3       2     9.0          1            0            0        1        0\n",
       "4       3     6.6          0            0            1        0        1\n",
       "5       3    10.0          0            0            1        0        1\n",
       "6       1     9.0          1            0            0        1        0\n",
       "7       1     7.2          0            0            1        1        0"
      ]
     },
     "execution_count": 2018,
     "metadata": {},
     "output_type": "execute_result"
    }
   ],
   "source": [
    "# Очень просто с помощью pandas\n",
    "# Заметим при этом, что `degree` и `income` остались неизменными.\n",
    "pd.get_dummies(data)"
   ]
  },
  {
   "cell_type": "markdown",
   "metadata": {
    "button": false,
    "colab_type": "text",
    "id": "HyShoidlgi0_",
    "new_sheet": false,
    "run_control": {
     "read_only": false
    }
   },
   "source": [
    "Если хочется больше гибкости, можно попробовать для тех же целей воспользоваться `OneHotEncoder` из `sklearn.preprocessing`"
   ]
  },
  {
   "cell_type": "markdown",
   "metadata": {
    "button": false,
    "colab_type": "text",
    "id": "dStcJsoRgi1A",
    "new_sheet": false,
    "run_control": {
     "read_only": false
    }
   },
   "source": [
    "2) **Группируем числовые признаки по категориальным**\n",
    "\n",
    "Например, для каждого значения признака `city` из нашей таблички можно посчитать среднее значение `income`."
   ]
  },
  {
   "cell_type": "code",
   "execution_count": 2019,
   "metadata": {
    "button": false,
    "colab": {},
    "colab_type": "code",
    "id": "ru8a19wlgi1B",
    "new_sheet": false,
    "outputId": "4dae24b2-8543-401a-e37e-3262d23a4ed9",
    "run_control": {
     "read_only": false
    }
   },
   "outputs": [
    {
     "data": {
      "text/html": [
       "<div>\n",
       "<style scoped>\n",
       "    .dataframe tbody tr th:only-of-type {\n",
       "        vertical-align: middle;\n",
       "    }\n",
       "\n",
       "    .dataframe tbody tr th {\n",
       "        vertical-align: top;\n",
       "    }\n",
       "\n",
       "    .dataframe thead th {\n",
       "        text-align: right;\n",
       "    }\n",
       "</style>\n",
       "<table border=\"1\" class=\"dataframe\">\n",
       "  <thead>\n",
       "    <tr style=\"text-align: right;\">\n",
       "      <th></th>\n",
       "      <th>city</th>\n",
       "      <th>degree</th>\n",
       "      <th>class</th>\n",
       "      <th>income</th>\n",
       "      <th>city_mean_income</th>\n",
       "    </tr>\n",
       "  </thead>\n",
       "  <tbody>\n",
       "    <tr>\n",
       "      <th>0</th>\n",
       "      <td>Moscow</td>\n",
       "      <td>1</td>\n",
       "      <td>A</td>\n",
       "      <td>10.2</td>\n",
       "      <td>8.5</td>\n",
       "    </tr>\n",
       "    <tr>\n",
       "      <th>1</th>\n",
       "      <td>London</td>\n",
       "      <td>1</td>\n",
       "      <td>B</td>\n",
       "      <td>11.6</td>\n",
       "      <td>10.2</td>\n",
       "    </tr>\n",
       "    <tr>\n",
       "      <th>2</th>\n",
       "      <td>London</td>\n",
       "      <td>2</td>\n",
       "      <td>A</td>\n",
       "      <td>8.8</td>\n",
       "      <td>10.2</td>\n",
       "    </tr>\n",
       "    <tr>\n",
       "      <th>3</th>\n",
       "      <td>Kiev</td>\n",
       "      <td>2</td>\n",
       "      <td>A</td>\n",
       "      <td>9.0</td>\n",
       "      <td>9.0</td>\n",
       "    </tr>\n",
       "    <tr>\n",
       "      <th>4</th>\n",
       "      <td>Moscow</td>\n",
       "      <td>3</td>\n",
       "      <td>B</td>\n",
       "      <td>6.6</td>\n",
       "      <td>8.5</td>\n",
       "    </tr>\n",
       "    <tr>\n",
       "      <th>5</th>\n",
       "      <td>Moscow</td>\n",
       "      <td>3</td>\n",
       "      <td>B</td>\n",
       "      <td>10.0</td>\n",
       "      <td>8.5</td>\n",
       "    </tr>\n",
       "  </tbody>\n",
       "</table>\n",
       "</div>"
      ],
      "text/plain": [
       "     city  degree class  income  city_mean_income\n",
       "0  Moscow       1     A    10.2               8.5\n",
       "1  London       1     B    11.6              10.2\n",
       "2  London       2     A     8.8              10.2\n",
       "3    Kiev       2     A     9.0               9.0\n",
       "4  Moscow       3     B     6.6               8.5\n",
       "5  Moscow       3     B    10.0               8.5"
      ]
     },
     "execution_count": 2019,
     "metadata": {},
     "output_type": "execute_result"
    }
   ],
   "source": [
    "# функция возвращает значения нового признака\n",
    "def code_mean(data, cat_feature, real_feature):\n",
    "    return (data[cat_feature].map(data.groupby(cat_feature)[real_feature].mean()))\n",
    "\n",
    "data = create_data()\n",
    "data['city_mean_income'] = code_mean(data, 'city', 'income')\n",
    "data[:6]"
   ]
  },
  {
   "cell_type": "code",
   "execution_count": 2020,
   "metadata": {
    "button": false,
    "colab": {},
    "colab_type": "code",
    "id": "2AM2FRpjgi1F",
    "new_sheet": false,
    "outputId": "24b66fdd-07fb-4c51-fbe5-6a14271e1ffa",
    "run_control": {
     "read_only": false
    }
   },
   "outputs": [
    {
     "data": {
      "text/plain": [
       "0     8.5\n",
       "1    10.2\n",
       "2    10.2\n",
       "3     9.0\n",
       "4     8.5\n",
       "5     8.5\n",
       "6     9.0\n",
       "7     8.5\n",
       "Name: city, dtype: float64"
      ]
     },
     "execution_count": 2020,
     "metadata": {},
     "output_type": "execute_result"
    }
   ],
   "source": [
    "code_mean(data, 'city', 'income')"
   ]
  },
  {
   "cell_type": "markdown",
   "metadata": {
    "button": false,
    "colab_type": "text",
    "id": "LIY3peBogi1I",
    "new_sheet": false,
    "run_control": {
     "read_only": false
    }
   },
   "source": [
    "### Дата и время\n",
    "\n",
    "Для примера рассмотрим датасет UFO (оригинальная полная версия датасета находится [здесь](https://www.kaggle.com/NUFORC/ufo-sightings)) в котором для каждого события известна дата и конкретное время"
   ]
  },
  {
   "cell_type": "code",
   "execution_count": 2021,
   "metadata": {
    "button": false,
    "colab": {},
    "colab_type": "code",
    "id": "tjSiENXXgi1J",
    "new_sheet": false,
    "outputId": "844c9893-3c00-463f-a721-af31bce93bc6",
    "run_control": {
     "read_only": false
    }
   },
   "outputs": [
    {
     "data": {
      "text/html": [
       "<div>\n",
       "<style scoped>\n",
       "    .dataframe tbody tr th:only-of-type {\n",
       "        vertical-align: middle;\n",
       "    }\n",
       "\n",
       "    .dataframe tbody tr th {\n",
       "        vertical-align: top;\n",
       "    }\n",
       "\n",
       "    .dataframe thead th {\n",
       "        text-align: right;\n",
       "    }\n",
       "</style>\n",
       "<table border=\"1\" class=\"dataframe\">\n",
       "  <thead>\n",
       "    <tr style=\"text-align: right;\">\n",
       "      <th></th>\n",
       "      <th>datetime</th>\n",
       "      <th>city</th>\n",
       "      <th>state</th>\n",
       "      <th>country</th>\n",
       "      <th>shape</th>\n",
       "      <th>duration (seconds)</th>\n",
       "      <th>duration (hours/min)</th>\n",
       "      <th>comments</th>\n",
       "      <th>date posted</th>\n",
       "      <th>latitude</th>\n",
       "      <th>longitude</th>\n",
       "    </tr>\n",
       "  </thead>\n",
       "  <tbody>\n",
       "    <tr>\n",
       "      <th>0</th>\n",
       "      <td>10/10/1949 20:30</td>\n",
       "      <td>san marcos</td>\n",
       "      <td>tx</td>\n",
       "      <td>us</td>\n",
       "      <td>cylinder</td>\n",
       "      <td>2700</td>\n",
       "      <td>45 minutes</td>\n",
       "      <td>This event took place in early fall around 194...</td>\n",
       "      <td>4/27/2004</td>\n",
       "      <td>29.8830556</td>\n",
       "      <td>-97.941111</td>\n",
       "    </tr>\n",
       "    <tr>\n",
       "      <th>1</th>\n",
       "      <td>10/10/1949 21:00</td>\n",
       "      <td>lackland afb</td>\n",
       "      <td>tx</td>\n",
       "      <td>NaN</td>\n",
       "      <td>light</td>\n",
       "      <td>7200</td>\n",
       "      <td>1-2 hrs</td>\n",
       "      <td>1949 Lackland AFB&amp;#44 TX.  Lights racing acros...</td>\n",
       "      <td>12/16/2005</td>\n",
       "      <td>29.38421</td>\n",
       "      <td>-98.581082</td>\n",
       "    </tr>\n",
       "    <tr>\n",
       "      <th>2</th>\n",
       "      <td>10/10/1955 17:00</td>\n",
       "      <td>chester (uk/england)</td>\n",
       "      <td>NaN</td>\n",
       "      <td>gb</td>\n",
       "      <td>circle</td>\n",
       "      <td>20</td>\n",
       "      <td>20 seconds</td>\n",
       "      <td>Green/Orange circular disc over Chester&amp;#44 En...</td>\n",
       "      <td>1/21/2008</td>\n",
       "      <td>53.2</td>\n",
       "      <td>-2.916667</td>\n",
       "    </tr>\n",
       "    <tr>\n",
       "      <th>3</th>\n",
       "      <td>10/10/1956 21:00</td>\n",
       "      <td>edna</td>\n",
       "      <td>tx</td>\n",
       "      <td>us</td>\n",
       "      <td>circle</td>\n",
       "      <td>20</td>\n",
       "      <td>1/2 hour</td>\n",
       "      <td>My older brother and twin sister were leaving ...</td>\n",
       "      <td>1/17/2004</td>\n",
       "      <td>28.9783333</td>\n",
       "      <td>-96.645833</td>\n",
       "    </tr>\n",
       "    <tr>\n",
       "      <th>4</th>\n",
       "      <td>10/10/1960 20:00</td>\n",
       "      <td>kaneohe</td>\n",
       "      <td>hi</td>\n",
       "      <td>us</td>\n",
       "      <td>light</td>\n",
       "      <td>900</td>\n",
       "      <td>15 minutes</td>\n",
       "      <td>AS a Marine 1st Lt. flying an FJ4B fighter/att...</td>\n",
       "      <td>1/22/2004</td>\n",
       "      <td>21.4180556</td>\n",
       "      <td>-157.803611</td>\n",
       "    </tr>\n",
       "  </tbody>\n",
       "</table>\n",
       "</div>"
      ],
      "text/plain": [
       "           datetime                  city state country     shape  \\\n",
       "0  10/10/1949 20:30            san marcos    tx      us  cylinder   \n",
       "1  10/10/1949 21:00          lackland afb    tx     NaN     light   \n",
       "2  10/10/1955 17:00  chester (uk/england)   NaN      gb    circle   \n",
       "3  10/10/1956 21:00                  edna    tx      us    circle   \n",
       "4  10/10/1960 20:00               kaneohe    hi      us     light   \n",
       "\n",
       "  duration (seconds) duration (hours/min)  \\\n",
       "0               2700           45 minutes   \n",
       "1               7200              1-2 hrs   \n",
       "2                 20           20 seconds   \n",
       "3                 20             1/2 hour   \n",
       "4                900           15 minutes   \n",
       "\n",
       "                                            comments date posted    latitude  \\\n",
       "0  This event took place in early fall around 194...   4/27/2004  29.8830556   \n",
       "1  1949 Lackland AFB&#44 TX.  Lights racing acros...  12/16/2005    29.38421   \n",
       "2  Green/Orange circular disc over Chester&#44 En...   1/21/2008        53.2   \n",
       "3  My older brother and twin sister were leaving ...   1/17/2004  28.9783333   \n",
       "4  AS a Marine 1st Lt. flying an FJ4B fighter/att...   1/22/2004  21.4180556   \n",
       "\n",
       "   longitude   \n",
       "0  -97.941111  \n",
       "1  -98.581082  \n",
       "2   -2.916667  \n",
       "3  -96.645833  \n",
       "4 -157.803611  "
      ]
     },
     "execution_count": 2021,
     "metadata": {},
     "output_type": "execute_result"
    }
   ],
   "source": [
    "df = pd.read_csv(\"ufo.csv\")\n",
    "df.head()"
   ]
  },
  {
   "cell_type": "code",
   "execution_count": 2022,
   "metadata": {
    "button": false,
    "colab": {},
    "colab_type": "code",
    "id": "vHUBuwmLgi1M",
    "new_sheet": false,
    "outputId": "46cab873-7178-47eb-a800-c2f34a7e3d48",
    "run_control": {
     "read_only": false
    }
   },
   "outputs": [
    {
     "data": {
      "text/plain": [
       "datetime                 object\n",
       "city                     object\n",
       "state                    object\n",
       "country                  object\n",
       "shape                    object\n",
       "duration (seconds)       object\n",
       "duration (hours/min)     object\n",
       "comments                 object\n",
       "date posted              object\n",
       "latitude                 object\n",
       "longitude               float64\n",
       "dtype: object"
      ]
     },
     "execution_count": 2022,
     "metadata": {},
     "output_type": "execute_result"
    }
   ],
   "source": [
    "# посмотрим типы столбцов в таблице\n",
    "df.dtypes "
   ]
  },
  {
   "cell_type": "code",
   "execution_count": 2023,
   "metadata": {
    "button": false,
    "colab": {},
    "colab_type": "code",
    "id": "3NcP-ZKTgi1Q",
    "new_sheet": false,
    "outputId": "4ea0b6bc-9b83-47ea-f77c-ceb33ad1d515",
    "run_control": {
     "read_only": false
    }
   },
   "outputs": [
    {
     "data": {
      "text/html": [
       "<div>\n",
       "<style scoped>\n",
       "    .dataframe tbody tr th:only-of-type {\n",
       "        vertical-align: middle;\n",
       "    }\n",
       "\n",
       "    .dataframe tbody tr th {\n",
       "        vertical-align: top;\n",
       "    }\n",
       "\n",
       "    .dataframe thead th {\n",
       "        text-align: right;\n",
       "    }\n",
       "</style>\n",
       "<table border=\"1\" class=\"dataframe\">\n",
       "  <thead>\n",
       "    <tr style=\"text-align: right;\">\n",
       "      <th></th>\n",
       "      <th>datetime</th>\n",
       "      <th>city</th>\n",
       "      <th>state</th>\n",
       "      <th>country</th>\n",
       "      <th>shape</th>\n",
       "      <th>duration (seconds)</th>\n",
       "      <th>duration (hours/min)</th>\n",
       "      <th>comments</th>\n",
       "      <th>date posted</th>\n",
       "      <th>latitude</th>\n",
       "      <th>longitude</th>\n",
       "    </tr>\n",
       "  </thead>\n",
       "  <tbody>\n",
       "    <tr>\n",
       "      <th>0</th>\n",
       "      <td>10/10/1949 20:30</td>\n",
       "      <td>san marcos</td>\n",
       "      <td>tx</td>\n",
       "      <td>us</td>\n",
       "      <td>cylinder</td>\n",
       "      <td>2700</td>\n",
       "      <td>45 minutes</td>\n",
       "      <td>This event took place in early fall around 194...</td>\n",
       "      <td>4/27/2004</td>\n",
       "      <td>29.8830556</td>\n",
       "      <td>-97.941111</td>\n",
       "    </tr>\n",
       "    <tr>\n",
       "      <th>1</th>\n",
       "      <td>10/10/1949 21:00</td>\n",
       "      <td>lackland afb</td>\n",
       "      <td>tx</td>\n",
       "      <td>NaN</td>\n",
       "      <td>light</td>\n",
       "      <td>7200</td>\n",
       "      <td>1-2 hrs</td>\n",
       "      <td>1949 Lackland AFB&amp;#44 TX.  Lights racing acros...</td>\n",
       "      <td>12/16/2005</td>\n",
       "      <td>29.38421</td>\n",
       "      <td>-98.581082</td>\n",
       "    </tr>\n",
       "    <tr>\n",
       "      <th>2</th>\n",
       "      <td>10/10/1955 17:00</td>\n",
       "      <td>chester (uk/england)</td>\n",
       "      <td>NaN</td>\n",
       "      <td>gb</td>\n",
       "      <td>circle</td>\n",
       "      <td>20</td>\n",
       "      <td>20 seconds</td>\n",
       "      <td>Green/Orange circular disc over Chester&amp;#44 En...</td>\n",
       "      <td>1/21/2008</td>\n",
       "      <td>53.2</td>\n",
       "      <td>-2.916667</td>\n",
       "    </tr>\n",
       "    <tr>\n",
       "      <th>3</th>\n",
       "      <td>10/10/1956 21:00</td>\n",
       "      <td>edna</td>\n",
       "      <td>tx</td>\n",
       "      <td>us</td>\n",
       "      <td>circle</td>\n",
       "      <td>20</td>\n",
       "      <td>1/2 hour</td>\n",
       "      <td>My older brother and twin sister were leaving ...</td>\n",
       "      <td>1/17/2004</td>\n",
       "      <td>28.9783333</td>\n",
       "      <td>-96.645833</td>\n",
       "    </tr>\n",
       "    <tr>\n",
       "      <th>4</th>\n",
       "      <td>10/10/1960 20:00</td>\n",
       "      <td>kaneohe</td>\n",
       "      <td>hi</td>\n",
       "      <td>us</td>\n",
       "      <td>light</td>\n",
       "      <td>900</td>\n",
       "      <td>15 minutes</td>\n",
       "      <td>AS a Marine 1st Lt. flying an FJ4B fighter/att...</td>\n",
       "      <td>1/22/2004</td>\n",
       "      <td>21.4180556</td>\n",
       "      <td>-157.803611</td>\n",
       "    </tr>\n",
       "    <tr>\n",
       "      <th>...</th>\n",
       "      <td>...</td>\n",
       "      <td>...</td>\n",
       "      <td>...</td>\n",
       "      <td>...</td>\n",
       "      <td>...</td>\n",
       "      <td>...</td>\n",
       "      <td>...</td>\n",
       "      <td>...</td>\n",
       "      <td>...</td>\n",
       "      <td>...</td>\n",
       "      <td>...</td>\n",
       "    </tr>\n",
       "    <tr>\n",
       "      <th>80327</th>\n",
       "      <td>9/9/2013 21:15</td>\n",
       "      <td>nashville</td>\n",
       "      <td>tn</td>\n",
       "      <td>us</td>\n",
       "      <td>light</td>\n",
       "      <td>600.0</td>\n",
       "      <td>10 minutes</td>\n",
       "      <td>Round from the distance/slowly changing colors...</td>\n",
       "      <td>9/30/2013</td>\n",
       "      <td>36.165833</td>\n",
       "      <td>-86.784444</td>\n",
       "    </tr>\n",
       "    <tr>\n",
       "      <th>80328</th>\n",
       "      <td>9/9/2013 22:00</td>\n",
       "      <td>boise</td>\n",
       "      <td>id</td>\n",
       "      <td>us</td>\n",
       "      <td>circle</td>\n",
       "      <td>1200.0</td>\n",
       "      <td>20 minutes</td>\n",
       "      <td>Boise&amp;#44 ID&amp;#44 spherical&amp;#44 20 min&amp;#44 10 r...</td>\n",
       "      <td>9/30/2013</td>\n",
       "      <td>43.613611</td>\n",
       "      <td>-116.202500</td>\n",
       "    </tr>\n",
       "    <tr>\n",
       "      <th>80329</th>\n",
       "      <td>9/9/2013 22:00</td>\n",
       "      <td>napa</td>\n",
       "      <td>ca</td>\n",
       "      <td>us</td>\n",
       "      <td>other</td>\n",
       "      <td>1200.0</td>\n",
       "      <td>hour</td>\n",
       "      <td>Napa UFO&amp;#44</td>\n",
       "      <td>9/30/2013</td>\n",
       "      <td>38.297222</td>\n",
       "      <td>-122.284444</td>\n",
       "    </tr>\n",
       "    <tr>\n",
       "      <th>80330</th>\n",
       "      <td>9/9/2013 22:20</td>\n",
       "      <td>vienna</td>\n",
       "      <td>va</td>\n",
       "      <td>us</td>\n",
       "      <td>circle</td>\n",
       "      <td>5.0</td>\n",
       "      <td>5 seconds</td>\n",
       "      <td>Saw a five gold lit cicular craft moving fastl...</td>\n",
       "      <td>9/30/2013</td>\n",
       "      <td>38.901111</td>\n",
       "      <td>-77.265556</td>\n",
       "    </tr>\n",
       "    <tr>\n",
       "      <th>80331</th>\n",
       "      <td>9/9/2013 23:00</td>\n",
       "      <td>edmond</td>\n",
       "      <td>ok</td>\n",
       "      <td>us</td>\n",
       "      <td>cigar</td>\n",
       "      <td>1020.0</td>\n",
       "      <td>17 minutes</td>\n",
       "      <td>2 witnesses 2  miles apart&amp;#44 Red &amp;amp; White...</td>\n",
       "      <td>9/30/2013</td>\n",
       "      <td>35.652778</td>\n",
       "      <td>-97.477778</td>\n",
       "    </tr>\n",
       "  </tbody>\n",
       "</table>\n",
       "<p>80332 rows × 11 columns</p>\n",
       "</div>"
      ],
      "text/plain": [
       "               datetime                  city state country     shape  \\\n",
       "0      10/10/1949 20:30            san marcos    tx      us  cylinder   \n",
       "1      10/10/1949 21:00          lackland afb    tx     NaN     light   \n",
       "2      10/10/1955 17:00  chester (uk/england)   NaN      gb    circle   \n",
       "3      10/10/1956 21:00                  edna    tx      us    circle   \n",
       "4      10/10/1960 20:00               kaneohe    hi      us     light   \n",
       "...                 ...                   ...   ...     ...       ...   \n",
       "80327    9/9/2013 21:15             nashville    tn      us     light   \n",
       "80328    9/9/2013 22:00                 boise    id      us    circle   \n",
       "80329    9/9/2013 22:00                  napa    ca      us     other   \n",
       "80330    9/9/2013 22:20                vienna    va      us    circle   \n",
       "80331    9/9/2013 23:00                edmond    ok      us     cigar   \n",
       "\n",
       "      duration (seconds) duration (hours/min)  \\\n",
       "0                   2700           45 minutes   \n",
       "1                   7200              1-2 hrs   \n",
       "2                     20           20 seconds   \n",
       "3                     20             1/2 hour   \n",
       "4                    900           15 minutes   \n",
       "...                  ...                  ...   \n",
       "80327              600.0           10 minutes   \n",
       "80328             1200.0           20 minutes   \n",
       "80329             1200.0                 hour   \n",
       "80330                5.0            5 seconds   \n",
       "80331             1020.0           17 minutes   \n",
       "\n",
       "                                                comments date posted  \\\n",
       "0      This event took place in early fall around 194...   4/27/2004   \n",
       "1      1949 Lackland AFB&#44 TX.  Lights racing acros...  12/16/2005   \n",
       "2      Green/Orange circular disc over Chester&#44 En...   1/21/2008   \n",
       "3      My older brother and twin sister were leaving ...   1/17/2004   \n",
       "4      AS a Marine 1st Lt. flying an FJ4B fighter/att...   1/22/2004   \n",
       "...                                                  ...         ...   \n",
       "80327  Round from the distance/slowly changing colors...   9/30/2013   \n",
       "80328  Boise&#44 ID&#44 spherical&#44 20 min&#44 10 r...   9/30/2013   \n",
       "80329                                       Napa UFO&#44   9/30/2013   \n",
       "80330  Saw a five gold lit cicular craft moving fastl...   9/30/2013   \n",
       "80331  2 witnesses 2  miles apart&#44 Red &amp; White...   9/30/2013   \n",
       "\n",
       "         latitude  longitude   \n",
       "0      29.8830556  -97.941111  \n",
       "1        29.38421  -98.581082  \n",
       "2            53.2   -2.916667  \n",
       "3      28.9783333  -96.645833  \n",
       "4      21.4180556 -157.803611  \n",
       "...           ...         ...  \n",
       "80327   36.165833  -86.784444  \n",
       "80328   43.613611 -116.202500  \n",
       "80329   38.297222 -122.284444  \n",
       "80330   38.901111  -77.265556  \n",
       "80331   35.652778  -97.477778  \n",
       "\n",
       "[80332 rows x 11 columns]"
      ]
     },
     "execution_count": 2023,
     "metadata": {},
     "output_type": "execute_result"
    }
   ],
   "source": [
    "# Переводим Time в формат времени\n",
    "# Теперь для столбца \"Time\" тип изменился\n",
    "#df['dateime'] = pd.to_datetime(df['datetime'], infer_datetime_format=True)\n",
    "#df.insert(1, 'year', df['datetime'].dt.year)\n",
    "df.dtypes\n",
    "df"
   ]
  },
  {
   "cell_type": "markdown",
   "metadata": {
    "button": false,
    "colab_type": "text",
    "id": "3jJV8icTgi1V",
    "new_sheet": false,
    "run_control": {
     "read_only": false
    }
   },
   "source": [
    "Правильный формат данных для хранения даты времени позволяет сразу получать категориальные признаки"
   ]
  },
  {
   "cell_type": "code",
   "execution_count": 2024,
   "metadata": {
    "button": false,
    "colab": {},
    "colab_type": "code",
    "id": "y3C5oAzBgi1W",
    "new_sheet": false,
    "outputId": "4af452d9-1f81-4256-895f-e23764c673bf",
    "run_control": {
     "read_only": false
    }
   },
   "outputs": [
    {
     "data": {
      "text/plain": [
       "0    20\n",
       "1    21\n",
       "2    17\n",
       "3    21\n",
       "4    20\n",
       "Name: datetime, dtype: int64"
      ]
     },
     "execution_count": 2024,
     "metadata": {},
     "output_type": "execute_result"
    }
   ],
   "source": [
    "# Какой час\n",
    "df['datetime'] = df['datetime'].str.replace(' 24:', ' 00:', regex=False)\n",
    "df['datetime'] = pd.to_datetime(df.datetime, format='%m/%d/%Y %H:%M')\n",
    "df['datetime'].dt.hour.head()"
   ]
  },
  {
   "cell_type": "code",
   "execution_count": 2025,
   "metadata": {
    "button": false,
    "colab": {},
    "colab_type": "code",
    "id": "Zr4ynnvlgi1Z",
    "new_sheet": false,
    "outputId": "9488288d-678d-4d63-c6ef-f69a122cad88",
    "run_control": {
     "read_only": false
    }
   },
   "outputs": [
    {
     "data": {
      "text/plain": [
       "0       Monday\n",
       "1       Monday\n",
       "2       Monday\n",
       "3    Wednesday\n",
       "4       Monday\n",
       "Name: datetime, dtype: object"
      ]
     },
     "execution_count": 2025,
     "metadata": {},
     "output_type": "execute_result"
    }
   ],
   "source": [
    "# Название дня недели\n",
    "df['datetime'].dt.day_name().head() "
   ]
  },
  {
   "cell_type": "code",
   "execution_count": 2026,
   "metadata": {
    "button": false,
    "colab": {},
    "colab_type": "code",
    "id": "R65c69Sxgi1b",
    "new_sheet": false,
    "run_control": {
     "read_only": false
    }
   },
   "outputs": [],
   "source": [
    "# Является ли этот день выходным\n",
    "df['is_weekend'] = df['datetime'].apply(lambda x: 1 if x.date().weekday() in (5, 6) else 0)"
   ]
  },
  {
   "cell_type": "code",
   "execution_count": 2027,
   "metadata": {
    "button": false,
    "colab": {},
    "colab_type": "code",
    "id": "Rh672-d5gi1l",
    "new_sheet": false,
    "outputId": "70ec34d8-2f96-418e-c8d6-fe704851c65c",
    "run_control": {
     "read_only": false
    }
   },
   "outputs": [
    {
     "data": {
      "text/html": [
       "<div>\n",
       "<style scoped>\n",
       "    .dataframe tbody tr th:only-of-type {\n",
       "        vertical-align: middle;\n",
       "    }\n",
       "\n",
       "    .dataframe tbody tr th {\n",
       "        vertical-align: top;\n",
       "    }\n",
       "\n",
       "    .dataframe thead th {\n",
       "        text-align: right;\n",
       "    }\n",
       "</style>\n",
       "<table border=\"1\" class=\"dataframe\">\n",
       "  <thead>\n",
       "    <tr style=\"text-align: right;\">\n",
       "      <th></th>\n",
       "      <th>datetime</th>\n",
       "      <th>city</th>\n",
       "      <th>state</th>\n",
       "      <th>country</th>\n",
       "      <th>shape</th>\n",
       "      <th>duration (seconds)</th>\n",
       "      <th>duration (hours/min)</th>\n",
       "      <th>comments</th>\n",
       "      <th>date posted</th>\n",
       "      <th>latitude</th>\n",
       "      <th>longitude</th>\n",
       "      <th>is_weekend</th>\n",
       "    </tr>\n",
       "  </thead>\n",
       "  <tbody>\n",
       "    <tr>\n",
       "      <th>0</th>\n",
       "      <td>1949-10-10 20:30:00</td>\n",
       "      <td>san marcos</td>\n",
       "      <td>tx</td>\n",
       "      <td>us</td>\n",
       "      <td>cylinder</td>\n",
       "      <td>2700</td>\n",
       "      <td>45 minutes</td>\n",
       "      <td>This event took place in early fall around 194...</td>\n",
       "      <td>4/27/2004</td>\n",
       "      <td>29.8830556</td>\n",
       "      <td>-97.941111</td>\n",
       "      <td>0</td>\n",
       "    </tr>\n",
       "    <tr>\n",
       "      <th>1</th>\n",
       "      <td>1949-10-10 21:00:00</td>\n",
       "      <td>lackland afb</td>\n",
       "      <td>tx</td>\n",
       "      <td>NaN</td>\n",
       "      <td>light</td>\n",
       "      <td>7200</td>\n",
       "      <td>1-2 hrs</td>\n",
       "      <td>1949 Lackland AFB&amp;#44 TX.  Lights racing acros...</td>\n",
       "      <td>12/16/2005</td>\n",
       "      <td>29.38421</td>\n",
       "      <td>-98.581082</td>\n",
       "      <td>0</td>\n",
       "    </tr>\n",
       "    <tr>\n",
       "      <th>2</th>\n",
       "      <td>1955-10-10 17:00:00</td>\n",
       "      <td>chester (uk/england)</td>\n",
       "      <td>NaN</td>\n",
       "      <td>gb</td>\n",
       "      <td>circle</td>\n",
       "      <td>20</td>\n",
       "      <td>20 seconds</td>\n",
       "      <td>Green/Orange circular disc over Chester&amp;#44 En...</td>\n",
       "      <td>1/21/2008</td>\n",
       "      <td>53.2</td>\n",
       "      <td>-2.916667</td>\n",
       "      <td>0</td>\n",
       "    </tr>\n",
       "    <tr>\n",
       "      <th>3</th>\n",
       "      <td>1956-10-10 21:00:00</td>\n",
       "      <td>edna</td>\n",
       "      <td>tx</td>\n",
       "      <td>us</td>\n",
       "      <td>circle</td>\n",
       "      <td>20</td>\n",
       "      <td>1/2 hour</td>\n",
       "      <td>My older brother and twin sister were leaving ...</td>\n",
       "      <td>1/17/2004</td>\n",
       "      <td>28.9783333</td>\n",
       "      <td>-96.645833</td>\n",
       "      <td>0</td>\n",
       "    </tr>\n",
       "    <tr>\n",
       "      <th>4</th>\n",
       "      <td>1960-10-10 20:00:00</td>\n",
       "      <td>kaneohe</td>\n",
       "      <td>hi</td>\n",
       "      <td>us</td>\n",
       "      <td>light</td>\n",
       "      <td>900</td>\n",
       "      <td>15 minutes</td>\n",
       "      <td>AS a Marine 1st Lt. flying an FJ4B fighter/att...</td>\n",
       "      <td>1/22/2004</td>\n",
       "      <td>21.4180556</td>\n",
       "      <td>-157.803611</td>\n",
       "      <td>0</td>\n",
       "    </tr>\n",
       "  </tbody>\n",
       "</table>\n",
       "</div>"
      ],
      "text/plain": [
       "             datetime                  city state country     shape  \\\n",
       "0 1949-10-10 20:30:00            san marcos    tx      us  cylinder   \n",
       "1 1949-10-10 21:00:00          lackland afb    tx     NaN     light   \n",
       "2 1955-10-10 17:00:00  chester (uk/england)   NaN      gb    circle   \n",
       "3 1956-10-10 21:00:00                  edna    tx      us    circle   \n",
       "4 1960-10-10 20:00:00               kaneohe    hi      us     light   \n",
       "\n",
       "  duration (seconds) duration (hours/min)  \\\n",
       "0               2700           45 minutes   \n",
       "1               7200              1-2 hrs   \n",
       "2                 20           20 seconds   \n",
       "3                 20             1/2 hour   \n",
       "4                900           15 minutes   \n",
       "\n",
       "                                            comments date posted    latitude  \\\n",
       "0  This event took place in early fall around 194...   4/27/2004  29.8830556   \n",
       "1  1949 Lackland AFB&#44 TX.  Lights racing acros...  12/16/2005    29.38421   \n",
       "2  Green/Orange circular disc over Chester&#44 En...   1/21/2008        53.2   \n",
       "3  My older brother and twin sister were leaving ...   1/17/2004  28.9783333   \n",
       "4  AS a Marine 1st Lt. flying an FJ4B fighter/att...   1/22/2004  21.4180556   \n",
       "\n",
       "   longitude   is_weekend  \n",
       "0  -97.941111           0  \n",
       "1  -98.581082           0  \n",
       "2   -2.916667           0  \n",
       "3  -96.645833           0  \n",
       "4 -157.803611           0  "
      ]
     },
     "execution_count": 2027,
     "metadata": {},
     "output_type": "execute_result"
    }
   ],
   "source": [
    "df.head()"
   ]
  },
  {
   "cell_type": "markdown",
   "metadata": {
    "button": false,
    "colab_type": "text",
    "id": "sxSQX7qPgi1q",
    "new_sheet": false,
    "run_control": {
     "read_only": false
    }
   },
   "source": [
    "* **Проекция на окружность и использованием 2х координат**\n",
    "\n",
    "Использование более эзотерических подходов для нормализации значения времени.\n",
    "\n",
    "---\n",
    "**Идея взята из курса [ml course open](https://medium.com/open-machine-learning-course/open-machine-learning-course-topic-6-feature-engineering-and-feature-selection-8b94f870706a)"
   ]
  },
  {
   "cell_type": "code",
   "execution_count": 2028,
   "metadata": {
    "button": false,
    "colab": {},
    "colab_type": "code",
    "id": "xzhlPSOzgi1r",
    "new_sheet": false,
    "outputId": "e13642bd-8efc-428f-b48b-8873c5eb182f",
    "run_control": {
     "read_only": false
    }
   },
   "outputs": [
    {
     "data": {
      "text/plain": [
       "(-1.0, 1.2246467991473532e-16)"
      ]
     },
     "execution_count": 2028,
     "metadata": {},
     "output_type": "execute_result"
    }
   ],
   "source": [
    "def make_harmonic_features(value, period=24):\n",
    "    value *= 2 * np.pi / period\n",
    "    return np.cos(value), np.sin(value)\n",
    "\n",
    "make_harmonic_features(12)"
   ]
  },
  {
   "cell_type": "markdown",
   "metadata": {
    "button": false,
    "colab_type": "text",
    "id": "Hd7EmcCNgi1t",
    "new_sheet": false,
    "run_control": {
     "read_only": false
    }
   },
   "source": [
    "### Геоданные\n",
    "\n",
    "Возможно находить строковый адрес по данным координатам локации, однако это требует большой аккуратности в интерпретации и чистке полученных значений.\n",
    "\n",
    "\n",
    "---\n",
    "**Идея взята из курса [ml course open](https://medium.com/open-machine-learning-course/open-machine-learning-course-topic-6-feature-engineering-and-feature-selection-8b94f870706a)"
   ]
  },
  {
   "cell_type": "code",
   "execution_count": 2029,
   "metadata": {
    "button": false,
    "colab": {},
    "colab_type": "code",
    "id": "Pf5fwkVqgi1t",
    "new_sheet": false,
    "outputId": "e92b672e-5044-4909-fec5-6d5d97d16b19",
    "run_control": {
     "read_only": false
    }
   },
   "outputs": [],
   "source": [
    "#!pip install reverse_geocoder"
   ]
  },
  {
   "cell_type": "code",
   "execution_count": 2030,
   "metadata": {
    "button": false,
    "colab": {},
    "colab_type": "code",
    "id": "B3B9jNsFgi1w",
    "new_sheet": false,
    "outputId": "46bb734b-2a0a-407e-c34b-cb12a4b66ebc",
    "run_control": {
     "read_only": false
    }
   },
   "outputs": [
    {
     "data": {
      "text/plain": [
       "[{'lat': '40.74482',\n",
       "  'lon': '-73.94875',\n",
       "  'name': 'Long Island City',\n",
       "  'admin1': 'New York',\n",
       "  'admin2': 'Queens County',\n",
       "  'cc': 'US'}]"
      ]
     },
     "execution_count": 2030,
     "metadata": {},
     "output_type": "execute_result"
    }
   ],
   "source": [
    "import reverse_geocoder as revgc\n",
    "revgc.search((40.74482, -73.94875))"
   ]
  },
  {
   "cell_type": "markdown",
   "metadata": {
    "button": false,
    "colab_type": "text",
    "id": "FMpsYH7Mgi1z",
    "new_sheet": false,
    "run_control": {
     "read_only": false
    }
   },
   "source": [
    "---\n",
    "\n",
    "# Полезные преобразования данных\n",
    "\n",
    "Иногда числовые значения признаков хорошо бы привести к другим значениям с помощью преобразований. Очень часто это может улучшить результаты некоторых алгоритмов. Такие алгоритмы, как правило, делают некоторые предположения о характере данных или же опираются на расстояния между элементами выборки.\n",
    "\n",
    "\n",
    "**Популярные преобразования**\n",
    "\n",
    "(1) **Z-score**\n",
    "$$\\large z(x) = \\frac{x - \\mu}{\\sigma}$$\n",
    "\n",
    "* Полезно, если существенно расстояние между точками (например в knn)\n",
    "* Это преобразование линейное, оно не меняет распределение данных"
   ]
  },
  {
   "cell_type": "code",
   "execution_count": 2031,
   "metadata": {
    "button": false,
    "colab": {},
    "colab_type": "code",
    "id": "17ljUSo6gi1z",
    "new_sheet": false,
    "run_control": {
     "read_only": false
    }
   },
   "outputs": [],
   "source": [
    "# Есть в sklearn\n",
    "from sklearn.preprocessing import StandardScaler"
   ]
  },
  {
   "cell_type": "code",
   "execution_count": 2032,
   "metadata": {
    "button": false,
    "colab": {},
    "colab_type": "code",
    "id": "aFiVJOBUgi12",
    "new_sheet": false,
    "outputId": "9cb35c3d-c7ef-45c8-94ba-001dc4047a01",
    "run_control": {
     "read_only": false
    }
   },
   "outputs": [
    {
     "data": {
      "text/plain": [
       "array([[-0.3529866 ],\n",
       "       [-0.3529866 ],\n",
       "       [-0.38507628],\n",
       "       [-0.417166  ],\n",
       "       [-0.32089692],\n",
       "       [-0.2888072 ],\n",
       "       [-0.44925568],\n",
       "       [-0.25671753],\n",
       "       [ 2.8238928 ]], dtype=float32)"
      ]
     },
     "execution_count": 2032,
     "metadata": {},
     "output_type": "execute_result"
    }
   ],
   "source": [
    "# Обратим внимание на значение 100\n",
    "data = np.array([1, 1, 0, -1, 2, 3, -2, 4, 100], dtype=np.float32).reshape(-1,1)\n",
    "StandardScaler().fit_transform(data)"
   ]
  },
  {
   "cell_type": "code",
   "execution_count": 2033,
   "metadata": {
    "button": false,
    "colab": {},
    "colab_type": "code",
    "id": "06gwWUvqgi14",
    "new_sheet": false,
    "outputId": "1bcc1778-595d-4ab4-c0f0-330900403620",
    "run_control": {
     "read_only": false
    }
   },
   "outputs": [
    {
     "data": {
      "text/plain": [
       "array([[-0.3529866 ],\n",
       "       [-0.3529866 ],\n",
       "       [-0.3850763 ],\n",
       "       [-0.417166  ],\n",
       "       [-0.32089692],\n",
       "       [-0.28880724],\n",
       "       [-0.44925568],\n",
       "       [-0.25671753],\n",
       "       [ 2.8238928 ]], dtype=float32)"
      ]
     },
     "execution_count": 2033,
     "metadata": {},
     "output_type": "execute_result"
    }
   ],
   "source": [
    "# Это то же самое, что сделать это руками:\n",
    "(data - data.mean()) / data.std()"
   ]
  },
  {
   "cell_type": "markdown",
   "metadata": {
    "button": false,
    "colab_type": "text",
    "id": "lM-40oAngi16",
    "new_sheet": false,
    "run_control": {
     "read_only": false
    }
   },
   "source": [
    "   ---\n",
    "   (2) **MinMax Scaling**\n",
    "    \n",
    "Другой достаточно популярный вариант – MinMax Scaling, который переносит все точки на заданный отрезок (обычно (0, 1))\n",
    "$$ \\large X_{norm}=\\frac{X-X_{min}}{X_{max}-X_{min}} $$\n",
    "\n",
    "* Полезно, если хочется оценить влияние признака по весам в линейной регрессии\n",
    "* Можно перенести значение признака в интервал (0, 255) для визуализации\n",
    "\n",
    "В целом, оба варианта часто взаимозаменяемы."
   ]
  },
  {
   "cell_type": "code",
   "execution_count": 2034,
   "metadata": {
    "button": false,
    "colab": {},
    "colab_type": "code",
    "id": "aaEs2ZjPgi17",
    "new_sheet": false,
    "outputId": "e77f481b-50af-4164-f0f2-a1a24efe9da3",
    "run_control": {
     "read_only": false
    }
   },
   "outputs": [
    {
     "data": {
      "text/plain": [
       "array([[0.02941177],\n",
       "       [0.02941177],\n",
       "       [0.01960784],\n",
       "       [0.00980392],\n",
       "       [0.03921569],\n",
       "       [0.04901961],\n",
       "       [0.        ],\n",
       "       [0.05882353],\n",
       "       [1.0000001 ]], dtype=float32)"
      ]
     },
     "execution_count": 2034,
     "metadata": {},
     "output_type": "execute_result"
    }
   ],
   "source": [
    "# Демонстрация\n",
    "from sklearn.preprocessing import MinMaxScaler\n",
    "MinMaxScaler().fit_transform(data)"
   ]
  },
  {
   "cell_type": "code",
   "execution_count": 2035,
   "metadata": {
    "button": false,
    "colab": {},
    "colab_type": "code",
    "id": "cFwRs85Bgi1-",
    "new_sheet": false,
    "outputId": "869b45c3-fa6a-4b53-e1e8-70285fca46f6",
    "run_control": {
     "read_only": false
    }
   },
   "outputs": [
    {
     "data": {
      "text/plain": [
       "array([[0.02941176],\n",
       "       [0.02941176],\n",
       "       [0.01960784],\n",
       "       [0.00980392],\n",
       "       [0.03921569],\n",
       "       [0.04901961],\n",
       "       [0.        ],\n",
       "       [0.05882353],\n",
       "       [1.        ]], dtype=float32)"
      ]
     },
     "execution_count": 2035,
     "metadata": {},
     "output_type": "execute_result"
    }
   ],
   "source": [
    "(data - data.min()) / (data.max() - data.min())"
   ]
  },
  {
   "cell_type": "markdown",
   "metadata": {
    "button": false,
    "colab_type": "text",
    "id": "4IFlvGJ_gi1_",
    "new_sheet": false,
    "run_control": {
     "read_only": false
    }
   },
   "source": [
    "(3) **Логарифмирование**\n",
    "\n",
    "~~(как способ бороться с тяжелыми хвостами)~~\n",
    "\n",
    "\n",
    "* Существует ряд преобразований, которые позволяют из распределения с \"тяжелым хвостом\" (в английском варианте long tail) сделать распределение похожее на нормальное. \n",
    "\n",
    "* Нормальное распределение нравится многим алгоритмам машинного обучения и такое преобразование иногда может улучшить ситуацию.\n"
   ]
  },
  {
   "cell_type": "code",
   "execution_count": 2036,
   "metadata": {
    "button": false,
    "colab": {},
    "colab_type": "code",
    "id": "S6y9vl41gi2A",
    "new_sheet": false,
    "outputId": "ece92665-a37f-4018-d77a-21766efb93fa",
    "run_control": {
     "read_only": false
    }
   },
   "outputs": [
    {
     "name": "stdout",
     "output_type": "stream",
     "text": [
      "Populating the interactive namespace from numpy and matplotlib\n"
     ]
    }
   ],
   "source": [
    "# Настраиваем параметры отрисовки графиков\n",
    "%pylab inline\n",
    "plt.style.use('ggplot')\n",
    "plt.rcParams['figure.figsize'] = (10,4)\n",
    "plt.rcParams['font.family'] = 'serif'\n",
    "plt.rcParams['font.serif'] = 'Ubuntu'\n",
    "plt.rcParams['font.monospace'] = 'Ubuntu Mono'\n",
    "plt.rcParams['font.size'] = 10\n",
    "plt.rcParams['axes.labelsize'] = 10\n",
    "plt.rcParams['axes.labelweight'] = 'bold'\n",
    "plt.rcParams['xtick.labelsize'] = 15\n",
    "plt.rcParams['ytick.labelsize'] = 15\n",
    "plt.rcParams['legend.fontsize'] = 10\n",
    "plt.rcParams['figure.titlesize'] = 12"
   ]
  },
  {
   "cell_type": "code",
   "execution_count": 2037,
   "metadata": {
    "button": false,
    "colab": {},
    "colab_type": "code",
    "id": "D3v5iEi6gi2B",
    "new_sheet": false,
    "outputId": "7ef7ab56-dd80-4808-9f26-2cee65562a54",
    "run_control": {
     "read_only": false
    }
   },
   "outputs": [
    {
     "data": {
      "image/png": "[encoded data removed]",
      "text/plain": [
       "<Figure size 720x288 with 1 Axes>"
      ]
     },
     "metadata": {},
     "output_type": "display_data"
    }
   ],
   "source": [
    "from scipy.stats import lognorm\n",
    "\n",
    "# сгенерируем себе выборку\n",
    "\n",
    "data = lognorm(s=1).rvs(1000)\n",
    "plt.hist(data, bins=100)\n",
    "plt.title(\"Классический пример `long tail`\")\n",
    "plt.show()"
   ]
  },
  {
   "cell_type": "code",
   "execution_count": 2038,
   "metadata": {
    "button": false,
    "colab": {},
    "colab_type": "code",
    "id": "7gG3rCiogi2F",
    "new_sheet": false,
    "outputId": "5fd04e6e-ae82-489d-a551-cee474f07949",
    "run_control": {
     "read_only": false
    }
   },
   "outputs": [
    {
     "data": {
      "image/png": "[encoded data removed]",
      "text/plain": [
       "<Figure size 720x288 with 1 Axes>"
      ]
     },
     "metadata": {},
     "output_type": "display_data"
    }
   ],
   "source": [
    "# А вот так выглядят данные после логарифмирования\n",
    "\n",
    "plt.hist(np.log(data))\n",
    "plt.title(\"Log(data)\")\n",
    "plt.show()"
   ]
  },
  {
   "cell_type": "markdown",
   "metadata": {
    "button": false,
    "colab_type": "text",
    "id": "K2TwATTCgi2H",
    "new_sheet": false,
    "run_control": {
     "read_only": false
    }
   },
   "source": [
    "---\n",
    "\n",
    "# Инжинирим признаки\n",
    "\n",
    "\n",
    "Как помочь нашей модели найти полезные зависимости в данных?\n",
    "\n",
    "Можно условно поделить генерацию признаков на **две части**:\n",
    " 1. Создание признаков **на основе знаний** и житейского опыта\n",
    " 2. Создание различных **взаимодействий** признаков\n",
    " "
   ]
  },
  {
   "cell_type": "markdown",
   "metadata": {
    "button": false,
    "colab_type": "text",
    "id": "mC-F-LOSgi2I",
    "new_sheet": false,
    "run_control": {
     "read_only": false
    }
   },
   "source": [
    "### Полиномиальные признаки"
   ]
  },
  {
   "cell_type": "markdown",
   "metadata": {
    "button": false,
    "colab_type": "text",
    "id": "OiiwO8eXgi2I",
    "new_sheet": false,
    "run_control": {
     "read_only": false
    }
   },
   "source": [
    "Почему готовить новые признаки это хорошо?\n",
    "\n",
    "**XOR проблема**\n",
    "\n",
    "XOR – это \"исключающее ИЛИ\", булева функция со следующей таблицей истинности:\n",
    "\n"
   ]
  },
  {
   "cell_type": "code",
   "execution_count": 2039,
   "metadata": {
    "button": false,
    "colab": {},
    "colab_type": "code",
    "id": "MGEjykIQgi2J",
    "new_sheet": false,
    "outputId": "fd622cbe-08f8-43c5-bd16-f4beff9aa5ff",
    "run_control": {
     "read_only": false
    }
   },
   "outputs": [
    {
     "data": {
      "image/png": "[encoded data removed]",
      "text/plain": [
       "<Figure size 720x288 with 1 Axes>"
      ]
     },
     "metadata": {},
     "output_type": "display_data"
    }
   ],
   "source": [
    "# порождаем данные\n",
    "rng = np.random.RandomState(0)\n",
    "X = rng.randn(200, 2)\n",
    "y = np.logical_xor(X[:, 0] > 0, X[:, 1] > 0)\n",
    "plt.scatter(X[:, 0], X[:, 1], s=30, c=y, cmap=plt.cm.Paired)\n",
    "plt.show()"
   ]
  },
  {
   "cell_type": "code",
   "execution_count": 2040,
   "metadata": {
    "button": false,
    "colab": {},
    "colab_type": "code",
    "id": "SalrmG9bgi2L",
    "new_sheet": false,
    "run_control": {
     "read_only": false
    }
   },
   "outputs": [],
   "source": [
    "import warnings\n",
    "warnings.filterwarnings('ignore')"
   ]
  },
  {
   "cell_type": "code",
   "execution_count": 2041,
   "metadata": {
    "button": false,
    "colab": {},
    "colab_type": "code",
    "id": "O8r79rQTgi2N",
    "new_sheet": false,
    "run_control": {
     "read_only": false
    }
   },
   "outputs": [],
   "source": [
    "# Функция рисует плоскость согласно предсказаниям классификатора clf\n",
    "def plot_boundary(clf, X, y, plot_title):\n",
    "    xx, yy = np.meshgrid(np.linspace(-3, 3, 50),\n",
    "                     np.linspace(-3, 3, 50))\n",
    "    clf.fit(X, y)\n",
    "    # plot the decision function for each datapoint on the grid\n",
    "    Z = clf.predict_proba(np.vstack((xx.ravel(), yy.ravel())).T)[:, 1]\n",
    "    Z = Z.reshape(xx.shape)\n",
    "\n",
    "    image = plt.imshow(Z, interpolation='nearest',\n",
    "                           extent=(xx.min(), xx.max(), yy.min(), yy.max()),\n",
    "                           aspect='auto', origin='lower', cmap=plt.cm.PuOr_r)\n",
    "    contours = plt.contour(xx, yy, Z, levels=[0], linewidths=2,\n",
    "                               linetypes='--')\n",
    "    plt.scatter(X[:, 0], X[:, 1], s=30, c=y, cmap=plt.cm.Paired)\n",
    "    plt.xticks(())\n",
    "    plt.yticks(())\n",
    "    plt.xlabel(r'$x_1$')\n",
    "    plt.ylabel(r'$x_2$')\n",
    "    plt.axis([-3, 3, -3, 3])\n",
    "    plt.colorbar(image)\n",
    "    plt.title(plot_title, fontsize=12);"
   ]
  },
  {
   "cell_type": "code",
   "execution_count": 2042,
   "metadata": {
    "button": false,
    "colab": {},
    "colab_type": "code",
    "id": "EMUWaXTSgi2Q",
    "new_sheet": false,
    "run_control": {
     "read_only": false
    }
   },
   "outputs": [],
   "source": [
    "from sklearn.linear_model import LogisticRegression"
   ]
  },
  {
   "cell_type": "code",
   "execution_count": 2043,
   "metadata": {
    "button": false,
    "colab": {},
    "colab_type": "code",
    "id": "It32CLODgi2T",
    "new_sheet": false,
    "outputId": "6f426da4-95d0-4489-99bc-d6cbfae2baf0",
    "run_control": {
     "read_only": false
    }
   },
   "outputs": [
    {
     "data": {
      "image/png": "[encoded data removed]",
      "text/plain": [
       "<Figure size 720x288 with 2 Axes>"
      ]
     },
     "metadata": {},
     "output_type": "display_data"
    }
   ],
   "source": [
    "# Применяем логистическую регрессию к нашим данным\n",
    "# И видим, что линейная модель не способна разделить точки правильно\n",
    "plot_boundary(LogisticRegression(), X, y, \"Logistic Regression, XOR problem\")"
   ]
  },
  {
   "cell_type": "markdown",
   "metadata": {
    "button": false,
    "colab_type": "text",
    "id": "s6uipSeQgi2Z",
    "new_sheet": false,
    "run_control": {
     "read_only": false
    }
   },
   "source": [
    "### Что мы делаем?\n",
    "Добавляем полиномиальные признаки!\n",
    "\n",
    "Т.е. получаем несколько признаков из данных путем их возведения в степень и перемножения между собой.\n",
    "\n",
    "**Пример с двумерными данными, degree*=2**\n",
    "\n",
    "**degree - максимальная сумма степеней множителей-признаков в отдельно полученном новом признаке*\n",
    "\n",
    "$$\\Large (a, b) \\rightarrow (1, a, b, a^2, ab, b^2)$$"
   ]
  },
  {
   "cell_type": "markdown",
   "metadata": {
    "button": false,
    "colab_type": "text",
    "id": "PDj1MyWXgi2a",
    "new_sheet": false,
    "run_control": {
     "read_only": false
    }
   },
   "source": [
    "Удобно, что sklearn уже умеет генерировать полиномиальные признаки для нас"
   ]
  },
  {
   "cell_type": "code",
   "execution_count": 2044,
   "metadata": {
    "button": false,
    "colab": {},
    "colab_type": "code",
    "id": "MluyBwyMgi2a",
    "new_sheet": false,
    "outputId": "37e9a755-4bed-4657-b44e-be894a309753",
    "run_control": {
     "read_only": false
    }
   },
   "outputs": [
    {
     "data": {
      "image/png": "[encoded data removed]",
      "text/plain": [
       "<Figure size 720x288 with 2 Axes>"
      ]
     },
     "metadata": {},
     "output_type": "display_data"
    }
   ],
   "source": [
    "from sklearn.preprocessing import PolynomialFeatures\n",
    "from sklearn.pipeline import Pipeline\n",
    "\n",
    "# Очень часто удобно использовать Pipeline\n",
    "# для последовательного применения алгоритмов из sklearn\n",
    "logit_pipe = Pipeline([('poly', PolynomialFeatures(degree=2)), \n",
    "                       ('logit', LogisticRegression())])\n",
    "plot_boundary(logit_pipe, X, y,\n",
    "        \"Logistic Regression + quadratic features. XOR problem\")\n",
    "\n",
    "# Проблема решается!"
   ]
  },
  {
   "cell_type": "markdown",
   "metadata": {
    "button": false,
    "colab_type": "text",
    "id": "t5pqXRn7gi2c",
    "new_sheet": false,
    "run_control": {
     "read_only": false
    }
   },
   "source": [
    "### Применение житейской смекалки\n",
    "для создания признаков\n",
    "\n"
   ]
  },
  {
   "cell_type": "markdown",
   "metadata": {
    "button": false,
    "colab_type": "text",
    "id": "uHmQZKwfgi2d",
    "new_sheet": false,
    "run_control": {
     "read_only": false
    }
   },
   "source": [
    "Есть количество комнат и стоимость аренды\n",
    "\n",
    "Выделяем новый признак -- стоимость аренды одной комнаты:\n",
    "```python\n",
    "rooms = df[\"bedrooms\"]\n",
    "df[\"price_per_bedroom\"] = df[\"price\"] / rooms\n",
    "```"
   ]
  },
  {
   "cell_type": "markdown",
   "metadata": {
    "button": false,
    "colab_type": "text",
    "id": "skzGb5IXgi2d",
    "new_sheet": false,
    "run_control": {
     "read_only": false
    }
   },
   "source": [
    "# Отбор признаков\n",
    "\n",
    "1. Чисто статистическими методами\n",
    "2. С использованием моделей\n",
    "3. Перебором"
   ]
  },
  {
   "cell_type": "markdown",
   "metadata": {
    "button": false,
    "colab_type": "text",
    "id": "IjJCyS7Ogi2d",
    "new_sheet": false,
    "run_control": {
     "read_only": false
    }
   },
   "source": [
    "## Статистические методы"
   ]
  },
  {
   "cell_type": "markdown",
   "metadata": {
    "button": false,
    "colab_type": "text",
    "id": "1o_m_medgi2e",
    "new_sheet": false,
    "run_control": {
     "read_only": false
    }
   },
   "source": [
    "### Отсечение низко вариативных признаков\n",
    "\n",
    "1. Если признак имеет одинаковые значения на всех элементах выборки за исключением очень небольшого подмножества, то такой признак скорее всего не будет полезен.\n",
    "\n",
    "2. Такой же вывод можно сделать для признаков, имеющих одинаковые значения для всех элементов выборки.\n",
    "\n",
    "Чтобы посчитать численно насколько признак вариативен можно посчитать дисперсию этого признака. Дисперсия будет давать 0 для случая 2 и число, близкое к 0 для случая 1.\n",
    "$${ D ={\\dfrac {\\sum \\limits _{i=1}^{n}(X_{i}-{\\bar {X}})^{2}}{n}}}$$\n",
    "* $\\bar{X}$ -- среднее значение признака в датасете $X$\n",
    "\n",
    "\n",
    "В качестве бейзлайна можно воспользоваться отбором признаков по пороговому значению дисперсии.\n",
    "\n",
    "    !ВАЖНО ПОМНИТЬ:\n",
    "    Необходимо, чтобы все признаки в датасете при таком подходе имели одинаковый разброс значений. Т.е максимальное и минимальное значение должно быть одинаковым для всех признаков, чтобы сравнение значений их дисперсий было корректным. Для соблюдения этого условия удобно воспользоваться MinMaxScaler."
   ]
  },
  {
   "cell_type": "code",
   "execution_count": 2045,
   "metadata": {
    "button": false,
    "colab": {},
    "colab_type": "code",
    "id": "vZkdZMtHgi2e",
    "new_sheet": false,
    "outputId": "96d35f04-9df4-4323-d1dc-eee006e7e7d6",
    "run_control": {
     "read_only": false
    }
   },
   "outputs": [
    {
     "name": "stdout",
     "output_type": "stream",
     "text": [
      "data shape:  (100, 20)\n"
     ]
    }
   ],
   "source": [
    "# сгенерируем признаки с разбросом 0..1\n",
    "from sklearn.feature_selection import VarianceThreshold\n",
    "from sklearn.datasets import make_classification\n",
    "\n",
    "x_data_generated, y_data_generated = make_classification(scale=1)\n",
    "print(\"data shape: \", x_data_generated.shape)"
   ]
  },
  {
   "cell_type": "code",
   "execution_count": 2046,
   "metadata": {
    "button": false,
    "colab": {},
    "colab_type": "code",
    "id": "2LJV5h6Kgi2i",
    "new_sheet": false,
    "outputId": "97375537-f17c-4ae2-d183-0515d02085ab",
    "run_control": {
     "read_only": false
    }
   },
   "outputs": [
    {
     "data": {
      "text/plain": [
       "(100, 19)"
      ]
     },
     "execution_count": 2046,
     "metadata": {},
     "output_type": "execute_result"
    }
   ],
   "source": [
    "VarianceThreshold(.7).fit_transform(x_data_generated).shape"
   ]
  },
  {
   "cell_type": "code",
   "execution_count": 2047,
   "metadata": {
    "button": false,
    "colab": {},
    "colab_type": "code",
    "id": "N0n1-zU1gi2k",
    "new_sheet": false,
    "outputId": "256bdbd6-af03-4929-9a3e-ab4807cd6e0b",
    "run_control": {
     "read_only": false
    }
   },
   "outputs": [
    {
     "data": {
      "text/plain": [
       "(100, 18)"
      ]
     },
     "execution_count": 2047,
     "metadata": {},
     "output_type": "execute_result"
    }
   ],
   "source": [
    "VarianceThreshold(.8).fit_transform(x_data_generated).shape"
   ]
  },
  {
   "cell_type": "code",
   "execution_count": 2048,
   "metadata": {
    "button": false,
    "colab": {},
    "colab_type": "code",
    "id": "2-i0UtmQgi2l",
    "new_sheet": false,
    "outputId": "2928be5e-86ca-4b7b-9332-3e91e5111a0a",
    "run_control": {
     "read_only": false
    }
   },
   "outputs": [
    {
     "data": {
      "text/plain": [
       "(100, 15)"
      ]
     },
     "execution_count": 2048,
     "metadata": {},
     "output_type": "execute_result"
    }
   ],
   "source": [
    "VarianceThreshold(.9).fit_transform(x_data_generated).shape"
   ]
  },
  {
   "cell_type": "markdown",
   "metadata": {
    "button": false,
    "colab_type": "text",
    "id": "YmyQBePxgi2n",
    "new_sheet": false,
    "run_control": {
     "read_only": false
    }
   },
   "source": [
    "### Отбор k лучших с помощью ANOVA\n",
    "\n",
    "**Главная идея метода ANOVA для задачи классификации**\n",
    "\n",
    "ANOVA -- ANalysis Of VAriance (или дисперсионный анализ).\n",
    "\n",
    "Для каждого признака из датасета мы можем посчитать его выразительную способность. Т.е мы можем получить число, показывающее насколько сильно данный признак различается между различными классами из $Y$. \n",
    "Упрощенное объяснение следующее.\n",
    "\n",
    "1. Используем знания о лейблах $Y$. Считаем дисперсию данного признака внутри каждого класса из $Y$.\n",
    "2. Считаем дисперсию данного признака между группами, которые задает $Y$.\n",
    "2. Финальный скор это -- отношение дисперсии между группами к дисперсии внутри групп.\n",
    "\n",
    "Для лучшего понимания можно посмотреть [видео 1](https://youtu.be/ITf4vHhyGpc) (тут интуиция) и [видео 2](https://youtu.be/q48uKU_KWas) (тут математика).\n",
    "\n",
    "Такой скор можно использовать для ранжирования признаков по их значимости. Реализация из sklearn позволяет заранее задать число признаков, которое мы хотим оставить исходя из полученных с помощью метода ANOVA скоров.\n",
    "\n"
   ]
  },
  {
   "cell_type": "code",
   "execution_count": 2049,
   "metadata": {
    "button": false,
    "colab": {},
    "colab_type": "code",
    "id": "ohIoqeH_gi2o",
    "new_sheet": false,
    "run_control": {
     "read_only": false
    }
   },
   "outputs": [],
   "source": [
    "from sklearn.feature_selection import SelectKBest, f_classif\n",
    "\n",
    "# Выбираем 5 лучших фичей с помощью скоринговой функции для классификации f_classif в методе ANOVA\n",
    "x_data_kbest = SelectKBest(f_classif, k=5).fit_transform(x_data_generated, y_data_generated)\n",
    "\n",
    "# Выбираем фичи по граничному значению дисперсии данных\n",
    "x_data_varth = VarianceThreshold(.9).fit_transform(x_data_generated)"
   ]
  },
  {
   "cell_type": "code",
   "execution_count": 2050,
   "metadata": {
    "button": false,
    "colab": {},
    "colab_type": "code",
    "id": "_o3nra3Ogi2p",
    "new_sheet": false,
    "outputId": "6af08a2b-8353-4daa-d1ff-83ee191b3750",
    "run_control": {
     "read_only": false
    }
   },
   "outputs": [
    {
     "data": {
      "text/plain": [
       "0.79"
      ]
     },
     "execution_count": 2050,
     "metadata": {},
     "output_type": "execute_result"
    }
   ],
   "source": [
    "from sklearn.linear_model import LogisticRegression\n",
    "from sklearn.model_selection import cross_val_score\n",
    "\n",
    "# Результат для исходных данных\n",
    "cross_val_score(LogisticRegression(), x_data_generated, y_data_generated, scoring='accuracy').mean()"
   ]
  },
  {
   "cell_type": "code",
   "execution_count": 2051,
   "metadata": {
    "button": false,
    "colab": {},
    "colab_type": "code",
    "id": "FQyDlaJFgi2r",
    "new_sheet": false,
    "outputId": "7e6a226a-6717-4923-ae5e-85f0ff8babae",
    "run_control": {
     "read_only": false
    }
   },
   "outputs": [
    {
     "data": {
      "text/plain": [
       "0.8"
      ]
     },
     "execution_count": 2051,
     "metadata": {},
     "output_type": "execute_result"
    }
   ],
   "source": [
    "# Для отбора по вариативности\n",
    "cross_val_score(LogisticRegression(), x_data_varth, y_data_generated, scoring='accuracy').mean()"
   ]
  },
  {
   "cell_type": "code",
   "execution_count": 2052,
   "metadata": {
    "button": false,
    "colab": {},
    "colab_type": "code",
    "id": "3BQrbw2ngi2t",
    "new_sheet": false,
    "outputId": "c1141b70-f999-4e8d-aa64-6194708a96dd",
    "run_control": {
     "read_only": false
    }
   },
   "outputs": [
    {
     "data": {
      "text/plain": [
       "0.86"
      ]
     },
     "execution_count": 2052,
     "metadata": {},
     "output_type": "execute_result"
    }
   ],
   "source": [
    "# Для отбора по ANOVA\n",
    "cross_val_score(LogisticRegression(), x_data_kbest, y_data_generated, scoring='accuracy').mean()"
   ]
  },
  {
   "cell_type": "markdown",
   "metadata": {
    "button": false,
    "colab_type": "text",
    "id": "XNvC_Pkfgi2u",
    "new_sheet": false,
    "run_control": {
     "read_only": false
    }
   },
   "source": [
    "### Использование моделей\n",
    "Для отбора признаков чаще всего используют L1 регуляризацию с линейной/логистической регрессией или случайный лес (о котором вы пока не знаете)"
   ]
  },
  {
   "cell_type": "code",
   "execution_count": 2053,
   "metadata": {
    "button": false,
    "colab": {},
    "colab_type": "code",
    "id": "GqcDNxV6gi2v",
    "new_sheet": false,
    "outputId": "f9217014-0673-4072-a025-bcc94c6a7522",
    "run_control": {
     "read_only": false
    }
   },
   "outputs": [
    {
     "name": "stdout",
     "output_type": "stream",
     "text": [
      "0.79\n"
     ]
    }
   ],
   "source": [
    "from sklearn.datasets import make_classification\n",
    "from sklearn.linear_model import LogisticRegression\n",
    "from sklearn.feature_selection import SelectFromModel\n",
    "from sklearn.model_selection import cross_val_score\n",
    "from sklearn.pipeline import make_pipeline\n",
    "\n",
    "# Еще раз покажем результат с простой моделью и исходными данными\n",
    "\n",
    "lr = LogisticRegression()\n",
    "print(cross_val_score(lr, x_data_generated, y_data_generated, scoring='accuracy').mean())"
   ]
  },
  {
   "cell_type": "code",
   "execution_count": 2054,
   "metadata": {
    "button": false,
    "colab": {},
    "colab_type": "code",
    "id": "Eu2gEQRkgi2w",
    "new_sheet": false,
    "outputId": "6fd6200c-451d-410e-dc9d-121c2d352a45",
    "run_control": {
     "read_only": false
    }
   },
   "outputs": [
    {
     "name": "stdout",
     "output_type": "stream",
     "text": [
      "nan\n"
     ]
    }
   ],
   "source": [
    "# Теперь произведем отбор признаков с помощью нашей логистической регрессии,\n",
    "# Отобранные признаки подадим далее в саму логистическую регрессию\n",
    "\n",
    "pipe = make_pipeline(SelectFromModel(estimator=LogisticRegression(penalty='l1',)), LogisticRegression())\n",
    "print(cross_val_score(pipe, x_data_generated, y_data_generated, scoring='accuracy').mean())"
   ]
  },
  {
   "cell_type": "markdown",
   "metadata": {
    "button": false,
    "colab_type": "text",
    "id": "U1YUP4ULgi2z",
    "new_sheet": false,
    "run_control": {
     "read_only": false
    }
   },
   "source": [
    "Также возможно рекурсивное удаление признаков из датасета с помощью [sklearn.feature_selection.RFE](https://scikit-learn.org/stable/modules/generated/sklearn.feature_selection.RFE.html). \n",
    "\n",
    "В этом случае после удаления наихудшего признака по меркам коэффициентов регрессии, модель будет обучена заново на уже меньшем подмножестве признаков. Затем процесс с удалением признака и переобучением модели повторяется, пока не достигнуто желаемое количество лучших признаков."
   ]
  },
  {
   "cell_type": "markdown",
   "metadata": {
    "button": false,
    "colab_type": "text",
    "id": "hZioudnCgi2z",
    "new_sheet": false,
    "run_control": {
     "read_only": false
    }
   },
   "source": [
    "### Перебор признаков"
   ]
  },
  {
   "cell_type": "markdown",
   "metadata": {
    "button": false,
    "colab_type": "text",
    "id": "x4ZD95Iqgi20",
    "new_sheet": false,
    "run_control": {
     "read_only": false
    }
   },
   "source": [
    "* **SequentialFeatureSelector** - жадный алгоритм поиска подмножества из k признаков на основании результатов кросс-валидации. Может быть использован с любой моделью.\n",
    "\n",
    "Имеет 2 основных сеттинга\n",
    "* Sequential Forward Selection (SFS)\n",
    "\n",
    "        Начальное число избранных признаков 0.\n",
    "        Алгоритм добавляет на каждом шаге один признак, который максимизирует скор на кросс-валидации. Алгоритм           останавливает добавление новых признаков, когда достигнуто необходимое число этих признаков. Используется         по дефолту в `SequentialFeatureSelector`.\n",
    "\n",
    "* Sequential Backward Selection (SBS)\n",
    "\n",
    "        Начальное число избранных признаков N (т.е все признаки включены в коллекцию).\n",
    "        Алгоритм убирает из коллекции на каждом шаге один признак, удаление которого максимизирует скор на кросс-валидации. Алгоритм останавливает удаление признаков, когда достигнуто необходимое число этих признаков. Параметр `forward=False` в `SequentialFeatureSelector`."
   ]
  },
  {
   "cell_type": "code",
   "execution_count": 2055,
   "metadata": {
    "button": false,
    "colab": {},
    "colab_type": "code",
    "id": "pvyDShqzgi20",
    "new_sheet": false,
    "outputId": "ddf5e65e-d1fc-4b2a-dbe8-bec8ed211cf3",
    "run_control": {
     "read_only": false
    }
   },
   "outputs": [
    {
     "name": "stdout",
     "output_type": "stream",
     "text": [
      "\u001b[33mDEPRECATION: Configuring installation scheme with distutils config files is deprecated and will no longer work in the near future. If you are using a Homebrew or Linuxbrew Python, please see discussion at https://github.com/Homebrew/homebrew-core/issues/76621\u001b[0m\u001b[33m\n",
      "\u001b[0mRequirement already satisfied: mlxtend in /opt/homebrew/lib/python3.9/site-packages (0.19.0)\n",
      "Requirement already satisfied: scikit-learn>=0.20.3 in /opt/homebrew/lib/python3.9/site-packages (from mlxtend) (1.0.2)\n",
      "Requirement already satisfied: scipy>=1.2.1 in /opt/homebrew/lib/python3.9/site-packages (from mlxtend) (1.8.0)\n",
      "Requirement already satisfied: matplotlib>=3.0.0 in /opt/homebrew/lib/python3.9/site-packages (from mlxtend) (3.5.0)\n",
      "Requirement already satisfied: setuptools in /opt/homebrew/lib/python3.9/site-packages (from mlxtend) (60.10.0)\n",
      "Requirement already satisfied: numpy>=1.16.2 in /opt/homebrew/lib/python3.9/site-packages (from mlxtend) (1.22.3)\n",
      "Requirement already satisfied: joblib>=0.13.2 in /opt/homebrew/lib/python3.9/site-packages (from mlxtend) (1.1.0)\n",
      "Requirement already satisfied: pandas>=0.24.2 in /opt/homebrew/lib/python3.9/site-packages (from mlxtend) (1.3.4)\n",
      "Requirement already satisfied: pyparsing>=2.2.1 in /opt/homebrew/lib/python3.9/site-packages (from matplotlib>=3.0.0->mlxtend) (3.0.6)\n",
      "Requirement already satisfied: kiwisolver>=1.0.1 in /opt/homebrew/lib/python3.9/site-packages (from matplotlib>=3.0.0->mlxtend) (1.3.2)\n",
      "Requirement already satisfied: setuptools-scm>=4 in /opt/homebrew/lib/python3.9/site-packages (from matplotlib>=3.0.0->mlxtend) (6.3.2)\n",
      "Requirement already satisfied: fonttools>=4.22.0 in /opt/homebrew/lib/python3.9/site-packages (from matplotlib>=3.0.0->mlxtend) (4.28.3)\n",
      "Requirement already satisfied: python-dateutil>=2.7 in /opt/homebrew/lib/python3.9/site-packages (from matplotlib>=3.0.0->mlxtend) (2.8.2)\n",
      "Requirement already satisfied: pillow>=6.2.0 in /opt/homebrew/lib/python3.9/site-packages (from matplotlib>=3.0.0->mlxtend) (8.4.0)\n",
      "Requirement already satisfied: cycler>=0.10 in /opt/homebrew/lib/python3.9/site-packages (from matplotlib>=3.0.0->mlxtend) (0.11.0)\n",
      "Requirement already satisfied: packaging>=20.0 in /opt/homebrew/lib/python3.9/site-packages (from matplotlib>=3.0.0->mlxtend) (21.3)\n",
      "Requirement already satisfied: pytz>=2017.3 in /opt/homebrew/lib/python3.9/site-packages (from pandas>=0.24.2->mlxtend) (2021.3)\n",
      "Requirement already satisfied: threadpoolctl>=2.0.0 in /opt/homebrew/lib/python3.9/site-packages (from scikit-learn>=0.20.3->mlxtend) (3.0.0)\n",
      "Requirement already satisfied: six>=1.5 in /opt/homebrew/lib/python3.9/site-packages (from python-dateutil>=2.7->matplotlib>=3.0.0->mlxtend) (1.16.0)\n",
      "Requirement already satisfied: tomli>=1.0.0 in /opt/homebrew/lib/python3.9/site-packages (from setuptools-scm>=4->matplotlib>=3.0.0->mlxtend) (1.2.2)\n",
      "\u001b[33mDEPRECATION: Configuring installation scheme with distutils config files is deprecated and will no longer work in the near future. If you are using a Homebrew or Linuxbrew Python, please see discussion at https://github.com/Homebrew/homebrew-core/issues/76621\u001b[0m\u001b[33m\n",
      "\u001b[0m\u001b[33mWARNING: You are using pip version 22.0.4; however, version 22.1 is available.\n",
      "You should consider upgrading via the '/opt/homebrew/opt/python@3.9/bin/python3.9 -m pip install --upgrade pip' command.\u001b[0m\u001b[33m\n",
      "\u001b[0m"
     ]
    }
   ],
   "source": [
    "# устанавливаем mlxtend:\n",
    "!pip install mlxtend"
   ]
  },
  {
   "cell_type": "code",
   "execution_count": 2056,
   "metadata": {
    "button": false,
    "colab": {},
    "colab_type": "code",
    "id": "JZuBsXmGgi22",
    "new_sheet": false,
    "outputId": "71015b8a-d6dd-402d-8f88-3d716ee7fb85",
    "run_control": {
     "read_only": false
    }
   },
   "outputs": [
    {
     "name": "stderr",
     "output_type": "stream",
     "text": [
      "[Parallel(n_jobs=-1)]: Using backend LokyBackend with 8 concurrent workers.\n",
      "[Parallel(n_jobs=-1)]: Done  16 out of  20 | elapsed:    1.2s remaining:    0.3s\n",
      "[Parallel(n_jobs=-1)]: Done  20 out of  20 | elapsed:    1.2s finished\n",
      "\n",
      "[2022-05-18 23:42:04] Features: 1/7 -- score: 0.86[Parallel(n_jobs=-1)]: Using backend LokyBackend with 8 concurrent workers.\n",
      "[Parallel(n_jobs=-1)]: Done  14 out of  19 | elapsed:    0.0s remaining:    0.0s\n",
      "[Parallel(n_jobs=-1)]: Done  19 out of  19 | elapsed:    0.0s finished\n",
      "\n",
      "[2022-05-18 23:42:04] Features: 2/7 -- score: 0.8800000000000001[Parallel(n_jobs=-1)]: Using backend LokyBackend with 8 concurrent workers.\n",
      "[Parallel(n_jobs=-1)]: Done  13 out of  18 | elapsed:    0.0s remaining:    0.0s\n",
      "[Parallel(n_jobs=-1)]: Done  18 out of  18 | elapsed:    0.0s finished\n",
      "\n",
      "[2022-05-18 23:42:04] Features: 3/7 -- score: 0.8800000000000001[Parallel(n_jobs=-1)]: Using backend LokyBackend with 8 concurrent workers.\n",
      "[Parallel(n_jobs=-1)]: Done  11 out of  17 | elapsed:    0.0s remaining:    0.0s\n",
      "[Parallel(n_jobs=-1)]: Done  17 out of  17 | elapsed:    0.0s finished\n",
      "\n",
      "[2022-05-18 23:42:04] Features: 4/7 -- score: 0.8899999999999999[Parallel(n_jobs=-1)]: Using backend LokyBackend with 8 concurrent workers.\n",
      "[Parallel(n_jobs=-1)]: Done  10 out of  16 | elapsed:    0.0s remaining:    0.0s\n",
      "[Parallel(n_jobs=-1)]: Done  16 out of  16 | elapsed:    0.0s finished\n",
      "\n",
      "[2022-05-18 23:42:04] Features: 5/7 -- score: 0.89[Parallel(n_jobs=-1)]: Using backend LokyBackend with 8 concurrent workers.\n",
      "[Parallel(n_jobs=-1)]: Done   8 out of  15 | elapsed:    0.0s remaining:    0.0s\n",
      "[Parallel(n_jobs=-1)]: Done  15 out of  15 | elapsed:    0.0s finished\n",
      "\n",
      "[2022-05-18 23:42:04] Features: 6/7 -- score: 0.89[Parallel(n_jobs=-1)]: Using backend LokyBackend with 8 concurrent workers.\n",
      "[Parallel(n_jobs=-1)]: Done   7 out of  14 | elapsed:    0.0s remaining:    0.0s\n",
      "[Parallel(n_jobs=-1)]: Done  14 out of  14 | elapsed:    0.0s finished\n",
      "\n",
      "[2022-05-18 23:42:04] Features: 7/7 -- score: 0.89"
     ]
    },
    {
     "data": {
      "text/plain": [
       "SequentialFeatureSelector(estimator=LogisticRegression(), k_features=7,\n",
       "                          n_jobs=-1, scoring='accuracy', verbose=2)"
      ]
     },
     "execution_count": 2056,
     "metadata": {},
     "output_type": "execute_result"
    }
   ],
   "source": [
    "from mlxtend.feature_selection import SequentialFeatureSelector\n",
    "\n",
    "selector = SequentialFeatureSelector(LogisticRegression(), scoring='accuracy',\n",
    "                                     verbose=2, k_features=7, forward=True, n_jobs=-1)\n",
    "\n",
    "selector.fit(x_data_generated, y_data_generated)"
   ]
  },
  {
   "cell_type": "markdown",
   "metadata": {
    "button": false,
    "colab_type": "text",
    "id": "vz0Vw0hrgi24",
    "new_sheet": false,
    "run_control": {
     "read_only": false
    }
   },
   "source": [
    "Итак, удалось достаточно неплохо улучшить accuracy с этим методом по сравнению с предыдущими, однако, это синтетическая задачка. С реальными данными все намного сложнее."
   ]
  },
  {
   "cell_type": "markdown",
   "metadata": {
    "button": false,
    "colab_type": "text",
    "id": "kxtselOwgi24",
    "new_sheet": false,
    "run_control": {
     "read_only": false
    }
   },
   "source": [
    "# KaggleInClass"
   ]
  },
  {
   "cell_type": "markdown",
   "metadata": {
    "button": false,
    "colab_type": "text",
    "id": "uluK_2rUgi25",
    "new_sheet": false,
    "run_control": {
     "read_only": false
    }
   },
   "source": [
    "Начнем решать соревнование на платформе `Kaggle` (пока только `InClass`)\n",
    "\n",
    "Ссылка на соревнование: https://www.kaggle.com/c/best-home2"
   ]
  },
  {
   "cell_type": "code",
   "execution_count": 2057,
   "metadata": {
    "button": false,
    "colab": {},
    "colab_type": "code",
    "id": "y_u7wnypgi25",
    "new_sheet": false,
    "run_control": {
     "read_only": false
    }
   },
   "outputs": [],
   "source": [
    "from sklearn.linear_model import LogisticRegression"
   ]
  },
  {
   "cell_type": "code",
   "execution_count": 2058,
   "metadata": {},
   "outputs": [
    {
     "name": "stdout",
     "output_type": "stream",
     "text": [
      "<class 'pandas.core.frame.DataFrame'>\n",
      "RangeIndex: 34546 entries, 0 to 34545\n",
      "Data columns (total 16 columns):\n",
      " #   Column           Non-Null Count  Dtype  \n",
      "---  ------           --------------  -----  \n",
      " 0   Id               34546 non-null  int64  \n",
      " 1   bathrooms        34546 non-null  float64\n",
      " 2   bedrooms         34546 non-null  int64  \n",
      " 3   building_id      34546 non-null  object \n",
      " 4   created          34546 non-null  object \n",
      " 5   description      33509 non-null  object \n",
      " 6   display_address  34458 non-null  object \n",
      " 7   features         34546 non-null  object \n",
      " 8   latitude         34546 non-null  float64\n",
      " 9   listing_id       34546 non-null  int64  \n",
      " 10  longitude        34546 non-null  float64\n",
      " 11  manager_id       34546 non-null  object \n",
      " 12  photos           34546 non-null  object \n",
      " 13  price            34546 non-null  int64  \n",
      " 14  street_address   34542 non-null  object \n",
      " 15  TARGET           34546 non-null  object \n",
      "dtypes: float64(3), int64(4), object(9)\n",
      "memory usage: 4.2+ MB\n"
     ]
    }
   ],
   "source": [
    "data = pd.read_csv('train.csv') #файл со страницы соревнования\n",
    "data.info()"
   ]
  },
  {
   "cell_type": "code",
   "execution_count": 2059,
   "metadata": {},
   "outputs": [
    {
     "data": {
      "text/html": [
       "<div>\n",
       "<style scoped>\n",
       "    .dataframe tbody tr th:only-of-type {\n",
       "        vertical-align: middle;\n",
       "    }\n",
       "\n",
       "    .dataframe tbody tr th {\n",
       "        vertical-align: top;\n",
       "    }\n",
       "\n",
       "    .dataframe thead th {\n",
       "        text-align: right;\n",
       "    }\n",
       "</style>\n",
       "<table border=\"1\" class=\"dataframe\">\n",
       "  <thead>\n",
       "    <tr style=\"text-align: right;\">\n",
       "      <th></th>\n",
       "      <th>Id</th>\n",
       "      <th>bathrooms</th>\n",
       "      <th>bedrooms</th>\n",
       "      <th>building_id</th>\n",
       "      <th>created</th>\n",
       "      <th>description</th>\n",
       "      <th>display_address</th>\n",
       "      <th>features</th>\n",
       "      <th>latitude</th>\n",
       "      <th>listing_id</th>\n",
       "      <th>longitude</th>\n",
       "      <th>manager_id</th>\n",
       "      <th>photos</th>\n",
       "      <th>price</th>\n",
       "      <th>street_address</th>\n",
       "      <th>TARGET</th>\n",
       "    </tr>\n",
       "  </thead>\n",
       "  <tbody>\n",
       "    <tr>\n",
       "      <th>0</th>\n",
       "      <td>57094</td>\n",
       "      <td>1.0</td>\n",
       "      <td>3</td>\n",
       "      <td>0</td>\n",
       "      <td>2016-05-19 18:06:27</td>\n",
       "      <td>A FABULOUS 3BR IN MIDTOWN WEST!   PERFECT APAR...</td>\n",
       "      <td>HOW AMAZING IS THIS MIDTOWN WEST STEAL!! NO FE...</td>\n",
       "      <td>['Laundry In Unit', 'No Fee', 'Elevator']</td>\n",
       "      <td>40.7647</td>\n",
       "      <td>7039994</td>\n",
       "      <td>-73.9918</td>\n",
       "      <td>4bdc3d8c1aaa90d997ce2cb77680679b</td>\n",
       "      <td>['https://photos.renthop.com/2/7039994_07be01b...</td>\n",
       "      <td>4495</td>\n",
       "      <td>W 50 &amp; AVE 10</td>\n",
       "      <td>medium</td>\n",
       "    </tr>\n",
       "    <tr>\n",
       "      <th>1</th>\n",
       "      <td>33389</td>\n",
       "      <td>1.0</td>\n",
       "      <td>1</td>\n",
       "      <td>9225efdfb57a50bf3ec17ebab082f94a</td>\n",
       "      <td>2016-06-16 02:01:49</td>\n",
       "      <td>Renovated Kitchen and Bathroom!</td>\n",
       "      <td>55 River Drive South</td>\n",
       "      <td>['Dogs Allowed', 'Cats Allowed', 'No Fee']</td>\n",
       "      <td>40.7275</td>\n",
       "      <td>7166774</td>\n",
       "      <td>-74.0322</td>\n",
       "      <td>e5808a5e6cc13988fe596704428d38d5</td>\n",
       "      <td>['https://photos.renthop.com/2/7166774_03cf63a...</td>\n",
       "      <td>2570</td>\n",
       "      <td>55 River Drive South</td>\n",
       "      <td>medium</td>\n",
       "    </tr>\n",
       "    <tr>\n",
       "      <th>2</th>\n",
       "      <td>60458</td>\n",
       "      <td>1.0</td>\n",
       "      <td>0</td>\n",
       "      <td>320de7d3cc88e50a7fbbcfde1e825d21</td>\n",
       "      <td>2016-05-04 02:42:50</td>\n",
       "      <td>RARE AND BEST DEAL ON THE MARKET!!!! PERFECT S...</td>\n",
       "      <td>W 77 Street</td>\n",
       "      <td>['Elevator', 'Hardwood Floors']</td>\n",
       "      <td>40.7798</td>\n",
       "      <td>6962716</td>\n",
       "      <td>-73.9751</td>\n",
       "      <td>d69d4e111612dd12ef864031c1148543</td>\n",
       "      <td>['https://photos.renthop.com/2/6962716_ec7f56f...</td>\n",
       "      <td>1795</td>\n",
       "      <td>22 W 77 Street</td>\n",
       "      <td>low</td>\n",
       "    </tr>\n",
       "    <tr>\n",
       "      <th>3</th>\n",
       "      <td>53048</td>\n",
       "      <td>1.0</td>\n",
       "      <td>2</td>\n",
       "      <td>ce6d18bf3238e668b2bf23f4110b7b67</td>\n",
       "      <td>2016-05-12 05:57:56</td>\n",
       "      <td>Newly renovated flex 2 apartment offers the ne...</td>\n",
       "      <td>John Street</td>\n",
       "      <td>['Swimming Pool', 'Doorman', 'Elevator', 'Fitn...</td>\n",
       "      <td>40.7081</td>\n",
       "      <td>7002458</td>\n",
       "      <td>-74.0065</td>\n",
       "      <td>e6472c7237327dd3903b3d6f6a94515a</td>\n",
       "      <td>['https://photos.renthop.com/2/7002458_93f4010...</td>\n",
       "      <td>3400</td>\n",
       "      <td>100 John Street</td>\n",
       "      <td>low</td>\n",
       "    </tr>\n",
       "    <tr>\n",
       "      <th>4</th>\n",
       "      <td>592</td>\n",
       "      <td>1.0</td>\n",
       "      <td>3</td>\n",
       "      <td>fee4d465932160318364d9d48d272879</td>\n",
       "      <td>2016-06-16 06:06:15</td>\n",
       "      <td>LOW FEE apartments do not come around like thi...</td>\n",
       "      <td>West 16th Street</td>\n",
       "      <td>['Laundry in Building', 'Laundry in Unit', 'Di...</td>\n",
       "      <td>40.7416</td>\n",
       "      <td>7170465</td>\n",
       "      <td>-74.0025</td>\n",
       "      <td>6fba9b3a8327c607b8b043716efee684</td>\n",
       "      <td>['https://photos.renthop.com/2/7170465_9c3f173...</td>\n",
       "      <td>5695</td>\n",
       "      <td>321 West 16th Street</td>\n",
       "      <td>low</td>\n",
       "    </tr>\n",
       "  </tbody>\n",
       "</table>\n",
       "</div>"
      ],
      "text/plain": [
       "      Id  bathrooms  bedrooms                       building_id  \\\n",
       "0  57094        1.0         3                                 0   \n",
       "1  33389        1.0         1  9225efdfb57a50bf3ec17ebab082f94a   \n",
       "2  60458        1.0         0  320de7d3cc88e50a7fbbcfde1e825d21   \n",
       "3  53048        1.0         2  ce6d18bf3238e668b2bf23f4110b7b67   \n",
       "4    592        1.0         3  fee4d465932160318364d9d48d272879   \n",
       "\n",
       "               created                                        description  \\\n",
       "0  2016-05-19 18:06:27  A FABULOUS 3BR IN MIDTOWN WEST!   PERFECT APAR...   \n",
       "1  2016-06-16 02:01:49                    Renovated Kitchen and Bathroom!   \n",
       "2  2016-05-04 02:42:50  RARE AND BEST DEAL ON THE MARKET!!!! PERFECT S...   \n",
       "3  2016-05-12 05:57:56  Newly renovated flex 2 apartment offers the ne...   \n",
       "4  2016-06-16 06:06:15  LOW FEE apartments do not come around like thi...   \n",
       "\n",
       "                                     display_address  \\\n",
       "0  HOW AMAZING IS THIS MIDTOWN WEST STEAL!! NO FE...   \n",
       "1                               55 River Drive South   \n",
       "2                                        W 77 Street   \n",
       "3                                        John Street   \n",
       "4                                   West 16th Street   \n",
       "\n",
       "                                            features  latitude  listing_id  \\\n",
       "0          ['Laundry In Unit', 'No Fee', 'Elevator']   40.7647     7039994   \n",
       "1         ['Dogs Allowed', 'Cats Allowed', 'No Fee']   40.7275     7166774   \n",
       "2                    ['Elevator', 'Hardwood Floors']   40.7798     6962716   \n",
       "3  ['Swimming Pool', 'Doorman', 'Elevator', 'Fitn...   40.7081     7002458   \n",
       "4  ['Laundry in Building', 'Laundry in Unit', 'Di...   40.7416     7170465   \n",
       "\n",
       "   longitude                        manager_id  \\\n",
       "0   -73.9918  4bdc3d8c1aaa90d997ce2cb77680679b   \n",
       "1   -74.0322  e5808a5e6cc13988fe596704428d38d5   \n",
       "2   -73.9751  d69d4e111612dd12ef864031c1148543   \n",
       "3   -74.0065  e6472c7237327dd3903b3d6f6a94515a   \n",
       "4   -74.0025  6fba9b3a8327c607b8b043716efee684   \n",
       "\n",
       "                                              photos  price  \\\n",
       "0  ['https://photos.renthop.com/2/7039994_07be01b...   4495   \n",
       "1  ['https://photos.renthop.com/2/7166774_03cf63a...   2570   \n",
       "2  ['https://photos.renthop.com/2/6962716_ec7f56f...   1795   \n",
       "3  ['https://photos.renthop.com/2/7002458_93f4010...   3400   \n",
       "4  ['https://photos.renthop.com/2/7170465_9c3f173...   5695   \n",
       "\n",
       "         street_address  TARGET  \n",
       "0         W 50 & AVE 10  medium  \n",
       "1  55 River Drive South  medium  \n",
       "2        22 W 77 Street     low  \n",
       "3       100 John Street     low  \n",
       "4  321 West 16th Street     low  "
      ]
     },
     "execution_count": 2059,
     "metadata": {},
     "output_type": "execute_result"
    }
   ],
   "source": [
    "data.head()"
   ]
  },
  {
   "cell_type": "code",
   "execution_count": 2060,
   "metadata": {},
   "outputs": [
    {
     "data": {
      "text/html": [
       "<div>\n",
       "<style scoped>\n",
       "    .dataframe tbody tr th:only-of-type {\n",
       "        vertical-align: middle;\n",
       "    }\n",
       "\n",
       "    .dataframe tbody tr th {\n",
       "        vertical-align: top;\n",
       "    }\n",
       "\n",
       "    .dataframe thead th {\n",
       "        text-align: right;\n",
       "    }\n",
       "</style>\n",
       "<table border=\"1\" class=\"dataframe\">\n",
       "  <thead>\n",
       "    <tr style=\"text-align: right;\">\n",
       "      <th></th>\n",
       "      <th>bathrooms</th>\n",
       "      <th>bedrooms</th>\n",
       "      <th>created</th>\n",
       "      <th>features</th>\n",
       "      <th>latitude</th>\n",
       "      <th>longitude</th>\n",
       "      <th>price</th>\n",
       "      <th>TARGET</th>\n",
       "    </tr>\n",
       "  </thead>\n",
       "  <tbody>\n",
       "    <tr>\n",
       "      <th>0</th>\n",
       "      <td>1.0</td>\n",
       "      <td>3</td>\n",
       "      <td>2016-05-19 18:06:27</td>\n",
       "      <td>['Laundry In Unit', 'No Fee', 'Elevator']</td>\n",
       "      <td>40.7647</td>\n",
       "      <td>-73.9918</td>\n",
       "      <td>4495</td>\n",
       "      <td>medium</td>\n",
       "    </tr>\n",
       "    <tr>\n",
       "      <th>1</th>\n",
       "      <td>1.0</td>\n",
       "      <td>1</td>\n",
       "      <td>2016-06-16 02:01:49</td>\n",
       "      <td>['Dogs Allowed', 'Cats Allowed', 'No Fee']</td>\n",
       "      <td>40.7275</td>\n",
       "      <td>-74.0322</td>\n",
       "      <td>2570</td>\n",
       "      <td>medium</td>\n",
       "    </tr>\n",
       "    <tr>\n",
       "      <th>2</th>\n",
       "      <td>1.0</td>\n",
       "      <td>0</td>\n",
       "      <td>2016-05-04 02:42:50</td>\n",
       "      <td>['Elevator', 'Hardwood Floors']</td>\n",
       "      <td>40.7798</td>\n",
       "      <td>-73.9751</td>\n",
       "      <td>1795</td>\n",
       "      <td>low</td>\n",
       "    </tr>\n",
       "    <tr>\n",
       "      <th>3</th>\n",
       "      <td>1.0</td>\n",
       "      <td>2</td>\n",
       "      <td>2016-05-12 05:57:56</td>\n",
       "      <td>['Swimming Pool', 'Doorman', 'Elevator', 'Fitn...</td>\n",
       "      <td>40.7081</td>\n",
       "      <td>-74.0065</td>\n",
       "      <td>3400</td>\n",
       "      <td>low</td>\n",
       "    </tr>\n",
       "    <tr>\n",
       "      <th>4</th>\n",
       "      <td>1.0</td>\n",
       "      <td>3</td>\n",
       "      <td>2016-06-16 06:06:15</td>\n",
       "      <td>['Laundry in Building', 'Laundry in Unit', 'Di...</td>\n",
       "      <td>40.7416</td>\n",
       "      <td>-74.0025</td>\n",
       "      <td>5695</td>\n",
       "      <td>low</td>\n",
       "    </tr>\n",
       "  </tbody>\n",
       "</table>\n",
       "</div>"
      ],
      "text/plain": [
       "   bathrooms  bedrooms              created  \\\n",
       "0        1.0         3  2016-05-19 18:06:27   \n",
       "1        1.0         1  2016-06-16 02:01:49   \n",
       "2        1.0         0  2016-05-04 02:42:50   \n",
       "3        1.0         2  2016-05-12 05:57:56   \n",
       "4        1.0         3  2016-06-16 06:06:15   \n",
       "\n",
       "                                            features  latitude  longitude  \\\n",
       "0          ['Laundry In Unit', 'No Fee', 'Elevator']   40.7647   -73.9918   \n",
       "1         ['Dogs Allowed', 'Cats Allowed', 'No Fee']   40.7275   -74.0322   \n",
       "2                    ['Elevator', 'Hardwood Floors']   40.7798   -73.9751   \n",
       "3  ['Swimming Pool', 'Doorman', 'Elevator', 'Fitn...   40.7081   -74.0065   \n",
       "4  ['Laundry in Building', 'Laundry in Unit', 'Di...   40.7416   -74.0025   \n",
       "\n",
       "   price  TARGET  \n",
       "0   4495  medium  \n",
       "1   2570  medium  \n",
       "2   1795     low  \n",
       "3   3400     low  \n",
       "4   5695     low  "
      ]
     },
     "execution_count": 2060,
     "metadata": {},
     "output_type": "execute_result"
    }
   ],
   "source": [
    "data = data.drop(['photos', 'manager_id', 'listing_id', 'display_address', 'building_id', 'description', 'Id', 'street_address'], axis=1)\n",
    "data.head()"
   ]
  },
  {
   "cell_type": "code",
   "execution_count": 2061,
   "metadata": {},
   "outputs": [],
   "source": [
    "data['created'] = pd.to_datetime(data['created'], format='%Y-%m-%d %H:%M:%S')"
   ]
  },
  {
   "cell_type": "code",
   "execution_count": 2062,
   "metadata": {},
   "outputs": [
    {
     "data": {
      "text/plain": [
       "0.6907021588695212"
      ]
     },
     "execution_count": 2062,
     "metadata": {},
     "output_type": "execute_result"
    }
   ],
   "source": [
    "X = data.drop(['TARGET', 'created', 'features'], axis=1)\n",
    "y = data['TARGET']\n",
    "cross_val_score(LogisticRegression(), X, y, scoring='accuracy').mean()"
   ]
  },
  {
   "cell_type": "code",
   "execution_count": 2063,
   "metadata": {},
   "outputs": [],
   "source": [
    "data['features'] = data['features'].str.replace(r'\\[||\\'||\\'||\\]', '').str.split(', ')"
   ]
  },
  {
   "cell_type": "code",
   "execution_count": 2064,
   "metadata": {},
   "outputs": [],
   "source": [
    "features = set()\n",
    "for home in data['features']:\n",
    "    for feature in home:\n",
    "        features.add(feature.lower())\n",
    "features.remove('')"
   ]
  },
  {
   "cell_type": "code",
   "execution_count": 2066,
   "metadata": {},
   "outputs": [
    {
     "data": {
      "application/vnd.jupyter.widget-view+json": {
       "model_id": "7f0e81466e584815ae6ae0fb6151fa87",
       "version_major": 2,
       "version_minor": 0
      },
      "text/plain": [
       "  0%|          | 0/1052 [00:00<?, ?it/s]"
      ]
     },
     "metadata": {},
     "output_type": "display_data"
    }
   ],
   "source": [
    "from tqdm.notebook import tqdm\n",
    "for feature in tqdm(features):\n",
    "    data[feature] = np.zeros(data['features'].size)\n",
    "    for num, home in enumerate(data['features']):\n",
    "        for i in home:\n",
    "            i = i.lower()\n",
    "            if i == feature:\n",
    "                data[feature][num] = 1\n",
    "                break\n",
    "    if data[feature].values.sum() < 0.01 * data[feature].size: data = data.drop([feature], axis=1)\n",
    "data = data.drop(['features'], axis=1)"
   ]
  },
  {
   "cell_type": "code",
   "execution_count": 2067,
   "metadata": {},
   "outputs": [
    {
     "data": {
      "text/html": [
       "<div>\n",
       "<style scoped>\n",
       "    .dataframe tbody tr th:only-of-type {\n",
       "        vertical-align: middle;\n",
       "    }\n",
       "\n",
       "    .dataframe tbody tr th {\n",
       "        vertical-align: top;\n",
       "    }\n",
       "\n",
       "    .dataframe thead th {\n",
       "        text-align: right;\n",
       "    }\n",
       "</style>\n",
       "<table border=\"1\" class=\"dataframe\">\n",
       "  <thead>\n",
       "    <tr style=\"text-align: right;\">\n",
       "      <th></th>\n",
       "      <th>bathrooms</th>\n",
       "      <th>bedrooms</th>\n",
       "      <th>created</th>\n",
       "      <th>latitude</th>\n",
       "      <th>longitude</th>\n",
       "      <th>price</th>\n",
       "      <th>TARGET</th>\n",
       "      <th>prewar</th>\n",
       "      <th>wheelchair access</th>\n",
       "      <th>fitness center</th>\n",
       "      <th>...</th>\n",
       "      <th>pre-war</th>\n",
       "      <th>high ceilings</th>\n",
       "      <th>exclusive</th>\n",
       "      <th>dining room</th>\n",
       "      <th>no fee</th>\n",
       "      <th>fireplace</th>\n",
       "      <th>laundry in unit</th>\n",
       "      <th>laundry in building</th>\n",
       "      <th>new construction</th>\n",
       "      <th>dishwasher</th>\n",
       "    </tr>\n",
       "  </thead>\n",
       "  <tbody>\n",
       "    <tr>\n",
       "      <th>0</th>\n",
       "      <td>1.0</td>\n",
       "      <td>3</td>\n",
       "      <td>2016-05-19 18:06:27</td>\n",
       "      <td>40.7647</td>\n",
       "      <td>-73.9918</td>\n",
       "      <td>4495</td>\n",
       "      <td>medium</td>\n",
       "      <td>0.0</td>\n",
       "      <td>0.0</td>\n",
       "      <td>0.0</td>\n",
       "      <td>...</td>\n",
       "      <td>0.0</td>\n",
       "      <td>0.0</td>\n",
       "      <td>0.0</td>\n",
       "      <td>0.0</td>\n",
       "      <td>1.0</td>\n",
       "      <td>0.0</td>\n",
       "      <td>1.0</td>\n",
       "      <td>0.0</td>\n",
       "      <td>0.0</td>\n",
       "      <td>0.0</td>\n",
       "    </tr>\n",
       "    <tr>\n",
       "      <th>1</th>\n",
       "      <td>1.0</td>\n",
       "      <td>1</td>\n",
       "      <td>2016-06-16 02:01:49</td>\n",
       "      <td>40.7275</td>\n",
       "      <td>-74.0322</td>\n",
       "      <td>2570</td>\n",
       "      <td>medium</td>\n",
       "      <td>0.0</td>\n",
       "      <td>0.0</td>\n",
       "      <td>0.0</td>\n",
       "      <td>...</td>\n",
       "      <td>0.0</td>\n",
       "      <td>0.0</td>\n",
       "      <td>0.0</td>\n",
       "      <td>0.0</td>\n",
       "      <td>1.0</td>\n",
       "      <td>0.0</td>\n",
       "      <td>0.0</td>\n",
       "      <td>0.0</td>\n",
       "      <td>0.0</td>\n",
       "      <td>0.0</td>\n",
       "    </tr>\n",
       "    <tr>\n",
       "      <th>2</th>\n",
       "      <td>1.0</td>\n",
       "      <td>0</td>\n",
       "      <td>2016-05-04 02:42:50</td>\n",
       "      <td>40.7798</td>\n",
       "      <td>-73.9751</td>\n",
       "      <td>1795</td>\n",
       "      <td>low</td>\n",
       "      <td>0.0</td>\n",
       "      <td>0.0</td>\n",
       "      <td>0.0</td>\n",
       "      <td>...</td>\n",
       "      <td>0.0</td>\n",
       "      <td>0.0</td>\n",
       "      <td>0.0</td>\n",
       "      <td>0.0</td>\n",
       "      <td>0.0</td>\n",
       "      <td>0.0</td>\n",
       "      <td>0.0</td>\n",
       "      <td>0.0</td>\n",
       "      <td>0.0</td>\n",
       "      <td>0.0</td>\n",
       "    </tr>\n",
       "    <tr>\n",
       "      <th>3</th>\n",
       "      <td>1.0</td>\n",
       "      <td>2</td>\n",
       "      <td>2016-05-12 05:57:56</td>\n",
       "      <td>40.7081</td>\n",
       "      <td>-74.0065</td>\n",
       "      <td>3400</td>\n",
       "      <td>low</td>\n",
       "      <td>0.0</td>\n",
       "      <td>0.0</td>\n",
       "      <td>1.0</td>\n",
       "      <td>...</td>\n",
       "      <td>0.0</td>\n",
       "      <td>0.0</td>\n",
       "      <td>0.0</td>\n",
       "      <td>0.0</td>\n",
       "      <td>1.0</td>\n",
       "      <td>0.0</td>\n",
       "      <td>1.0</td>\n",
       "      <td>0.0</td>\n",
       "      <td>0.0</td>\n",
       "      <td>1.0</td>\n",
       "    </tr>\n",
       "    <tr>\n",
       "      <th>4</th>\n",
       "      <td>1.0</td>\n",
       "      <td>3</td>\n",
       "      <td>2016-06-16 06:06:15</td>\n",
       "      <td>40.7416</td>\n",
       "      <td>-74.0025</td>\n",
       "      <td>5695</td>\n",
       "      <td>low</td>\n",
       "      <td>0.0</td>\n",
       "      <td>0.0</td>\n",
       "      <td>0.0</td>\n",
       "      <td>...</td>\n",
       "      <td>0.0</td>\n",
       "      <td>0.0</td>\n",
       "      <td>0.0</td>\n",
       "      <td>0.0</td>\n",
       "      <td>0.0</td>\n",
       "      <td>0.0</td>\n",
       "      <td>1.0</td>\n",
       "      <td>1.0</td>\n",
       "      <td>0.0</td>\n",
       "      <td>1.0</td>\n",
       "    </tr>\n",
       "  </tbody>\n",
       "</table>\n",
       "<p>5 rows × 43 columns</p>\n",
       "</div>"
      ],
      "text/plain": [
       "   bathrooms  bedrooms             created  latitude  longitude  price  \\\n",
       "0        1.0         3 2016-05-19 18:06:27   40.7647   -73.9918   4495   \n",
       "1        1.0         1 2016-06-16 02:01:49   40.7275   -74.0322   2570   \n",
       "2        1.0         0 2016-05-04 02:42:50   40.7798   -73.9751   1795   \n",
       "3        1.0         2 2016-05-12 05:57:56   40.7081   -74.0065   3400   \n",
       "4        1.0         3 2016-06-16 06:06:15   40.7416   -74.0025   5695   \n",
       "\n",
       "   TARGET  prewar  wheelchair access  fitness center  ...  pre-war  \\\n",
       "0  medium     0.0                0.0             0.0  ...      0.0   \n",
       "1  medium     0.0                0.0             0.0  ...      0.0   \n",
       "2     low     0.0                0.0             0.0  ...      0.0   \n",
       "3     low     0.0                0.0             1.0  ...      0.0   \n",
       "4     low     0.0                0.0             0.0  ...      0.0   \n",
       "\n",
       "   high ceilings  exclusive  dining room  no fee  fireplace  laundry in unit  \\\n",
       "0            0.0        0.0          0.0     1.0        0.0              1.0   \n",
       "1            0.0        0.0          0.0     1.0        0.0              0.0   \n",
       "2            0.0        0.0          0.0     0.0        0.0              0.0   \n",
       "3            0.0        0.0          0.0     1.0        0.0              1.0   \n",
       "4            0.0        0.0          0.0     0.0        0.0              1.0   \n",
       "\n",
       "   laundry in building  new construction  dishwasher  \n",
       "0                  0.0               0.0         0.0  \n",
       "1                  0.0               0.0         0.0  \n",
       "2                  0.0               0.0         0.0  \n",
       "3                  0.0               0.0         1.0  \n",
       "4                  1.0               0.0         1.0  \n",
       "\n",
       "[5 rows x 43 columns]"
      ]
     },
     "execution_count": 2067,
     "metadata": {},
     "output_type": "execute_result"
    }
   ],
   "source": [
    "data.head()"
   ]
  },
  {
   "cell_type": "code",
   "execution_count": 2068,
   "metadata": {},
   "outputs": [
    {
     "data": {
      "text/plain": [
       "0.6986047561864295"
      ]
     },
     "execution_count": 2068,
     "metadata": {},
     "output_type": "execute_result"
    }
   ],
   "source": [
    "X = data.drop(['TARGET', 'created'], axis=1)\n",
    "y = data['TARGET']\n",
    "cross_val_score(LogisticRegression(), X, y, scoring='accuracy').mean()"
   ]
  },
  {
   "cell_type": "markdown",
   "metadata": {},
   "source": [
    "отбор 1"
   ]
  },
  {
   "cell_type": "code",
   "execution_count": 2069,
   "metadata": {},
   "outputs": [],
   "source": [
    "def normalization(x):\n",
    "    return (x - x.mean()) / x.std()"
   ]
  },
  {
   "cell_type": "code",
   "execution_count": 2070,
   "metadata": {},
   "outputs": [],
   "source": [
    "X = data.drop('TARGET', axis=1)\n",
    "y = data['TARGET']"
   ]
  },
  {
   "cell_type": "code",
   "execution_count": 2071,
   "metadata": {},
   "outputs": [],
   "source": [
    "X['created'] = (X['created'] - X['created'].mean()).dt.total_seconds() / X['created'].std().total_seconds()"
   ]
  },
  {
   "cell_type": "code",
   "execution_count": 2072,
   "metadata": {},
   "outputs": [],
   "source": [
    "X['latitude'] = normalization(X['latitude'])\n",
    "X['longitude'] = normalization(X['longitude'])\n",
    "X['price'] = normalization(X['price'])"
   ]
  },
  {
   "cell_type": "code",
   "execution_count": 2073,
   "metadata": {},
   "outputs": [
    {
     "data": {
      "text/plain": [
       "0.6988652649839687"
      ]
     },
     "execution_count": 2073,
     "metadata": {},
     "output_type": "execute_result"
    }
   ],
   "source": [
    "cross_val_score(LogisticRegression(), X, y, scoring='accuracy').mean()"
   ]
  },
  {
   "cell_type": "code",
   "execution_count": 2074,
   "metadata": {},
   "outputs": [],
   "source": [
    "n = np.arange(5, 30)\n",
    "score = np.zeros(n.size)\n",
    "\n",
    "for num, val in enumerate(n):\n",
    "    X_best = SelectKBest(f_classif, k=val).fit_transform(X, y)\n",
    "    score[num] = cross_val_score(LogisticRegression(), X_best, y, scoring='accuracy').mean()"
   ]
  },
  {
   "cell_type": "code",
   "execution_count": 2075,
   "metadata": {},
   "outputs": [
    {
     "data": {
      "text/plain": [
       "[<matplotlib.lines.Line2D at 0x44530f520>]"
      ]
     },
     "execution_count": 2075,
     "metadata": {},
     "output_type": "execute_result"
    },
    {
     "data": {
      "image/png": "[encoded data removed]",
      "text/plain": [
       "<Figure size 720x288 with 1 Axes>"
      ]
     },
     "metadata": {},
     "output_type": "display_data"
    }
   ],
   "source": [
    "plt.plot(n, score)"
   ]
  },
  {
   "cell_type": "code",
   "execution_count": 2076,
   "metadata": {},
   "outputs": [
    {
     "name": "stdout",
     "output_type": "stream",
     "text": [
      "0.6962022186711307\n"
     ]
    }
   ],
   "source": [
    "print(score.max())"
   ]
  },
  {
   "cell_type": "markdown",
   "metadata": {},
   "source": [
    "отбор 2"
   ]
  },
  {
   "cell_type": "code",
   "execution_count": 2077,
   "metadata": {},
   "outputs": [],
   "source": [
    "def minmax(x):\n",
    "    return (x - x.min()) / (x.max() - x.min())"
   ]
  },
  {
   "cell_type": "code",
   "execution_count": 2078,
   "metadata": {},
   "outputs": [],
   "source": [
    "X = data.drop('TARGET', axis=1)\n",
    "y = data['TARGET']"
   ]
  },
  {
   "cell_type": "code",
   "execution_count": 2079,
   "metadata": {},
   "outputs": [],
   "source": [
    "X['created'] = (X['created'] - X['created'].min()).dt.total_seconds() / (X['created'].max() - X['created'].min()).total_seconds()"
   ]
  },
  {
   "cell_type": "code",
   "execution_count": 2080,
   "metadata": {},
   "outputs": [],
   "source": [
    "X['latitude'] = minmax(X['latitude'])\n",
    "X['longitude'] = minmax(X['longitude'])\n",
    "X['price'] = minmax(X['price'])"
   ]
  },
  {
   "cell_type": "code",
   "execution_count": 2081,
   "metadata": {},
   "outputs": [
    {
     "data": {
      "text/plain": [
       "0.6954206713322395"
      ]
     },
     "execution_count": 2081,
     "metadata": {},
     "output_type": "execute_result"
    }
   ],
   "source": [
    "cross_val_score(LogisticRegression(), X, y, scoring='accuracy').mean()"
   ]
  },
  {
   "cell_type": "code",
   "execution_count": 2083,
   "metadata": {},
   "outputs": [],
   "source": [
    "n = np.arange(5, 30)\n",
    "score = np.zeros(n.size)\n",
    "\n",
    "for num, val in enumerate(n):\n",
    "    X_best = SelectKBest(f_classif, k=val).fit_transform(X, y)\n",
    "    score[num] = cross_val_score(LogisticRegression(), X_best, y, scoring='accuracy').mean()"
   ]
  },
  {
   "cell_type": "code",
   "execution_count": 2084,
   "metadata": {},
   "outputs": [
    {
     "data": {
      "text/plain": [
       "[<matplotlib.lines.Line2D at 0x3f6d9dc10>]"
      ]
     },
     "execution_count": 2084,
     "metadata": {},
     "output_type": "execute_result"
    },
    {
     "data": {
      "image/png": "[encoded data removed]",
      "text/plain": [
       "<Figure size 720x288 with 1 Axes>"
      ]
     },
     "metadata": {},
     "output_type": "display_data"
    }
   ],
   "source": [
    "plt.plot(n, score)"
   ]
  },
  {
   "cell_type": "code",
   "execution_count": 2085,
   "metadata": {},
   "outputs": [
    {
     "name": "stdout",
     "output_type": "stream",
     "text": [
      "0.6962022186711307\n"
     ]
    }
   ],
   "source": [
    "print(score.max())"
   ]
  },
  {
   "cell_type": "code",
   "execution_count": 2086,
   "metadata": {},
   "outputs": [],
   "source": [
    "d = np.arange(0, 1, 0.1)\n",
    "score = np.zeros(d.size)\n",
    "\n",
    "for num, val in enumerate(d):\n",
    "    X_varth = VarianceThreshold(val).fit_transform(X)\n",
    "    score[num] = cross_val_score(LogisticRegression(), X_best, y, scoring='accuracy').mean()"
   ]
  },
  {
   "cell_type": "code",
   "execution_count": 2087,
   "metadata": {},
   "outputs": [
    {
     "data": {
      "text/plain": [
       "[<matplotlib.lines.Line2D at 0x3f6dfdc70>]"
      ]
     },
     "execution_count": 2087,
     "metadata": {},
     "output_type": "execute_result"
    },
    {
     "data": {
      "image/png": "[encoded data removed]",
      "text/plain": [
       "<Figure size 720x288 with 1 Axes>"
      ]
     },
     "metadata": {},
     "output_type": "display_data"
    }
   ],
   "source": [
    "plt.plot(d, score)"
   ]
  },
  {
   "cell_type": "code",
   "execution_count": 2088,
   "metadata": {},
   "outputs": [
    {
     "name": "stdout",
     "output_type": "stream",
     "text": [
      "0.6945522388528648\n"
     ]
    }
   ],
   "source": [
    "print(score.max())"
   ]
  },
  {
   "cell_type": "markdown",
   "metadata": {},
   "source": [
    "регуляризация"
   ]
  },
  {
   "cell_type": "code",
   "execution_count": 2089,
   "metadata": {},
   "outputs": [],
   "source": [
    "X = data.drop('TARGET', axis=1)\n",
    "y = data['TARGET']"
   ]
  },
  {
   "cell_type": "code",
   "execution_count": 2090,
   "metadata": {},
   "outputs": [],
   "source": [
    "X['created'] = (X['created'] - X['created'].mean()).dt.total_seconds() / X['created'].std().total_seconds()"
   ]
  },
  {
   "cell_type": "code",
   "execution_count": 2091,
   "metadata": {},
   "outputs": [],
   "source": [
    "X['latitude'] = normalization(X['latitude'])\n",
    "X['longitude'] = normalization(X['longitude'])\n",
    "X['price'] = normalization(X['price'])"
   ]
  },
  {
   "cell_type": "code",
   "execution_count": 2092,
   "metadata": {},
   "outputs": [
    {
     "data": {
      "text/plain": [
       "0.6988652649839687"
      ]
     },
     "execution_count": 2092,
     "metadata": {},
     "output_type": "execute_result"
    }
   ],
   "source": [
    "cross_val_score(LogisticRegression(penalty='l2'), X, y, scoring='accuracy').mean()"
   ]
  },
  {
   "cell_type": "markdown",
   "metadata": {},
   "source": [
    "комбинирование"
   ]
  },
  {
   "cell_type": "code",
   "execution_count": 2093,
   "metadata": {},
   "outputs": [],
   "source": [
    "X = data.drop('TARGET', axis=1)\n",
    "y = data['TARGET']"
   ]
  },
  {
   "cell_type": "code",
   "execution_count": 2094,
   "metadata": {},
   "outputs": [
    {
     "name": "stdout",
     "output_type": "stream",
     "text": [
      "<class 'pandas.core.frame.DataFrame'>\n",
      "RangeIndex: 34546 entries, 0 to 34545\n",
      "Data columns (total 42 columns):\n",
      " #   Column                 Non-Null Count  Dtype         \n",
      "---  ------                 --------------  -----         \n",
      " 0   bathrooms              34546 non-null  float64       \n",
      " 1   bedrooms               34546 non-null  int64         \n",
      " 2   created                34546 non-null  datetime64[ns]\n",
      " 3   latitude               34546 non-null  float64       \n",
      " 4   longitude              34546 non-null  float64       \n",
      " 5   price                  34546 non-null  int64         \n",
      " 6   prewar                 34546 non-null  float64       \n",
      " 7   wheelchair access      34546 non-null  float64       \n",
      " 8   fitness center         34546 non-null  float64       \n",
      " 9   lowrise                34546 non-null  float64       \n",
      " 10  private outdoor space  34546 non-null  float64       \n",
      " 11  reduced fee            34546 non-null  float64       \n",
      " 12  multi-level            34546 non-null  float64       \n",
      " 13  furnished              34546 non-null  float64       \n",
      " 14  swimming pool          34546 non-null  float64       \n",
      " 15  outdoor space          34546 non-null  float64       \n",
      " 16  doorman                34546 non-null  float64       \n",
      " 17  common outdoor space   34546 non-null  float64       \n",
      " 18  simplex                34546 non-null  float64       \n",
      " 19  terrace                34546 non-null  float64       \n",
      " 20  laundry room           34546 non-null  float64       \n",
      " 21  garage                 34546 non-null  float64       \n",
      " 22  high speed internet    34546 non-null  float64       \n",
      " 23  hardwood               34546 non-null  float64       \n",
      " 24  garden/patio           34546 non-null  float64       \n",
      " 25  loft                   34546 non-null  float64       \n",
      " 26  roof deck              34546 non-null  float64       \n",
      " 27  cats allowed           34546 non-null  float64       \n",
      " 28  hardwood floors        34546 non-null  float64       \n",
      " 29  dogs allowed           34546 non-null  float64       \n",
      " 30  balcony                34546 non-null  float64       \n",
      " 31  elevator               34546 non-null  float64       \n",
      " 32  pre-war                34546 non-null  float64       \n",
      " 33  high ceilings          34546 non-null  float64       \n",
      " 34  exclusive              34546 non-null  float64       \n",
      " 35  dining room            34546 non-null  float64       \n",
      " 36  no fee                 34546 non-null  float64       \n",
      " 37  fireplace              34546 non-null  float64       \n",
      " 38  laundry in unit        34546 non-null  float64       \n",
      " 39  laundry in building    34546 non-null  float64       \n",
      " 40  new construction       34546 non-null  float64       \n",
      " 41  dishwasher             34546 non-null  float64       \n",
      "dtypes: datetime64[ns](1), float64(39), int64(2)\n",
      "memory usage: 11.1 MB\n"
     ]
    }
   ],
   "source": [
    "X.info()"
   ]
  },
  {
   "cell_type": "code",
   "execution_count": 2095,
   "metadata": {},
   "outputs": [],
   "source": [
    "X['price_per_room'] = X['price'] / (X['bedrooms'] + X['bathrooms'])\n",
    "X['price_per_room'][X['price_per_room'] == np.inf] = np.NaN\n",
    "X['price_per_room'] = X['price_per_room'].fillna(X['price_per_room'][X['price_per_room'].notna()].mean())"
   ]
  },
  {
   "cell_type": "code",
   "execution_count": 2096,
   "metadata": {},
   "outputs": [],
   "source": [
    "X['laundry'] = X['laundry room'] + X['laundry in unit'] + X['laundry in building']\n",
    "X['prewar'] = X['pre-war'] + X['prewar']\n",
    "X['pets'] = X['cats allowed'] + X['dogs allowed']\n",
    "X = X.drop(['laundry room', 'laundry in unit', 'laundry in building', 'pre-war', 'cats allowed',\n",
    "            'dogs allowed'], axis=1)"
   ]
  },
  {
   "cell_type": "code",
   "execution_count": 2097,
   "metadata": {},
   "outputs": [
    {
     "data": {
      "image/png": "[encoded data removed]",
      "text/plain": [
       "<Figure size 3384x2880 with 2 Axes>"
      ]
     },
     "metadata": {},
     "output_type": "display_data"
    }
   ],
   "source": [
    "plt.figure(figsize=(47, 40))\n",
    "sns.heatmap(X.corr(method='spearman'))\n",
    "plt.title('Визуализация коэффициентов корреляции Спирмена между признаками', y=1.01, size=26)\n",
    "plt.show()"
   ]
  },
  {
   "cell_type": "code",
   "execution_count": 2098,
   "metadata": {},
   "outputs": [],
   "source": [
    "X['pb'] = X['price_per_room'] / X['bedrooms']\n",
    "X['pb'][X['pb'] == np.inf] = np.NaN\n",
    "X['pb'] = X['pb'].fillna(X['pb'][X['pb'].notna()].mean())"
   ]
  },
  {
   "cell_type": "code",
   "execution_count": 2099,
   "metadata": {},
   "outputs": [],
   "source": [
    "X['created'] = (X['created'] - X['created'].mean()).dt.total_seconds() / X['created'].std().total_seconds()"
   ]
  },
  {
   "cell_type": "code",
   "execution_count": 2100,
   "metadata": {},
   "outputs": [],
   "source": [
    "X['latitude'] = normalization(X['latitude'])\n",
    "X['longitude'] = normalization(X['longitude'])\n",
    "X['price'] = normalization(X['price'])\n",
    "X['price_per_room'] = normalization(X['price_per_room'])\n",
    "X['pb'] = normalization(X['pb'])"
   ]
  },
  {
   "cell_type": "code",
   "execution_count": 2101,
   "metadata": {},
   "outputs": [
    {
     "data": {
      "text/plain": [
       "0.7012679030413779"
      ]
     },
     "execution_count": 2101,
     "metadata": {},
     "output_type": "execute_result"
    }
   ],
   "source": [
    "cross_val_score(LogisticRegression(), X, y, scoring='accuracy').mean()"
   ]
  },
  {
   "cell_type": "code",
   "execution_count": 2102,
   "metadata": {},
   "outputs": [],
   "source": [
    "reg = LogisticRegression().fit(X, y)"
   ]
  },
  {
   "cell_type": "markdown",
   "metadata": {},
   "source": [
    "предсказание"
   ]
  },
  {
   "cell_type": "code",
   "execution_count": 2103,
   "metadata": {},
   "outputs": [
    {
     "name": "stdout",
     "output_type": "stream",
     "text": [
      "<class 'pandas.core.frame.DataFrame'>\n",
      "RangeIndex: 14806 entries, 0 to 14805\n",
      "Data columns (total 15 columns):\n",
      " #   Column           Non-Null Count  Dtype  \n",
      "---  ------           --------------  -----  \n",
      " 0   Id               14806 non-null  object \n",
      " 1   bathrooms        14806 non-null  float64\n",
      " 2   bedrooms         14806 non-null  int64  \n",
      " 3   building_id      14806 non-null  object \n",
      " 4   created          14806 non-null  object \n",
      " 5   description      14397 non-null  object \n",
      " 6   display_address  14759 non-null  object \n",
      " 7   features         14806 non-null  object \n",
      " 8   latitude         14806 non-null  float64\n",
      " 9   listing_id       14806 non-null  int64  \n",
      " 10  longitude        14806 non-null  float64\n",
      " 11  manager_id       14806 non-null  object \n",
      " 12  photos           14806 non-null  object \n",
      " 13  price            14806 non-null  int64  \n",
      " 14  street_address   14800 non-null  object \n",
      "dtypes: float64(3), int64(3), object(9)\n",
      "memory usage: 1.7+ MB\n"
     ]
    }
   ],
   "source": [
    "df = pd.read_csv('test.csv') #файл со страницы соревнования\n",
    "df.info()"
   ]
  },
  {
   "cell_type": "code",
   "execution_count": 2104,
   "metadata": {},
   "outputs": [
    {
     "data": {
      "text/html": [
       "<div>\n",
       "<style scoped>\n",
       "    .dataframe tbody tr th:only-of-type {\n",
       "        vertical-align: middle;\n",
       "    }\n",
       "\n",
       "    .dataframe tbody tr th {\n",
       "        vertical-align: top;\n",
       "    }\n",
       "\n",
       "    .dataframe thead th {\n",
       "        text-align: right;\n",
       "    }\n",
       "</style>\n",
       "<table border=\"1\" class=\"dataframe\">\n",
       "  <thead>\n",
       "    <tr style=\"text-align: right;\">\n",
       "      <th></th>\n",
       "      <th>Id</th>\n",
       "      <th>bathrooms</th>\n",
       "      <th>bedrooms</th>\n",
       "      <th>building_id</th>\n",
       "      <th>created</th>\n",
       "      <th>description</th>\n",
       "      <th>display_address</th>\n",
       "      <th>features</th>\n",
       "      <th>latitude</th>\n",
       "      <th>listing_id</th>\n",
       "      <th>longitude</th>\n",
       "      <th>manager_id</th>\n",
       "      <th>photos</th>\n",
       "      <th>price</th>\n",
       "      <th>street_address</th>\n",
       "    </tr>\n",
       "  </thead>\n",
       "  <tbody>\n",
       "    <tr>\n",
       "      <th>0</th>\n",
       "      <td>low</td>\n",
       "      <td>2.0</td>\n",
       "      <td>3</td>\n",
       "      <td>87c4e08083ac83618dd9fdbf849331fe</td>\n",
       "      <td>2016-06-21 03:21:59</td>\n",
       "      <td>Rent listed is net effective after one month f...</td>\n",
       "      <td>E 77 St.</td>\n",
       "      <td>['Pre-War', 'Laundry in Unit', 'Dishwasher', '...</td>\n",
       "      <td>40.7716</td>\n",
       "      <td>7189305</td>\n",
       "      <td>-73.9544</td>\n",
       "      <td>e6472c7237327dd3903b3d6f6a94515a</td>\n",
       "      <td>['https://photos.renthop.com/2/7189305_f47ed5c...</td>\n",
       "      <td>4675</td>\n",
       "      <td>339 E 77 St.</td>\n",
       "    </tr>\n",
       "    <tr>\n",
       "      <th>1</th>\n",
       "      <td>low</td>\n",
       "      <td>1.0</td>\n",
       "      <td>2</td>\n",
       "      <td>850c3d4412aebb3335273ed95f3e4bd4</td>\n",
       "      <td>2016-06-11 03:47:06</td>\n",
       "      <td>A FABULOUS 2BR IN THE UPPER EAST SIDE! PERFECT...</td>\n",
       "      <td>E 112 Street</td>\n",
       "      <td>[]</td>\n",
       "      <td>40.7944</td>\n",
       "      <td>7140670</td>\n",
       "      <td>-73.9401</td>\n",
       "      <td>3e9f0fa34d67e5d61aae56776ecb8cee</td>\n",
       "      <td>['https://photos.renthop.com/2/7140670_6c5824f...</td>\n",
       "      <td>2100</td>\n",
       "      <td>252 E 112 Street</td>\n",
       "    </tr>\n",
       "    <tr>\n",
       "      <th>2</th>\n",
       "      <td>low</td>\n",
       "      <td>1.0</td>\n",
       "      <td>2</td>\n",
       "      <td>84ddf917a091828ab9baedc0c926470e</td>\n",
       "      <td>2016-04-17 02:45:19</td>\n",
       "      <td>This is a great true 2 bedroom in a prime Midt...</td>\n",
       "      <td>Ninth Avenue</td>\n",
       "      <td>['Dogs Allowed', 'Cats Allowed']</td>\n",
       "      <td>40.7650</td>\n",
       "      <td>6886239</td>\n",
       "      <td>-73.9882</td>\n",
       "      <td>10b1ae0a38d50b7ba0cee612d14af9eb</td>\n",
       "      <td>['https://photos.renthop.com/2/6886239_533bbee...</td>\n",
       "      <td>2800</td>\n",
       "      <td>783 Ninth Avenue</td>\n",
       "    </tr>\n",
       "    <tr>\n",
       "      <th>3</th>\n",
       "      <td>high</td>\n",
       "      <td>2.0</td>\n",
       "      <td>3</td>\n",
       "      <td>315a2f868a195b076e5be73411110da2</td>\n",
       "      <td>2016-05-07 11:44:35</td>\n",
       "      <td>Brand new custom renovation in beautiful three...</td>\n",
       "      <td>East 12th street</td>\n",
       "      <td>['Laundry In Unit', 'No Fee', 'Washer/Dryer in...</td>\n",
       "      <td>40.7288</td>\n",
       "      <td>6981146</td>\n",
       "      <td>-73.9808</td>\n",
       "      <td>e9920062e07ee893c10e38d0259665b0</td>\n",
       "      <td>['https://photos.renthop.com/2/6981146_f4a7400...</td>\n",
       "      <td>5500</td>\n",
       "      <td>186 Avenue B</td>\n",
       "    </tr>\n",
       "    <tr>\n",
       "      <th>4</th>\n",
       "      <td>medium</td>\n",
       "      <td>1.0</td>\n",
       "      <td>3</td>\n",
       "      <td>9b525bacc8d294728c35f27c04e22f46</td>\n",
       "      <td>2016-06-24 07:33:26</td>\n",
       "      <td>Welcome Home! Located on a Prime UWS Block, Ba...</td>\n",
       "      <td>West 86th&amp;Columbus</td>\n",
       "      <td>['Private Outdoor Space', 'Elevator', 'Laundry...</td>\n",
       "      <td>40.7864</td>\n",
       "      <td>7210864</td>\n",
       "      <td>-73.9713</td>\n",
       "      <td>6d389fbe372d4d30b17733caa9370f95</td>\n",
       "      <td>['https://photos.renthop.com/2/7210864_e8528f4...</td>\n",
       "      <td>3995</td>\n",
       "      <td>47 West 86th street</td>\n",
       "    </tr>\n",
       "  </tbody>\n",
       "</table>\n",
       "</div>"
      ],
      "text/plain": [
       "       Id  bathrooms  bedrooms                       building_id  \\\n",
       "0     low        2.0         3  87c4e08083ac83618dd9fdbf849331fe   \n",
       "1     low        1.0         2  850c3d4412aebb3335273ed95f3e4bd4   \n",
       "2     low        1.0         2  84ddf917a091828ab9baedc0c926470e   \n",
       "3    high        2.0         3  315a2f868a195b076e5be73411110da2   \n",
       "4  medium        1.0         3  9b525bacc8d294728c35f27c04e22f46   \n",
       "\n",
       "               created                                        description  \\\n",
       "0  2016-06-21 03:21:59  Rent listed is net effective after one month f...   \n",
       "1  2016-06-11 03:47:06  A FABULOUS 2BR IN THE UPPER EAST SIDE! PERFECT...   \n",
       "2  2016-04-17 02:45:19  This is a great true 2 bedroom in a prime Midt...   \n",
       "3  2016-05-07 11:44:35  Brand new custom renovation in beautiful three...   \n",
       "4  2016-06-24 07:33:26  Welcome Home! Located on a Prime UWS Block, Ba...   \n",
       "\n",
       "       display_address                                           features  \\\n",
       "0             E 77 St.  ['Pre-War', 'Laundry in Unit', 'Dishwasher', '...   \n",
       "1         E 112 Street                                                 []   \n",
       "2         Ninth Avenue                   ['Dogs Allowed', 'Cats Allowed']   \n",
       "3    East 12th street   ['Laundry In Unit', 'No Fee', 'Washer/Dryer in...   \n",
       "4  West 86th&Columbus   ['Private Outdoor Space', 'Elevator', 'Laundry...   \n",
       "\n",
       "   latitude  listing_id  longitude                        manager_id  \\\n",
       "0   40.7716     7189305   -73.9544  e6472c7237327dd3903b3d6f6a94515a   \n",
       "1   40.7944     7140670   -73.9401  3e9f0fa34d67e5d61aae56776ecb8cee   \n",
       "2   40.7650     6886239   -73.9882  10b1ae0a38d50b7ba0cee612d14af9eb   \n",
       "3   40.7288     6981146   -73.9808  e9920062e07ee893c10e38d0259665b0   \n",
       "4   40.7864     7210864   -73.9713  6d389fbe372d4d30b17733caa9370f95   \n",
       "\n",
       "                                              photos  price  \\\n",
       "0  ['https://photos.renthop.com/2/7189305_f47ed5c...   4675   \n",
       "1  ['https://photos.renthop.com/2/7140670_6c5824f...   2100   \n",
       "2  ['https://photos.renthop.com/2/6886239_533bbee...   2800   \n",
       "3  ['https://photos.renthop.com/2/6981146_f4a7400...   5500   \n",
       "4  ['https://photos.renthop.com/2/7210864_e8528f4...   3995   \n",
       "\n",
       "        street_address  \n",
       "0         339 E 77 St.  \n",
       "1     252 E 112 Street  \n",
       "2     783 Ninth Avenue  \n",
       "3         186 Avenue B  \n",
       "4  47 West 86th street  "
      ]
     },
     "execution_count": 2104,
     "metadata": {},
     "output_type": "execute_result"
    }
   ],
   "source": [
    "df.head()"
   ]
  },
  {
   "cell_type": "code",
   "execution_count": 2105,
   "metadata": {},
   "outputs": [
    {
     "data": {
      "text/html": [
       "<div>\n",
       "<style scoped>\n",
       "    .dataframe tbody tr th:only-of-type {\n",
       "        vertical-align: middle;\n",
       "    }\n",
       "\n",
       "    .dataframe tbody tr th {\n",
       "        vertical-align: top;\n",
       "    }\n",
       "\n",
       "    .dataframe thead th {\n",
       "        text-align: right;\n",
       "    }\n",
       "</style>\n",
       "<table border=\"1\" class=\"dataframe\">\n",
       "  <thead>\n",
       "    <tr style=\"text-align: right;\">\n",
       "      <th></th>\n",
       "      <th>bathrooms</th>\n",
       "      <th>bedrooms</th>\n",
       "      <th>created</th>\n",
       "      <th>features</th>\n",
       "      <th>latitude</th>\n",
       "      <th>longitude</th>\n",
       "      <th>price</th>\n",
       "    </tr>\n",
       "  </thead>\n",
       "  <tbody>\n",
       "    <tr>\n",
       "      <th>0</th>\n",
       "      <td>2.0</td>\n",
       "      <td>3</td>\n",
       "      <td>2016-06-21 03:21:59</td>\n",
       "      <td>['Pre-War', 'Laundry in Unit', 'Dishwasher', '...</td>\n",
       "      <td>40.7716</td>\n",
       "      <td>-73.9544</td>\n",
       "      <td>4675</td>\n",
       "    </tr>\n",
       "    <tr>\n",
       "      <th>1</th>\n",
       "      <td>1.0</td>\n",
       "      <td>2</td>\n",
       "      <td>2016-06-11 03:47:06</td>\n",
       "      <td>[]</td>\n",
       "      <td>40.7944</td>\n",
       "      <td>-73.9401</td>\n",
       "      <td>2100</td>\n",
       "    </tr>\n",
       "    <tr>\n",
       "      <th>2</th>\n",
       "      <td>1.0</td>\n",
       "      <td>2</td>\n",
       "      <td>2016-04-17 02:45:19</td>\n",
       "      <td>['Dogs Allowed', 'Cats Allowed']</td>\n",
       "      <td>40.7650</td>\n",
       "      <td>-73.9882</td>\n",
       "      <td>2800</td>\n",
       "    </tr>\n",
       "    <tr>\n",
       "      <th>3</th>\n",
       "      <td>2.0</td>\n",
       "      <td>3</td>\n",
       "      <td>2016-05-07 11:44:35</td>\n",
       "      <td>['Laundry In Unit', 'No Fee', 'Washer/Dryer in...</td>\n",
       "      <td>40.7288</td>\n",
       "      <td>-73.9808</td>\n",
       "      <td>5500</td>\n",
       "    </tr>\n",
       "    <tr>\n",
       "      <th>4</th>\n",
       "      <td>1.0</td>\n",
       "      <td>3</td>\n",
       "      <td>2016-06-24 07:33:26</td>\n",
       "      <td>['Private Outdoor Space', 'Elevator', 'Laundry...</td>\n",
       "      <td>40.7864</td>\n",
       "      <td>-73.9713</td>\n",
       "      <td>3995</td>\n",
       "    </tr>\n",
       "  </tbody>\n",
       "</table>\n",
       "</div>"
      ],
      "text/plain": [
       "   bathrooms  bedrooms              created  \\\n",
       "0        2.0         3  2016-06-21 03:21:59   \n",
       "1        1.0         2  2016-06-11 03:47:06   \n",
       "2        1.0         2  2016-04-17 02:45:19   \n",
       "3        2.0         3  2016-05-07 11:44:35   \n",
       "4        1.0         3  2016-06-24 07:33:26   \n",
       "\n",
       "                                            features  latitude  longitude  \\\n",
       "0  ['Pre-War', 'Laundry in Unit', 'Dishwasher', '...   40.7716   -73.9544   \n",
       "1                                                 []   40.7944   -73.9401   \n",
       "2                   ['Dogs Allowed', 'Cats Allowed']   40.7650   -73.9882   \n",
       "3  ['Laundry In Unit', 'No Fee', 'Washer/Dryer in...   40.7288   -73.9808   \n",
       "4  ['Private Outdoor Space', 'Elevator', 'Laundry...   40.7864   -73.9713   \n",
       "\n",
       "   price  \n",
       "0   4675  \n",
       "1   2100  \n",
       "2   2800  \n",
       "3   5500  \n",
       "4   3995  "
      ]
     },
     "execution_count": 2105,
     "metadata": {},
     "output_type": "execute_result"
    }
   ],
   "source": [
    "df = df.drop(['photos', 'manager_id', 'listing_id', 'display_address', 'building_id', 'description', 'Id', 'street_address'], axis=1)\n",
    "df.head()"
   ]
  },
  {
   "cell_type": "code",
   "execution_count": 2106,
   "metadata": {},
   "outputs": [],
   "source": [
    "df['created'] = pd.to_datetime(df['created'], format='%Y-%m-%d %H:%M:%S')"
   ]
  },
  {
   "cell_type": "code",
   "execution_count": 2107,
   "metadata": {},
   "outputs": [],
   "source": [
    "df['features'] = df['features'].str.replace(r'\\[||\\'||\\'||\\]', '').str.split(', ')"
   ]
  },
  {
   "cell_type": "code",
   "execution_count": 2108,
   "metadata": {},
   "outputs": [],
   "source": [
    "for home in df['features']:\n",
    "    for feature in home:\n",
    "        features.add(feature.lower())\n",
    "features.remove('')"
   ]
  },
  {
   "cell_type": "code",
   "execution_count": 2109,
   "metadata": {},
   "outputs": [
    {
     "data": {
      "application/vnd.jupyter.widget-view+json": {
       "model_id": "652b370e01d24e3b8604e838be799277",
       "version_major": 2,
       "version_minor": 0
      },
      "text/plain": [
       "  0%|          | 0/1294 [00:00<?, ?it/s]"
      ]
     },
     "metadata": {},
     "output_type": "display_data"
    }
   ],
   "source": [
    "from tqdm.notebook import tqdm\n",
    "for feature in tqdm(features):\n",
    "    df[feature] = np.zeros(df['features'].size)\n",
    "    for num, home in enumerate(df['features']):\n",
    "        for i in home:\n",
    "            i = i.lower()\n",
    "            if i == feature:\n",
    "                df[feature][num] = 1\n",
    "                break\n",
    "    if df[feature].values.sum() < 0.01 * df[feature].size: df = df.drop([feature], axis=1)\n",
    "df = df.drop(['features'], axis=1)"
   ]
  },
  {
   "cell_type": "code",
   "execution_count": 2110,
   "metadata": {},
   "outputs": [],
   "source": [
    "X = df"
   ]
  },
  {
   "cell_type": "code",
   "execution_count": 2111,
   "metadata": {},
   "outputs": [],
   "source": [
    "X['price_per_room'] = X['price'] / (X['bedrooms'] + X['bathrooms'])\n",
    "X['price_per_room'][X['price_per_room'] == np.inf] = np.NaN\n",
    "X['price_per_room'] = X['price_per_room'].fillna(X['price_per_room'][X['price_per_room'].notna()].mean())"
   ]
  },
  {
   "cell_type": "code",
   "execution_count": 2112,
   "metadata": {},
   "outputs": [],
   "source": [
    "X['laundry'] = X['laundry room'] + X['laundry in unit'] + X['laundry in building']\n",
    "X['prewar'] = X['pre-war'] + X['prewar']\n",
    "X['pets'] = X['cats allowed'] + X['dogs allowed']\n",
    "X = X.drop(['laundry room', 'laundry in unit', 'laundry in building', 'pre-war', 'cats allowed',\n",
    "            'dogs allowed'], axis=1)"
   ]
  },
  {
   "cell_type": "code",
   "execution_count": 2113,
   "metadata": {},
   "outputs": [],
   "source": [
    "X['pb'] = X['price_per_room'] / X['bedrooms']\n",
    "X['pb'][X['pb'] == np.inf] = np.NaN\n",
    "X['pb'] = X['pb'].fillna(X['pb'][X['pb'].notna()].mean())"
   ]
  },
  {
   "cell_type": "code",
   "execution_count": 2114,
   "metadata": {},
   "outputs": [],
   "source": [
    "X['created'] = (X['created'] - X['created'].mean()).dt.total_seconds() / X['created'].std().total_seconds()"
   ]
  },
  {
   "cell_type": "code",
   "execution_count": 2115,
   "metadata": {},
   "outputs": [],
   "source": [
    "X['latitude'] = normalization(X['latitude'])\n",
    "X['longitude'] = normalization(X['longitude'])\n",
    "X['price'] = normalization(X['price'])\n",
    "X['price_per_room'] = normalization(X['price_per_room'])\n",
    "X['pb'] = normalization(X['pb'])"
   ]
  },
  {
   "cell_type": "code",
   "execution_count": 2116,
   "metadata": {},
   "outputs": [],
   "source": [
    "target = reg.predict(X)"
   ]
  },
  {
   "cell_type": "code",
   "execution_count": 2139,
   "metadata": {},
   "outputs": [],
   "source": [
    "df = pd.read_csv('sample_submission.csv')"
   ]
  },
  {
   "cell_type": "code",
   "execution_count": 2140,
   "metadata": {},
   "outputs": [],
   "source": [
    "df['TARGET'] = target"
   ]
  },
  {
   "cell_type": "code",
   "execution_count": 2141,
   "metadata": {},
   "outputs": [],
   "source": [
    "df.to_csv('submission.csv', index=False)"
   ]
  }
 ],
 "metadata": {
  "colab": {
   "name": "seminar5.ipynb",
   "provenance": [],
   "version": "0.3.2"
  },
  "interpreter": {
   "hash": "b0fa6594d8f4cbf19f97940f81e996739fb7646882a419484c72d19e05852a7e"
  },
  "kernelspec": {
   "display_name": "Python 3.9.12 64-bit",
   "language": "python",
   "name": "python3"
  },
  "language_info": {
   "codemirror_mode": {
    "name": "ipython",
    "version": 3
   },
   "file_extension": ".py",
   "mimetype": "text/x-python",
   "name": "python",
   "nbconvert_exporter": "python",
   "pygments_lexer": "ipython3",
   "version": "3.9.12"
  }
 },
 "nbformat": 4,
 "nbformat_minor": 1
}
